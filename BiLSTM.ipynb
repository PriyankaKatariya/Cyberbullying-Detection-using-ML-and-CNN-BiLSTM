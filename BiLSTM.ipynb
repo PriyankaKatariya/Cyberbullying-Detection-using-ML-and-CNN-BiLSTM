{
 "cells": [
  {
   "cell_type": "markdown",
   "metadata": {},
   "source": [
    "## Bi-LSTM"
   ]
  },
  {
   "cell_type": "code",
   "execution_count": 56,
   "metadata": {
    "execution": {
     "iopub.execute_input": "2023-12-28T12:06:45.029110Z",
     "iopub.status.busy": "2023-12-28T12:06:45.028757Z",
     "iopub.status.idle": "2023-12-28T12:06:47.432320Z",
     "shell.execute_reply": "2023-12-28T12:06:47.425092Z",
     "shell.execute_reply.started": "2023-12-28T12:06:45.029008Z"
    },
    "id": "D0GOzHmK5QsH",
    "outputId": "6d6c64e4-3e99-4f85-b52e-323b3c44638c",
    "scrolled": true
   },
   "outputs": [
    {
     "name": "stderr",
     "output_type": "stream",
     "text": [
      "/var/folders/yy/w_zhskrd2tsfcth5m01v198w0000gn/T/ipykernel_28751/1825884010.py:59: MatplotlibDeprecationWarning: The seaborn styles shipped by Matplotlib are deprecated since 3.6, as they no longer correspond to the styles shipped by seaborn. However, they will remain available as 'seaborn-v0_8-<style>'. Alternatively, directly use the seaborn API instead.\n",
      "  plt.style.use(\"seaborn-whitegrid\")\n"
     ]
    },
    {
     "data": {
      "text/plain": [
       "<Figure size 640x480 with 0 Axes>"
      ]
     },
     "metadata": {},
     "output_type": "display_data"
    }
   ],
   "source": [
    "# Libraries for general purpose\n",
    "import pandas as pd\n",
    "import numpy as np\n",
    "import matplotlib.pyplot as plt\n",
    "import seaborn as sns\n",
    "\n",
    "# Text cleaning\n",
    "import re\n",
    "import string\n",
    "import emoji\n",
    "import nltk\n",
    "from nltk.stem import WordNetLemmatizer, PorterStemmer\n",
    "from nltk.corpus import stopwords\n",
    "\n",
    "# Data preprocessing\n",
    "from sklearn import preprocessing\n",
    "from sklearn.model_selection import train_test_split\n",
    "#from imblearn.over_sampling import RandomOverSampler\n",
    "from langdetect import detect, LangDetectException\n",
    "import contractions\n",
    "from nltk.tokenize import word_tokenize\n",
    "\n",
    "# Naive Bayes\n",
    "from sklearn.feature_extraction.text import CountVectorizer\n",
    "from sklearn.feature_extraction.text import TfidfTransformer\n",
    "from sklearn.naive_bayes import MultinomialNB\n",
    "\n",
    "# PyTorch LSTM\n",
    "import torch\n",
    "import torch.nn as nn\n",
    "import torch.nn.functional as F\n",
    "import torch.optim as optim\n",
    "from torch.utils.data import TensorDataset, DataLoader, RandomSampler, SequentialSampler\n",
    "\n",
    "# Tokenization for LSTM\n",
    "from collections import Counter\n",
    "from gensim.models import Word2Vec\n",
    "\n",
    "# Transformers library for BERT\n",
    "import transformers\n",
    "from transformers import BertModel\n",
    "from transformers import BertTokenizer\n",
    "from transformers import AdamW, get_linear_schedule_with_warmup\n",
    "from sklearn.metrics import classification_report, confusion_matrix\n",
    "\n",
    "import time\n",
    "\n",
    "# Set seed for reproducibility\n",
    "import random\n",
    "seed_value = 2042\n",
    "random.seed(seed_value)\n",
    "np.random.seed(seed_value)\n",
    "torch.manual_seed(seed_value)\n",
    "torch.cuda.manual_seed_all(seed_value)\n",
    "\n",
    "# Set style for plots\n",
    "sns.set_style(\"whitegrid\")\n",
    "sns.despine()\n",
    "plt.style.use(\"seaborn-whitegrid\")\n",
    "plt.rc(\"figure\", autolayout=True)\n",
    "plt.rc(\"axes\", labelweight=\"bold\", labelsize=\"large\", titleweight=\"bold\", titlepad=10)\n",
    "\n",
    "# Define stop words for text cleaning\n",
    "stop_words = set(stopwords.words('english'))\n",
    "\n",
    "# Initialize lemmatizer for text cleaning\n",
    "lemmatizer = WordNetLemmatizer()"
   ]
  },
  {
   "cell_type": "markdown",
   "metadata": {},
   "source": [
    "## Data Import"
   ]
  },
  {
   "cell_type": "code",
   "execution_count": 12,
   "metadata": {
    "execution": {
     "iopub.status.busy": "2023-12-28T12:06:47.433443Z",
     "iopub.status.idle": "2023-12-28T12:06:47.433846Z",
     "shell.execute_reply": "2023-12-28T12:06:47.433672Z",
     "shell.execute_reply.started": "2023-12-28T12:06:47.433651Z"
    },
    "id": "aCVJ1XJi5QsI"
   },
   "outputs": [],
   "source": [
    "df = pd.read_csv('/Users/localadmin/Desktop/bda datasets/cyberbullying_tweets.csv')"
   ]
  },
  {
   "cell_type": "code",
   "execution_count": 13,
   "metadata": {
    "execution": {
     "iopub.status.busy": "2023-12-28T12:06:47.434841Z",
     "iopub.status.idle": "2023-12-28T12:06:47.435196Z",
     "shell.execute_reply": "2023-12-28T12:06:47.435018Z",
     "shell.execute_reply.started": "2023-12-28T12:06:47.434999Z"
    },
    "id": "NPhe4rM35QsJ",
    "outputId": "af96c916-52c8-431b-a85c-bb72d1ce6bce"
   },
   "outputs": [
    {
     "data": {
      "text/html": [
       "<div>\n",
       "<style scoped>\n",
       "    .dataframe tbody tr th:only-of-type {\n",
       "        vertical-align: middle;\n",
       "    }\n",
       "\n",
       "    .dataframe tbody tr th {\n",
       "        vertical-align: top;\n",
       "    }\n",
       "\n",
       "    .dataframe thead th {\n",
       "        text-align: right;\n",
       "    }\n",
       "</style>\n",
       "<table border=\"1\" class=\"dataframe\">\n",
       "  <thead>\n",
       "    <tr style=\"text-align: right;\">\n",
       "      <th></th>\n",
       "      <th>tweet_text</th>\n",
       "      <th>cyberbullying_type</th>\n",
       "    </tr>\n",
       "  </thead>\n",
       "  <tbody>\n",
       "    <tr>\n",
       "      <th>0</th>\n",
       "      <td>In other words #katandandre, your food was cra...</td>\n",
       "      <td>not_cyberbullying</td>\n",
       "    </tr>\n",
       "    <tr>\n",
       "      <th>1</th>\n",
       "      <td>Why is #aussietv so white? #MKR #theblock #ImA...</td>\n",
       "      <td>not_cyberbullying</td>\n",
       "    </tr>\n",
       "    <tr>\n",
       "      <th>2</th>\n",
       "      <td>@XochitlSuckkks a classy whore? Or more red ve...</td>\n",
       "      <td>not_cyberbullying</td>\n",
       "    </tr>\n",
       "    <tr>\n",
       "      <th>3</th>\n",
       "      <td>@Jason_Gio meh. :P  thanks for the heads up, b...</td>\n",
       "      <td>not_cyberbullying</td>\n",
       "    </tr>\n",
       "    <tr>\n",
       "      <th>4</th>\n",
       "      <td>@RudhoeEnglish This is an ISIS account pretend...</td>\n",
       "      <td>not_cyberbullying</td>\n",
       "    </tr>\n",
       "  </tbody>\n",
       "</table>\n",
       "</div>"
      ],
      "text/plain": [
       "                                          tweet_text cyberbullying_type\n",
       "0  In other words #katandandre, your food was cra...  not_cyberbullying\n",
       "1  Why is #aussietv so white? #MKR #theblock #ImA...  not_cyberbullying\n",
       "2  @XochitlSuckkks a classy whore? Or more red ve...  not_cyberbullying\n",
       "3  @Jason_Gio meh. :P  thanks for the heads up, b...  not_cyberbullying\n",
       "4  @RudhoeEnglish This is an ISIS account pretend...  not_cyberbullying"
      ]
     },
     "execution_count": 13,
     "metadata": {},
     "output_type": "execute_result"
    }
   ],
   "source": [
    "df.head()"
   ]
  },
  {
   "cell_type": "code",
   "execution_count": 14,
   "metadata": {
    "execution": {
     "iopub.status.busy": "2023-12-28T12:06:47.436568Z",
     "iopub.status.idle": "2023-12-28T12:06:47.436915Z",
     "shell.execute_reply": "2023-12-28T12:06:47.436752Z",
     "shell.execute_reply.started": "2023-12-28T12:06:47.436733Z"
    }
   },
   "outputs": [
    {
     "name": "stdout",
     "output_type": "stream",
     "text": [
      "<class 'pandas.core.frame.DataFrame'>\n",
      "RangeIndex: 47692 entries, 0 to 47691\n",
      "Data columns (total 2 columns):\n",
      " #   Column              Non-Null Count  Dtype \n",
      "---  ------              --------------  ----- \n",
      " 0   tweet_text          47692 non-null  object\n",
      " 1   cyberbullying_type  47692 non-null  object\n",
      "dtypes: object(2)\n",
      "memory usage: 745.3+ KB\n"
     ]
    }
   ],
   "source": [
    "df.info()"
   ]
  },
  {
   "cell_type": "markdown",
   "metadata": {},
   "source": [
    "First we rename the columns using shorter words for easier reference."
   ]
  },
  {
   "cell_type": "code",
   "execution_count": 15,
   "metadata": {
    "execution": {
     "iopub.status.busy": "2023-12-28T12:06:47.438079Z",
     "iopub.status.idle": "2023-12-28T12:06:47.438413Z",
     "shell.execute_reply": "2023-12-28T12:06:47.438254Z",
     "shell.execute_reply.started": "2023-12-28T12:06:47.438236Z"
    },
    "id": "AwUN352x5QsK"
   },
   "outputs": [],
   "source": [
    "df = df.rename(columns={'tweet_text': 'text', 'cyberbullying_type': 'sentiment'})"
   ]
  },
  {
   "cell_type": "markdown",
   "metadata": {
    "id": "u9wTHjTcc1D7"
   },
   "source": [
    "### Are there duplicated tweets?"
   ]
  },
  {
   "cell_type": "code",
   "execution_count": 16,
   "metadata": {
    "execution": {
     "iopub.status.busy": "2023-12-28T12:06:47.439322Z",
     "iopub.status.idle": "2023-12-28T12:06:47.439665Z",
     "shell.execute_reply": "2023-12-28T12:06:47.439501Z",
     "shell.execute_reply.started": "2023-12-28T12:06:47.439475Z"
    }
   },
   "outputs": [
    {
     "data": {
      "text/plain": [
       "36"
      ]
     },
     "execution_count": 16,
     "metadata": {},
     "output_type": "execute_result"
    }
   ],
   "source": [
    "df.duplicated().sum()"
   ]
  },
  {
   "cell_type": "markdown",
   "metadata": {},
   "source": [
    "There are some duplicated tweets, we will remove them."
   ]
  },
  {
   "cell_type": "code",
   "execution_count": 17,
   "metadata": {
    "execution": {
     "iopub.status.busy": "2023-12-28T12:06:47.441519Z",
     "iopub.status.idle": "2023-12-28T12:06:47.442063Z",
     "shell.execute_reply": "2023-12-28T12:06:47.441782Z",
     "shell.execute_reply.started": "2023-12-28T12:06:47.441756Z"
    },
    "id": "4u7mn7wkchxj"
   },
   "outputs": [],
   "source": [
    "df = df[~df.duplicated()]"
   ]
  },
  {
   "cell_type": "code",
   "execution_count": 18,
   "metadata": {
    "execution": {
     "iopub.status.busy": "2023-12-28T12:06:47.443475Z",
     "iopub.status.idle": "2023-12-28T12:06:47.443815Z",
     "shell.execute_reply": "2023-12-28T12:06:47.443657Z",
     "shell.execute_reply.started": "2023-12-28T12:06:47.443639Z"
    },
    "id": "oedUGlQ9crg2",
    "outputId": "2b094807-c074-4174-ee3d-1e81bfdd5b0f"
   },
   "outputs": [
    {
     "name": "stdout",
     "output_type": "stream",
     "text": [
      "<class 'pandas.core.frame.DataFrame'>\n",
      "Index: 47656 entries, 0 to 47691\n",
      "Data columns (total 2 columns):\n",
      " #   Column     Non-Null Count  Dtype \n",
      "---  ------     --------------  ----- \n",
      " 0   text       47656 non-null  object\n",
      " 1   sentiment  47656 non-null  object\n",
      "dtypes: object(2)\n",
      "memory usage: 1.1+ MB\n"
     ]
    }
   ],
   "source": [
    "df.info()"
   ]
  },
  {
   "cell_type": "markdown",
   "metadata": {},
   "source": [
    "### Are the classes balanced?"
   ]
  },
  {
   "cell_type": "code",
   "execution_count": 19,
   "metadata": {
    "execution": {
     "iopub.status.busy": "2023-12-28T12:06:47.444933Z",
     "iopub.status.idle": "2023-12-28T12:06:47.445336Z",
     "shell.execute_reply": "2023-12-28T12:06:47.445166Z",
     "shell.execute_reply.started": "2023-12-28T12:06:47.445145Z"
    },
    "id": "c82luV2N5QsN",
    "outputId": "5b926ea0-59ec-46e9-97fe-08f72237a419"
   },
   "outputs": [
    {
     "data": {
      "text/plain": [
       "sentiment\n",
       "religion               7997\n",
       "age                    7992\n",
       "ethnicity              7959\n",
       "gender                 7948\n",
       "not_cyberbullying      7937\n",
       "other_cyberbullying    7823\n",
       "Name: count, dtype: int64"
      ]
     },
     "execution_count": 19,
     "metadata": {},
     "output_type": "execute_result"
    }
   ],
   "source": [
    "df.sentiment.value_counts()"
   ]
  },
  {
   "cell_type": "markdown",
   "metadata": {},
   "source": [
    "The classes look balanced."
   ]
  },
  {
   "cell_type": "markdown",
   "metadata": {
    "execution": {
     "iopub.execute_input": "2022-01-19T09:34:52.112295Z",
     "iopub.status.busy": "2022-01-19T09:34:52.112005Z",
     "iopub.status.idle": "2022-01-19T09:34:53.14386Z",
     "shell.execute_reply": "2022-01-19T09:34:53.142913Z",
     "shell.execute_reply.started": "2022-01-19T09:34:52.112262Z"
    },
    "id": "DGmYrF4d5QsP"
   },
   "source": [
    "# Tweets text deep cleaning"
   ]
  },
  {
   "cell_type": "markdown",
   "metadata": {},
   "source": [
    "Next, we will define custom functions to clean the texts of the tweets."
   ]
  },
  {
   "cell_type": "code",
   "execution_count": 20,
   "metadata": {
    "execution": {
     "iopub.status.busy": "2023-12-28T12:06:47.446538Z",
     "iopub.status.idle": "2023-12-28T12:06:47.446873Z",
     "shell.execute_reply": "2023-12-28T12:06:47.446714Z",
     "shell.execute_reply.started": "2023-12-28T12:06:47.446696Z"
    }
   },
   "outputs": [
    {
     "data": {
      "text/plain": [
       "'cannot'"
      ]
     },
     "execution_count": 20,
     "metadata": {},
     "output_type": "execute_result"
    }
   ],
   "source": [
    "contractions.fix(\"can't\")"
   ]
  },
  {
   "cell_type": "code",
   "execution_count": 21,
   "metadata": {
    "execution": {
     "iopub.status.busy": "2023-12-28T12:06:47.448131Z",
     "iopub.status.idle": "2023-12-28T12:06:47.448691Z",
     "shell.execute_reply": "2023-12-28T12:06:47.448482Z",
     "shell.execute_reply.started": "2023-12-28T12:06:47.448456Z"
    }
   },
   "outputs": [],
   "source": [
    "text = 'I loved my familys'\n",
    "words = word_tokenize(text)\n",
    "lemmatized_words = [lemmatizer.lemmatize(word) for word in words]"
   ]
  },
  {
   "cell_type": "code",
   "execution_count": 22,
   "metadata": {
    "execution": {
     "iopub.status.busy": "2023-12-28T12:06:47.450016Z",
     "iopub.status.idle": "2023-12-28T12:06:47.450522Z",
     "shell.execute_reply": "2023-12-28T12:06:47.450297Z",
     "shell.execute_reply.started": "2023-12-28T12:06:47.450270Z"
    }
   },
   "outputs": [
    {
     "data": {
      "text/plain": [
       "['I', 'loved', 'my', 'family']"
      ]
     },
     "execution_count": 22,
     "metadata": {},
     "output_type": "execute_result"
    }
   ],
   "source": [
    "lemmatized_words"
   ]
  },
  {
   "cell_type": "code",
   "execution_count": 28,
   "metadata": {
    "execution": {
     "iopub.status.busy": "2023-12-28T12:06:47.452427Z",
     "iopub.status.idle": "2023-12-28T12:06:47.455287Z",
     "shell.execute_reply": "2023-12-28T12:06:47.455069Z",
     "shell.execute_reply.started": "2023-12-28T12:06:47.455039Z"
    },
    "id": "E5E1UwMc5QsQ"
   },
   "outputs": [],
   "source": [
    "# Clean emojis from text\n",
    "import re\n",
    "def strip_emojis(text):\n",
    "    emoji_pattern = re.compile(\"[\"\n",
    "                               u\"\\U0001F600-\\U0001F64F\"  # emoticons\n",
    "                               u\"\\U0001F300-\\U0001F5FF\"  # symbols & pictographs\n",
    "                               u\"\\U0001F680-\\U0001F6FF\"  # transport & map symbols\n",
    "                               u\"\\U0001F700-\\U0001F77F\"  # alchemical symbols\n",
    "                               u\"\\U0001F780-\\U0001F7FF\"  # Geometric Shapes Extended\n",
    "                               u\"\\U0001F800-\\U0001F8FF\"  # Supplemental Arrows-C\n",
    "                               u\"\\U0001F900-\\U0001F9FF\"  # Supplemental Symbols and Pictographs\n",
    "                               u\"\\U0001FA00-\\U0001FA6F\"  # Chess Symbols\n",
    "                               u\"\\U0001FA70-\\U0001FAFF\"  # Symbols and Pictographs Extended-A\n",
    "                               u\"\\U00002702-\\U000027B0\"  # Dingbats\n",
    "                               u\"\\U000024C2-\\U0001F251\" \n",
    "                               \"]+\", flags=re.UNICODE)\n",
    "    return emoji_pattern.sub(r'', text)\n",
    "\n",
    "\n",
    "# Remove punctuations, stopwords, links, mentions and new line characters\n",
    "def strip_all_entities(text):\n",
    "    text = re.sub(r'\\r|\\n', ' ', text.lower())  # Replace newline and carriage return with space, and convert to lowercase\n",
    "    text = re.sub(r\"(?:\\@|https?\\://)\\S+\", \"\", text)  # Remove links and mentions\n",
    "    text = re.sub(r'[^\\x00-\\x7f]', '', text)  # Remove non-ASCII characters\n",
    "    banned_list = string.punctuation\n",
    "    table = str.maketrans('', '', banned_list)\n",
    "    text = text.translate(table)\n",
    "    text = ' '.join(word for word in text.split() if word not in stop_words)\n",
    "    return text\n",
    "\n",
    "# Clean hashtags at the end of the sentence, and keep those in the middle of the sentence by removing just the # symbol\n",
    "def clean_hashtags(tweet):\n",
    "    # Remove hashtags at the end of the sentence\n",
    "    new_tweet = re.sub(r'(\\s+#[\\w-]+)+\\s*$', '', tweet).strip()\n",
    "    \n",
    "    # Remove the # symbol from hashtags in the middle of the sentence\n",
    "    new_tweet = re.sub(r'#([\\w-]+)', r'\\1', new_tweet).strip()\n",
    "    \n",
    "    return new_tweet\n",
    "\n",
    "# Filter special characters such as & and $ present in some words\n",
    "def filter_chars(text):\n",
    "    return ' '.join('' if ('$' in word) or ('&' in word) else word for word in text.split())\n",
    "\n",
    "# Remove multiple spaces\n",
    "def remove_mult_spaces(text):\n",
    "    return re.sub(r\"\\s\\s+\", \" \", text)\n",
    "\n",
    "# Function to check if the text is in English, and return an empty string if it's not\n",
    "def filter_non_english(text):\n",
    "    try:\n",
    "        lang = detect(text)\n",
    "    except LangDetectException:\n",
    "        lang = \"unknown\"\n",
    "    return text if lang == \"en\" else \"\"\n",
    "\n",
    "# Expand contractions\n",
    "def expand_contractions(text):\n",
    "    return contractions.fix(text)\n",
    "\n",
    "# Remove numbers\n",
    "def remove_numbers(text):\n",
    "    return re.sub(r'\\d+', '', text)\n",
    "\n",
    "# Lemmatize words\n",
    "def lemmatize(text):\n",
    "    words = word_tokenize(text)\n",
    "    lemmatized_words = [lemmatizer.lemmatize(word) for word in words]\n",
    "    return ' '.join(lemmatized_words)\n",
    "\n",
    "# Remove short words\n",
    "def remove_short_words(text, min_len=2):\n",
    "    words = text.split()\n",
    "    long_words = [word for word in words if len(word) >= min_len]\n",
    "    return ' '.join(long_words)\n",
    "\n",
    "# Replace elongated words with their base form\n",
    "def replace_elongated_words(text):\n",
    "    regex_pattern = r'\\b(\\w+)((\\w)\\3{2,})(\\w*)\\b'\n",
    "    return re.sub(regex_pattern, r'\\1\\3\\4', text)\n",
    "\n",
    "# Remove repeated punctuation\n",
    "def remove_repeated_punctuation(text):\n",
    "    return re.sub(r'[\\?\\.\\!]+(?=[\\?\\.\\!])', '', text)\n",
    "\n",
    "# Remove extra whitespace\n",
    "def remove_extra_whitespace(text):\n",
    "    return ' '.join(text.split())\n",
    "\n",
    "def remove_url_shorteners(text):\n",
    "    return re.sub(r'(?:http[s]?://)?(?:www\\.)?(?:bit\\.ly|goo\\.gl|t\\.co|tinyurl\\.com|tr\\.im|is\\.gd|cli\\.gs|u\\.nu|url\\.ie|tiny\\.cc|alturl\\.com|ow\\.ly|bit\\.do|adoro\\.to)\\S+', '', text)\n",
    "\n",
    "# Remove spaces at the beginning and end of the tweet\n",
    "def remove_spaces_tweets(tweet):\n",
    "    return tweet.strip()\n",
    "\n",
    "# Remove short tweets\n",
    "def remove_short_tweets(tweet, min_words=3):\n",
    "    words = tweet.split()\n",
    "    return tweet if len(words) >= min_words else \"\"\n",
    "\n",
    "# Function to call all the cleaning functions in the correct order\n",
    "def clean_tweet(tweet):\n",
    "    tweet = strip_emoji(tweet)\n",
    "    tweet = expand_contractions(tweet)\n",
    "    tweet = filter_non_english(tweet)\n",
    "    tweet = strip_all_entities(tweet)\n",
    "    tweet = clean_hashtags(tweet)\n",
    "    tweet = filter_chars(tweet)\n",
    "    tweet = remove_mult_spaces(tweet)\n",
    "    tweet = remove_numbers(tweet)\n",
    "    tweet = lemmatize(tweet)\n",
    "    tweet = remove_short_words(tweet)\n",
    "    tweet = replace_elongated_words(tweet)\n",
    "    tweet = remove_repeated_punctuation(tweet)\n",
    "    tweet = remove_extra_whitespace(tweet)\n",
    "    tweet = remove_url_shorteners(tweet)\n",
    "    tweet = remove_spaces_tweets(tweet)\n",
    "    tweet = remove_short_tweets(tweet)\n",
    "    tweet = ' '.join(tweet.split())  # Remove multiple spaces between words\n",
    "    return tweet"
   ]
  },
  {
   "cell_type": "code",
   "execution_count": 30,
   "metadata": {
    "execution": {
     "iopub.status.busy": "2023-12-28T12:06:47.456402Z",
     "iopub.status.idle": "2023-12-28T12:06:47.456844Z",
     "shell.execute_reply": "2023-12-28T12:06:47.456671Z",
     "shell.execute_reply.started": "2023-12-28T12:06:47.456651Z"
    }
   },
   "outputs": [],
   "source": [
    "df['text_clean'] = df['text'].apply(strip_emojis)\n",
    "df['text_clean'] = df['text_clean'].apply(strip_all_entities)\n",
    "df['text_clean'] = df['text_clean'].apply(clean_hashtags)\n",
    "df['text_clean'] = df['text_clean'].apply(remove_mult_spaces)\n",
    "df['text_clean'] = df['text_clean'].apply(remove_short_words)\n",
    "df['text_clean'] = df['text_clean'].apply(remove_short_tweets)\n"
   ]
  },
  {
   "cell_type": "code",
   "execution_count": 31,
   "metadata": {
    "execution": {
     "iopub.status.busy": "2023-12-28T12:06:47.458100Z",
     "iopub.status.idle": "2023-12-28T12:06:47.458436Z",
     "shell.execute_reply": "2023-12-28T12:06:47.458276Z",
     "shell.execute_reply.started": "2023-12-28T12:06:47.458258Z"
    }
   },
   "outputs": [
    {
     "data": {
      "text/html": [
       "<div>\n",
       "<style scoped>\n",
       "    .dataframe tbody tr th:only-of-type {\n",
       "        vertical-align: middle;\n",
       "    }\n",
       "\n",
       "    .dataframe tbody tr th {\n",
       "        vertical-align: top;\n",
       "    }\n",
       "\n",
       "    .dataframe thead th {\n",
       "        text-align: right;\n",
       "    }\n",
       "</style>\n",
       "<table border=\"1\" class=\"dataframe\">\n",
       "  <thead>\n",
       "    <tr style=\"text-align: right;\">\n",
       "      <th></th>\n",
       "      <th>text</th>\n",
       "      <th>sentiment</th>\n",
       "      <th>text_clean</th>\n",
       "    </tr>\n",
       "  </thead>\n",
       "  <tbody>\n",
       "    <tr>\n",
       "      <th>0</th>\n",
       "      <td>In other words #katandandre, your food was cra...</td>\n",
       "      <td>not_cyberbullying</td>\n",
       "      <td>words katandandre food crapilicious mkr</td>\n",
       "    </tr>\n",
       "    <tr>\n",
       "      <th>1</th>\n",
       "      <td>Why is #aussietv so white? #MKR #theblock #ImA...</td>\n",
       "      <td>not_cyberbullying</td>\n",
       "      <td>aussietv white mkr theblock imacelebrityau tod...</td>\n",
       "    </tr>\n",
       "    <tr>\n",
       "      <th>2</th>\n",
       "      <td>@XochitlSuckkks a classy whore? Or more red ve...</td>\n",
       "      <td>not_cyberbullying</td>\n",
       "      <td>classy whore red velvet cupcakes</td>\n",
       "    </tr>\n",
       "    <tr>\n",
       "      <th>3</th>\n",
       "      <td>@Jason_Gio meh. :P  thanks for the heads up, b...</td>\n",
       "      <td>not_cyberbullying</td>\n",
       "      <td>meh thanks heads concerned another angry dude ...</td>\n",
       "    </tr>\n",
       "    <tr>\n",
       "      <th>4</th>\n",
       "      <td>@RudhoeEnglish This is an ISIS account pretend...</td>\n",
       "      <td>not_cyberbullying</td>\n",
       "      <td>isis account pretending kurdish account like i...</td>\n",
       "    </tr>\n",
       "  </tbody>\n",
       "</table>\n",
       "</div>"
      ],
      "text/plain": [
       "                                                text          sentiment  \\\n",
       "0  In other words #katandandre, your food was cra...  not_cyberbullying   \n",
       "1  Why is #aussietv so white? #MKR #theblock #ImA...  not_cyberbullying   \n",
       "2  @XochitlSuckkks a classy whore? Or more red ve...  not_cyberbullying   \n",
       "3  @Jason_Gio meh. :P  thanks for the heads up, b...  not_cyberbullying   \n",
       "4  @RudhoeEnglish This is an ISIS account pretend...  not_cyberbullying   \n",
       "\n",
       "                                          text_clean  \n",
       "0            words katandandre food crapilicious mkr  \n",
       "1  aussietv white mkr theblock imacelebrityau tod...  \n",
       "2                   classy whore red velvet cupcakes  \n",
       "3  meh thanks heads concerned another angry dude ...  \n",
       "4  isis account pretending kurdish account like i...  "
      ]
     },
     "execution_count": 31,
     "metadata": {},
     "output_type": "execute_result"
    }
   ],
   "source": [
    "df.head()"
   ]
  },
  {
   "cell_type": "markdown",
   "metadata": {},
   "source": [
    "### Are there duplicate tweets after the cleaning?"
   ]
  },
  {
   "cell_type": "code",
   "execution_count": 32,
   "metadata": {
    "execution": {
     "iopub.status.busy": "2023-12-28T12:06:47.459662Z",
     "iopub.status.idle": "2023-12-28T12:06:47.460060Z",
     "shell.execute_reply": "2023-12-28T12:06:47.459866Z",
     "shell.execute_reply.started": "2023-12-28T12:06:47.459848Z"
    }
   },
   "outputs": [
    {
     "name": "stdout",
     "output_type": "stream",
     "text": [
      "There are around 4354 duplicated tweets, we will remove them.\n"
     ]
    }
   ],
   "source": [
    "print(f'There are around {int(df[\"text_clean\"].duplicated().sum())} duplicated tweets, we will remove them.')"
   ]
  },
  {
   "cell_type": "code",
   "execution_count": 33,
   "metadata": {
    "execution": {
     "iopub.status.busy": "2023-12-28T12:06:47.461288Z",
     "iopub.status.idle": "2023-12-28T12:06:47.461632Z",
     "shell.execute_reply": "2023-12-28T12:06:47.461460Z",
     "shell.execute_reply.started": "2023-12-28T12:06:47.461441Z"
    }
   },
   "outputs": [],
   "source": [
    "df.drop_duplicates(\"text_clean\", inplace=True)"
   ]
  },
  {
   "cell_type": "markdown",
   "metadata": {},
   "source": [
    "We removed the duplicated cleaned tweets. How is the class balance after the cleaning?"
   ]
  },
  {
   "cell_type": "code",
   "execution_count": 34,
   "metadata": {
    "execution": {
     "iopub.status.busy": "2023-12-28T12:06:47.462760Z",
     "iopub.status.idle": "2023-12-28T12:06:47.463152Z",
     "shell.execute_reply": "2023-12-28T12:06:47.462960Z",
     "shell.execute_reply.started": "2023-12-28T12:06:47.462941Z"
    }
   },
   "outputs": [
    {
     "data": {
      "text/plain": [
       "sentiment\n",
       "religion               7947\n",
       "age                    7881\n",
       "ethnicity              7768\n",
       "gender                 7468\n",
       "not_cyberbullying      6993\n",
       "other_cyberbullying    5245\n",
       "Name: count, dtype: int64"
      ]
     },
     "execution_count": 34,
     "metadata": {},
     "output_type": "execute_result"
    }
   ],
   "source": [
    "df.sentiment.value_counts()"
   ]
  },
  {
   "cell_type": "markdown",
   "metadata": {},
   "source": [
    "Then we also define a list of the classes names, which will be useful for the future plots."
   ]
  },
  {
   "cell_type": "code",
   "execution_count": 35,
   "metadata": {
    "execution": {
     "iopub.status.busy": "2023-12-28T12:06:47.464383Z",
     "iopub.status.idle": "2023-12-28T12:06:47.464713Z",
     "shell.execute_reply": "2023-12-28T12:06:47.464555Z",
     "shell.execute_reply.started": "2023-12-28T12:06:47.464537Z"
    }
   },
   "outputs": [],
   "source": [
    "sentiments = [\"religion\",\"age\",\"ethnicity\",\"gender\",\"other_cyberbullying\",\"not bullying\"]"
   ]
  },
  {
   "cell_type": "markdown",
   "metadata": {},
   "source": [
    "# Tweets length analysis"
   ]
  },
  {
   "cell_type": "markdown",
   "metadata": {},
   "source": [
    "Now we will define a new dataframe column containing the length of the cleaned tweets in terms of number of words."
   ]
  },
  {
   "cell_type": "code",
   "execution_count": 36,
   "metadata": {
    "execution": {
     "iopub.status.busy": "2023-12-28T12:06:47.466184Z",
     "iopub.status.idle": "2023-12-28T12:06:47.466546Z",
     "shell.execute_reply": "2023-12-28T12:06:47.466364Z",
     "shell.execute_reply.started": "2023-12-28T12:06:47.466345Z"
    },
    "id": "vQsHVXTA5QsV"
   },
   "outputs": [],
   "source": [
    "df['text_len'] = [len(text.split()) for text in df.text_clean]"
   ]
  },
  {
   "cell_type": "code",
   "execution_count": 37,
   "metadata": {
    "_kg_hide-input": true,
    "execution": {
     "iopub.status.busy": "2023-12-28T12:06:47.467682Z",
     "iopub.status.idle": "2023-12-28T12:06:47.468065Z",
     "shell.execute_reply": "2023-12-28T12:06:47.467863Z",
     "shell.execute_reply.started": "2023-12-28T12:06:47.467844Z"
    },
    "id": "HZcu8uGh5QsW",
    "outputId": "a43cd050-b496-4e23-9512-85ba09b18686"
   },
   "outputs": [
    {
     "data": {
      "image/png": "[encoded data removed]",
      "text/plain": [
       "<Figure size 700x500 with 1 Axes>"
      ]
     },
     "metadata": {},
     "output_type": "display_data"
    }
   ],
   "source": [
    "plt.figure(figsize=(7,5))\n",
    "ax = sns.countplot(x='text_len', data=df[df['text_len']<10], palette='mako')\n",
    "plt.title('Count of tweets with less than 10 words', fontsize=20)\n",
    "plt.yticks([])\n",
    "ax.bar_label(ax.containers[0])\n",
    "plt.ylabel('count')\n",
    "plt.xlabel('')\n",
    "plt.show()"
   ]
  },
  {
   "cell_type": "markdown",
   "metadata": {
    "id": "fmN9566u5QsX"
   },
   "source": [
    "### What about long tweets?"
   ]
  },
  {
   "cell_type": "code",
   "execution_count": 38,
   "metadata": {
    "execution": {
     "iopub.status.busy": "2023-12-28T12:06:47.469290Z",
     "iopub.status.idle": "2023-12-28T12:06:47.469632Z",
     "shell.execute_reply": "2023-12-28T12:06:47.469469Z",
     "shell.execute_reply.started": "2023-12-28T12:06:47.469450Z"
    },
    "id": "2Dv2aZRv5QsY",
    "outputId": "e856bcba-79ac-46ce-c217-2a1eb0e874e2"
   },
   "outputs": [
    {
     "data": {
      "text/html": [
       "<div>\n",
       "<style scoped>\n",
       "    .dataframe tbody tr th:only-of-type {\n",
       "        vertical-align: middle;\n",
       "    }\n",
       "\n",
       "    .dataframe tbody tr th {\n",
       "        vertical-align: top;\n",
       "    }\n",
       "\n",
       "    .dataframe thead th {\n",
       "        text-align: right;\n",
       "    }\n",
       "</style>\n",
       "<table border=\"1\" class=\"dataframe\">\n",
       "  <thead>\n",
       "    <tr style=\"text-align: right;\">\n",
       "      <th></th>\n",
       "      <th>text</th>\n",
       "      <th>sentiment</th>\n",
       "      <th>text_clean</th>\n",
       "      <th>text_len</th>\n",
       "    </tr>\n",
       "  </thead>\n",
       "  <tbody>\n",
       "    <tr>\n",
       "      <th>29205</th>\n",
       "      <td>is feminazi an actual word with a denot…\\r\\n@N...</td>\n",
       "      <td>other_cyberbullying</td>\n",
       "      <td>feminazi actual word denot job means protectin...</td>\n",
       "      <td>398</td>\n",
       "    </tr>\n",
       "    <tr>\n",
       "      <th>24516</th>\n",
       "      <td>@NICKIMINAJ: #WutKinda\\r\\nAt this rate the MKR...</td>\n",
       "      <td>other_cyberbullying</td>\n",
       "      <td>wutkinda rate mkr final december mkr haha true...</td>\n",
       "      <td>364</td>\n",
       "    </tr>\n",
       "    <tr>\n",
       "      <th>30752</th>\n",
       "      <td>I don't retreat.\\r\\nyessssssss http://t.co/Td9...</td>\n",
       "      <td>other_cyberbullying</td>\n",
       "      <td>dont retreat yessssssss uh make grownups borut...</td>\n",
       "      <td>250</td>\n",
       "    </tr>\n",
       "    <tr>\n",
       "      <th>44035</th>\n",
       "      <td>You so black and white trying to live like a n...</td>\n",
       "      <td>ethnicity</td>\n",
       "      <td>black white trying live like nigger pahahahaha...</td>\n",
       "      <td>183</td>\n",
       "    </tr>\n",
       "    <tr>\n",
       "      <th>45165</th>\n",
       "      <td>@hermdiggz: “@tayyoung_: FUCK OBAMA, dumb ass ...</td>\n",
       "      <td>ethnicity</td>\n",
       "      <td>fuck obama dumb ass nigger bitch ltthis whore ...</td>\n",
       "      <td>159</td>\n",
       "    </tr>\n",
       "    <tr>\n",
       "      <th>...</th>\n",
       "      <td>...</td>\n",
       "      <td>...</td>\n",
       "      <td>...</td>\n",
       "      <td>...</td>\n",
       "    </tr>\n",
       "    <tr>\n",
       "      <th>5028</th>\n",
       "      <td>no school for me tomorrow doe ..</td>\n",
       "      <td>not_cyberbullying</td>\n",
       "      <td>school tomorrow doe</td>\n",
       "      <td>3</td>\n",
       "    </tr>\n",
       "    <tr>\n",
       "      <th>30198</th>\n",
       "      <td>@xMarkHenry @xzackryder @xnattiebynature -_-he...</td>\n",
       "      <td>other_cyberbullying</td>\n",
       "      <td>bully ugh god</td>\n",
       "      <td>3</td>\n",
       "    </tr>\n",
       "    <tr>\n",
       "      <th>30213</th>\n",
       "      <td>OH MY GOD HELP</td>\n",
       "      <td>other_cyberbullying</td>\n",
       "      <td>oh god help</td>\n",
       "      <td>3</td>\n",
       "    </tr>\n",
       "    <tr>\n",
       "      <th>36618</th>\n",
       "      <td>Who did they bully? School us.</td>\n",
       "      <td>age</td>\n",
       "      <td>bully school us</td>\n",
       "      <td>3</td>\n",
       "    </tr>\n",
       "    <tr>\n",
       "      <th>10</th>\n",
       "      <td>@Jord_Is_Dead http://t.co/UsQInYW5Gn</td>\n",
       "      <td>not_cyberbullying</td>\n",
       "      <td></td>\n",
       "      <td>0</td>\n",
       "    </tr>\n",
       "  </tbody>\n",
       "</table>\n",
       "<p>43302 rows × 4 columns</p>\n",
       "</div>"
      ],
      "text/plain": [
       "                                                    text            sentiment  \\\n",
       "29205  is feminazi an actual word with a denot…\\r\\n@N...  other_cyberbullying   \n",
       "24516  @NICKIMINAJ: #WutKinda\\r\\nAt this rate the MKR...  other_cyberbullying   \n",
       "30752  I don't retreat.\\r\\nyessssssss http://t.co/Td9...  other_cyberbullying   \n",
       "44035  You so black and white trying to live like a n...            ethnicity   \n",
       "45165  @hermdiggz: “@tayyoung_: FUCK OBAMA, dumb ass ...            ethnicity   \n",
       "...                                                  ...                  ...   \n",
       "5028                    no school for me tomorrow doe ..    not_cyberbullying   \n",
       "30198  @xMarkHenry @xzackryder @xnattiebynature -_-he...  other_cyberbullying   \n",
       "30213                                     OH MY GOD HELP  other_cyberbullying   \n",
       "36618                     Who did they bully? School us.                  age   \n",
       "10                  @Jord_Is_Dead http://t.co/UsQInYW5Gn    not_cyberbullying   \n",
       "\n",
       "                                              text_clean  text_len  \n",
       "29205  feminazi actual word denot job means protectin...       398  \n",
       "24516  wutkinda rate mkr final december mkr haha true...       364  \n",
       "30752  dont retreat yessssssss uh make grownups borut...       250  \n",
       "44035  black white trying live like nigger pahahahaha...       183  \n",
       "45165  fuck obama dumb ass nigger bitch ltthis whore ...       159  \n",
       "...                                                  ...       ...  \n",
       "5028                                 school tomorrow doe         3  \n",
       "30198                                      bully ugh god         3  \n",
       "30213                                        oh god help         3  \n",
       "36618                                    bully school us         3  \n",
       "10                                                               0  \n",
       "\n",
       "[43302 rows x 4 columns]"
      ]
     },
     "execution_count": 38,
     "metadata": {},
     "output_type": "execute_result"
    }
   ],
   "source": [
    "df.sort_values(by=['text_len'], ascending=False)"
   ]
  },
  {
   "cell_type": "code",
   "execution_count": 39,
   "metadata": {
    "_kg_hide-input": true,
    "execution": {
     "iopub.status.busy": "2023-12-28T12:06:47.470812Z",
     "iopub.status.idle": "2023-12-28T12:06:47.471237Z",
     "shell.execute_reply": "2023-12-28T12:06:47.470998Z",
     "shell.execute_reply.started": "2023-12-28T12:06:47.470979Z"
    },
    "id": "Zt9YFv935QsY",
    "outputId": "1aa5c793-4f13-4c37-e095-385ba9b93510"
   },
   "outputs": [
    {
     "data": {
      "image/png": "[encoded data removed]",
      "text/plain": [
       "<Figure size 1600x500 with 1 Axes>"
      ]
     },
     "metadata": {},
     "output_type": "display_data"
    }
   ],
   "source": [
    "plt.figure(figsize=(16,5))\n",
    "ax = sns.countplot(x='text_len', data=df[(df['text_len']<=1000) & (df['text_len']>10)], palette='Blues_r')\n",
    "plt.title('Count of tweets with high number of words', fontsize=25)\n",
    "plt.yticks([])\n",
    "ax.bar_label(ax.containers[0])\n",
    "plt.ylabel('count')\n",
    "plt.xlabel('')\n",
    "plt.show()"
   ]
  },
  {
   "cell_type": "markdown",
   "metadata": {
    "id": "JzY9dDnF5QsY"
   },
   "source": [
    "We also will remove tweets that are too long (with more than 100 words)."
   ]
  },
  {
   "cell_type": "code",
   "execution_count": 40,
   "metadata": {
    "execution": {
     "iopub.status.busy": "2023-12-28T12:06:47.472146Z",
     "iopub.status.idle": "2023-12-28T12:06:47.472492Z",
     "shell.execute_reply": "2023-12-28T12:06:47.472319Z",
     "shell.execute_reply.started": "2023-12-28T12:06:47.472301Z"
    },
    "id": "teb7a02F5QsY"
   },
   "outputs": [],
   "source": [
    "df = df[df['text_len'] < df['text_len'].quantile(0.995)]"
   ]
  },
  {
   "cell_type": "markdown",
   "metadata": {},
   "source": [
    "Then we also get the length of the longest tweet since it will be useful later."
   ]
  },
  {
   "cell_type": "code",
   "execution_count": 41,
   "metadata": {
    "execution": {
     "iopub.status.busy": "2023-12-28T12:06:47.473565Z",
     "iopub.status.idle": "2023-12-28T12:06:47.473906Z",
     "shell.execute_reply": "2023-12-28T12:06:47.473742Z",
     "shell.execute_reply.started": "2023-12-28T12:06:47.473724Z"
    },
    "id": "HyQak-0QI9Mk",
    "outputId": "3b02dbe1-c218-482b-9cac-e492265cda3c"
   },
   "outputs": [
    {
     "data": {
      "text/plain": [
       "32"
      ]
     },
     "execution_count": 41,
     "metadata": {},
     "output_type": "execute_result"
    }
   ],
   "source": [
    "max_len = np.max(df['text_len'])\n",
    "max_len "
   ]
  },
  {
   "cell_type": "code",
   "execution_count": 42,
   "metadata": {
    "execution": {
     "iopub.status.busy": "2023-12-28T12:06:47.475013Z",
     "iopub.status.idle": "2023-12-28T12:06:47.475374Z",
     "shell.execute_reply": "2023-12-28T12:06:47.475214Z",
     "shell.execute_reply.started": "2023-12-28T12:06:47.475195Z"
    },
    "id": "NZD-8GJd5Qsa",
    "outputId": "ded71a92-9493-4b03-f38e-3313f05a43e8"
   },
   "outputs": [
    {
     "data": {
      "text/html": [
       "<div>\n",
       "<style scoped>\n",
       "    .dataframe tbody tr th:only-of-type {\n",
       "        vertical-align: middle;\n",
       "    }\n",
       "\n",
       "    .dataframe tbody tr th {\n",
       "        vertical-align: top;\n",
       "    }\n",
       "\n",
       "    .dataframe thead th {\n",
       "        text-align: right;\n",
       "    }\n",
       "</style>\n",
       "<table border=\"1\" class=\"dataframe\">\n",
       "  <thead>\n",
       "    <tr style=\"text-align: right;\">\n",
       "      <th></th>\n",
       "      <th>text</th>\n",
       "      <th>sentiment</th>\n",
       "      <th>text_clean</th>\n",
       "      <th>text_len</th>\n",
       "    </tr>\n",
       "  </thead>\n",
       "  <tbody>\n",
       "    <tr>\n",
       "      <th>23406</th>\n",
       "      <td>If you support #IStandWithIlhan you also suppo...</td>\n",
       "      <td>religion</td>\n",
       "      <td>support istandwithilhan also support al qaeda ...</td>\n",
       "      <td>32</td>\n",
       "    </tr>\n",
       "    <tr>\n",
       "      <th>20773</th>\n",
       "      <td>Nope. I don’t. And the law is in my side. It’s...</td>\n",
       "      <td>religion</td>\n",
       "      <td>nope dont law side settled see roe vs wade goo...</td>\n",
       "      <td>32</td>\n",
       "    </tr>\n",
       "    <tr>\n",
       "      <th>33439</th>\n",
       "      <td>dude it’s crazy the amount of ppl that bullied...</td>\n",
       "      <td>age</td>\n",
       "      <td>dude crazy amount ppl bullied high school came...</td>\n",
       "      <td>32</td>\n",
       "    </tr>\n",
       "    <tr>\n",
       "      <th>10755</th>\n",
       "      <td>Right!? Policing mtg, I called em out cuz I us...</td>\n",
       "      <td>gender</td>\n",
       "      <td>right policing mtg called em cuz used work tra...</td>\n",
       "      <td>32</td>\n",
       "    </tr>\n",
       "    <tr>\n",
       "      <th>22629</th>\n",
       "      <td>No need to fake it like The Sociopath Socialis...</td>\n",
       "      <td>religion</td>\n",
       "      <td>need fake like sociopath socialist margaret sa...</td>\n",
       "      <td>32</td>\n",
       "    </tr>\n",
       "    <tr>\n",
       "      <th>...</th>\n",
       "      <td>...</td>\n",
       "      <td>...</td>\n",
       "      <td>...</td>\n",
       "      <td>...</td>\n",
       "    </tr>\n",
       "    <tr>\n",
       "      <th>1794</th>\n",
       "      <td>@dannywood I miss your \"BAM standard!\" ;)</td>\n",
       "      <td>not_cyberbullying</td>\n",
       "      <td>miss bam standard</td>\n",
       "      <td>3</td>\n",
       "    </tr>\n",
       "    <tr>\n",
       "      <th>21901</th>\n",
       "      <td>@98Halima @johnnygjokaj @cdnKhadija @rfrankh53...</td>\n",
       "      <td>religion</td>\n",
       "      <td>proof mohammed pedophile</td>\n",
       "      <td>3</td>\n",
       "    </tr>\n",
       "    <tr>\n",
       "      <th>1796</th>\n",
       "      <td>@GirlyGamerzBRO @megahalfie @NICKIMINAJ u keep...</td>\n",
       "      <td>not_cyberbullying</td>\n",
       "      <td>keep saying ur</td>\n",
       "      <td>3</td>\n",
       "    </tr>\n",
       "    <tr>\n",
       "      <th>2060</th>\n",
       "      <td>@ImPaboLikeYou oops yup RM155</td>\n",
       "      <td>not_cyberbullying</td>\n",
       "      <td>oops yup rm155</td>\n",
       "      <td>3</td>\n",
       "    </tr>\n",
       "    <tr>\n",
       "      <th>10</th>\n",
       "      <td>@Jord_Is_Dead http://t.co/UsQInYW5Gn</td>\n",
       "      <td>not_cyberbullying</td>\n",
       "      <td></td>\n",
       "      <td>0</td>\n",
       "    </tr>\n",
       "  </tbody>\n",
       "</table>\n",
       "<p>43021 rows × 4 columns</p>\n",
       "</div>"
      ],
      "text/plain": [
       "                                                    text          sentiment  \\\n",
       "23406  If you support #IStandWithIlhan you also suppo...           religion   \n",
       "20773  Nope. I don’t. And the law is in my side. It’s...           religion   \n",
       "33439  dude it’s crazy the amount of ppl that bullied...                age   \n",
       "10755  Right!? Policing mtg, I called em out cuz I us...             gender   \n",
       "22629  No need to fake it like The Sociopath Socialis...           religion   \n",
       "...                                                  ...                ...   \n",
       "1794           @dannywood I miss your \"BAM standard!\" ;)  not_cyberbullying   \n",
       "21901  @98Halima @johnnygjokaj @cdnKhadija @rfrankh53...           religion   \n",
       "1796   @GirlyGamerzBRO @megahalfie @NICKIMINAJ u keep...  not_cyberbullying   \n",
       "2060                       @ImPaboLikeYou oops yup RM155  not_cyberbullying   \n",
       "10                  @Jord_Is_Dead http://t.co/UsQInYW5Gn  not_cyberbullying   \n",
       "\n",
       "                                              text_clean  text_len  \n",
       "23406  support istandwithilhan also support al qaeda ...        32  \n",
       "20773  nope dont law side settled see roe vs wade goo...        32  \n",
       "33439  dude crazy amount ppl bullied high school came...        32  \n",
       "10755  right policing mtg called em cuz used work tra...        32  \n",
       "22629  need fake like sociopath socialist margaret sa...        32  \n",
       "...                                                  ...       ...  \n",
       "1794                                   miss bam standard         3  \n",
       "21901                           proof mohammed pedophile         3  \n",
       "1796                                      keep saying ur         3  \n",
       "2060                                      oops yup rm155         3  \n",
       "10                                                               0  \n",
       "\n",
       "[43021 rows x 4 columns]"
      ]
     },
     "execution_count": 42,
     "metadata": {},
     "output_type": "execute_result"
    }
   ],
   "source": [
    "df.sort_values(by=[\"text_len\"], ascending=False)"
   ]
  },
  {
   "cell_type": "markdown",
   "metadata": {},
   "source": [
    "## Sentiment column encoding"
   ]
  },
  {
   "cell_type": "markdown",
   "metadata": {},
   "source": [
    "The target column will be encoded by ordinal encoding"
   ]
  },
  {
   "cell_type": "code",
   "execution_count": 43,
   "metadata": {
    "execution": {
     "iopub.status.busy": "2023-12-28T12:06:47.476665Z",
     "iopub.status.idle": "2023-12-28T12:06:47.477014Z",
     "shell.execute_reply": "2023-12-28T12:06:47.476849Z",
     "shell.execute_reply.started": "2023-12-28T12:06:47.476831Z"
    },
    "id": "NIS_nyXBG416"
   },
   "outputs": [],
   "source": [
    "df['sentiment'] = df['sentiment'].replace({\n",
    "    'religion':0,\n",
    "    'age':1,\n",
    "    'ethnicity':2,\n",
    "    'gender':3,\n",
    "    'not_cyberbullying':4,\n",
    "    'other_cyberbullying':5\n",
    "})"
   ]
  },
  {
   "cell_type": "markdown",
   "metadata": {
    "id": "ELMGaiE-F7yn"
   },
   "source": [
    "## Train - Test split"
   ]
  },
  {
   "cell_type": "markdown",
   "metadata": {
    "id": "jrLwRbummpEq"
   },
   "source": [
    "Now we need to split the dataset into a train and test sets."
   ]
  },
  {
   "cell_type": "code",
   "execution_count": 44,
   "metadata": {
    "execution": {
     "iopub.status.busy": "2023-12-28T12:06:47.478585Z",
     "iopub.status.idle": "2023-12-28T12:06:47.478970Z",
     "shell.execute_reply": "2023-12-28T12:06:47.478782Z",
     "shell.execute_reply.started": "2023-12-28T12:06:47.478763Z"
    },
    "id": "BF01CgBtBONZ"
   },
   "outputs": [],
   "source": [
    "X = df['text_clean']\n",
    "y = df['sentiment']"
   ]
  },
  {
   "cell_type": "code",
   "execution_count": 45,
   "metadata": {
    "execution": {
     "iopub.status.busy": "2023-12-28T12:06:47.480878Z",
     "iopub.status.idle": "2023-12-28T12:06:47.481396Z",
     "shell.execute_reply": "2023-12-28T12:06:47.481220Z",
     "shell.execute_reply.started": "2023-12-28T12:06:47.481198Z"
    },
    "id": "fvQexohPGAZf"
   },
   "outputs": [],
   "source": [
    "X_train, X_test, y_train, y_test = train_test_split(X, y, test_size=0.2, stratify=y, random_state=seed_value)"
   ]
  },
  {
   "cell_type": "markdown",
   "metadata": {
    "id": "A0d0lSX0GbNS"
   },
   "source": [
    "## Train - Validation split"
   ]
  },
  {
   "cell_type": "markdown",
   "metadata": {
    "id": "0OsrkfnCmtk0"
   },
   "source": [
    "Moreover, we will further split the training set to extract a validation set, which will be used to monior the accuracy and loss to avoid overfitting during the model training."
   ]
  },
  {
   "cell_type": "code",
   "execution_count": 46,
   "metadata": {
    "execution": {
     "iopub.status.busy": "2023-12-28T12:06:47.482494Z",
     "iopub.status.idle": "2023-12-28T12:06:47.482951Z",
     "shell.execute_reply": "2023-12-28T12:06:47.482755Z",
     "shell.execute_reply.started": "2023-12-28T12:06:47.482735Z"
    },
    "id": "1KyTh6H5GbR4"
   },
   "outputs": [],
   "source": [
    "X_train, X_valid, y_train, y_valid = train_test_split(X_train, y_train, test_size=0.2, stratify=y_train, random_state=seed_value)"
   ]
  },
  {
   "cell_type": "code",
   "execution_count": 47,
   "metadata": {
    "execution": {
     "iopub.status.busy": "2023-12-28T12:06:47.484013Z",
     "iopub.status.idle": "2023-12-28T12:06:47.484362Z",
     "shell.execute_reply": "2023-12-28T12:06:47.484200Z",
     "shell.execute_reply.started": "2023-12-28T12:06:47.484183Z"
    },
    "id": "N-mC3qyuBONc",
    "outputId": "f2951106-29bf-4611-e420-84b7d19c4fc9"
   },
   "outputs": [
    {
     "data": {
      "text/plain": [
       "array([[   0, 5035],\n",
       "       [   1, 5012],\n",
       "       [   2, 4919],\n",
       "       [   3, 4740],\n",
       "       [   4, 4473],\n",
       "       [   5, 3353]])"
      ]
     },
     "execution_count": 47,
     "metadata": {},
     "output_type": "execute_result"
    }
   ],
   "source": [
    "(unique, counts) = np.unique(y_train, return_counts=True)\n",
    "np.asarray((unique, counts)).T"
   ]
  },
  {
   "cell_type": "markdown",
   "metadata": {
    "id": "45AGAxHSnCXW"
   },
   "source": [
    "The classes are unbalanced, so it could be a good idea to oversample the training set such that all classes have the same count as the most populated one."
   ]
  },
  {
   "cell_type": "code",
   "execution_count": 58,
   "metadata": {
    "execution": {
     "iopub.status.busy": "2023-12-28T12:06:47.490881Z",
     "iopub.status.idle": "2023-12-28T12:06:47.491447Z",
     "shell.execute_reply": "2023-12-28T12:06:47.491252Z",
     "shell.execute_reply.started": "2023-12-28T12:06:47.491223Z"
    },
    "id": "lRCIXRz5BONe"
   },
   "outputs": [],
   "source": [
    "clf = CountVectorizer()\n",
    "X_train_cv =  clf.fit_transform(X_train)\n",
    "X_test_cv = clf.transform(X_test)"
   ]
  },
  {
   "cell_type": "code",
   "execution_count": 60,
   "metadata": {
    "execution": {
     "iopub.status.busy": "2023-12-28T12:06:47.494779Z",
     "iopub.status.idle": "2023-12-28T12:06:47.495241Z",
     "shell.execute_reply": "2023-12-28T12:06:47.495044Z",
     "shell.execute_reply.started": "2023-12-28T12:06:47.494995Z"
    },
    "id": "B_FoQa2cBONf"
   },
   "outputs": [],
   "source": [
    "tf_transformer = TfidfTransformer(use_idf=True).fit(X_train_cv)\n",
    "X_train_tf = tf_transformer.transform(X_train_cv)\n",
    "X_test_tf = tf_transformer.transform(X_test_cv)"
   ]
  },
  {
   "cell_type": "markdown",
   "metadata": {
    "id": "QZpta6PbBONf"
   },
   "source": [
    "## Data preprocessing for LSTM"
   ]
  },
  {
   "cell_type": "markdown",
   "metadata": {},
   "source": [
    "Similarly to what we did with Naive Bayes, we need to preprocess the data: in particular we will tokenize the sentences with a custom defined function. <br>\n",
    "The sentences will be converted to lists of number with padding to the max number of words in a sentence."
   ]
  },
  {
   "cell_type": "code",
   "execution_count": 66,
   "metadata": {
    "execution": {
     "iopub.status.busy": "2023-12-28T12:06:47.505868Z",
     "iopub.status.idle": "2023-12-28T12:06:47.506277Z",
     "shell.execute_reply": "2023-12-28T12:06:47.506095Z",
     "shell.execute_reply.started": "2023-12-28T12:06:47.506061Z"
    },
    "id": "PAhPX58mpM0i"
   },
   "outputs": [],
   "source": [
    "def Tokenize(column, seq_len):\n",
    "    ##Create vocabulary of words from column\n",
    "    corpus = [word for text in column for word in text.split()]\n",
    "    count_words = Counter(corpus)\n",
    "    sorted_words = count_words.most_common()\n",
    "    vocab_to_int = {w:i+1 for i, (w,c) in enumerate(sorted_words)}\n",
    "    \n",
    "    ##Tokenize the columns text using the vocabulary\n",
    "    text_int = []\n",
    "    for text in column:\n",
    "        r = [vocab_to_int[word] for word in text.split()]\n",
    "        text_int.append(r)\n",
    "    \n",
    "    ##Add padding to tokens\n",
    "    features = np.zeros((len(text_int), seq_len), dtype = int)\n",
    "    for i, review in enumerate(text_int):\n",
    "        if len(review) <= seq_len:\n",
    "            zeros = list(np.zeros(seq_len - len(review)))\n",
    "            new = zeros + review\n",
    "        else:\n",
    "            new = review[: seq_len]\n",
    "        features[i, :] = np.array(new)\n",
    "\n",
    "    return sorted_words, features"
   ]
  },
  {
   "cell_type": "code",
   "execution_count": 67,
   "metadata": {
    "execution": {
     "iopub.status.busy": "2023-12-28T12:06:47.507718Z",
     "iopub.status.idle": "2023-12-28T12:06:47.508093Z",
     "shell.execute_reply": "2023-12-28T12:06:47.507896Z",
     "shell.execute_reply.started": "2023-12-28T12:06:47.507877Z"
    },
    "id": "Huovl-tkq9pr"
   },
   "outputs": [],
   "source": [
    "vocabulary, tokenized_column = Tokenize(df[\"text_clean\"], max_len)"
   ]
  },
  {
   "cell_type": "code",
   "execution_count": 68,
   "metadata": {
    "execution": {
     "iopub.status.busy": "2023-12-28T12:06:47.514077Z",
     "iopub.status.idle": "2023-12-28T12:06:47.515096Z",
     "shell.execute_reply": "2023-12-28T12:06:47.514785Z",
     "shell.execute_reply.started": "2023-12-28T12:06:47.514751Z"
    }
   },
   "outputs": [
    {
     "data": {
      "text/plain": [
       "array([    0,     0,     0,     0,     0,     0,     0,     0,     0,\n",
       "           0,     0,     0,     0,     0,     0,     0,     0,     0,\n",
       "           0,     0,     0,     0,     0,     0,     0,     0,     0,\n",
       "         298,  2289,   603, 19702,    25])"
      ]
     },
     "execution_count": 68,
     "metadata": {},
     "output_type": "execute_result"
    }
   ],
   "source": [
    "tokenized_column[0]"
   ]
  },
  {
   "cell_type": "markdown",
   "metadata": {},
   "source": [
    "We can check how each tweet has been tokenized with an example:"
   ]
  },
  {
   "cell_type": "code",
   "execution_count": 69,
   "metadata": {
    "execution": {
     "iopub.status.busy": "2023-12-28T12:06:47.516526Z",
     "iopub.status.idle": "2023-12-28T12:06:47.517073Z",
     "shell.execute_reply": "2023-12-28T12:06:47.516804Z",
     "shell.execute_reply.started": "2023-12-28T12:06:47.516778Z"
    }
   },
   "outputs": [
    {
     "data": {
      "text/plain": [
       "'words katandandre food crapilicious mkr'"
      ]
     },
     "execution_count": 69,
     "metadata": {},
     "output_type": "execute_result"
    }
   ],
   "source": [
    "df[\"text_clean\"].iloc[0]"
   ]
  },
  {
   "cell_type": "markdown",
   "metadata": {},
   "source": [
    "This sentence is transformed to the vector:"
   ]
  },
  {
   "cell_type": "code",
   "execution_count": 70,
   "metadata": {
    "execution": {
     "iopub.status.busy": "2023-12-28T12:06:47.519194Z",
     "iopub.status.idle": "2023-12-28T12:06:47.519725Z",
     "shell.execute_reply": "2023-12-28T12:06:47.519466Z",
     "shell.execute_reply.started": "2023-12-28T12:06:47.519439Z"
    }
   },
   "outputs": [
    {
     "data": {
      "text/plain": [
       "array([    0,     0,     0,     0,     0,     0,     0,     0,     0,\n",
       "           0,     0,     0,     0,     0,     0,     0,     0,     0,\n",
       "           0,     0,     0,     0,     0,     0,     0,     0,     0,\n",
       "         298,  2289,   603, 19702,    25])"
      ]
     },
     "execution_count": 70,
     "metadata": {},
     "output_type": "execute_result"
    }
   ],
   "source": [
    "tokenized_column[0]"
   ]
  },
  {
   "cell_type": "markdown",
   "metadata": {},
   "source": [
    "Moreover we can also check the TOP 20 most common words by extracting them from the vocabulary python dictionary we created with the tokenizer."
   ]
  },
  {
   "cell_type": "code",
   "execution_count": 71,
   "metadata": {
    "execution": {
     "iopub.status.busy": "2023-12-28T12:06:47.521052Z",
     "iopub.status.idle": "2023-12-28T12:06:47.521562Z",
     "shell.execute_reply": "2023-12-28T12:06:47.521313Z",
     "shell.execute_reply.started": "2023-12-28T12:06:47.521287Z"
    }
   },
   "outputs": [],
   "source": [
    "keys = []\n",
    "values = []\n",
    "for key, value in vocabulary[:20]:\n",
    "    keys.append(key)\n",
    "    values.append(value)"
   ]
  },
  {
   "cell_type": "markdown",
   "metadata": {},
   "source": [
    "# Word Embedding by Word2Vec"
   ]
  },
  {
   "cell_type": "code",
   "execution_count": 73,
   "metadata": {
    "execution": {
     "iopub.status.busy": "2023-12-28T12:06:47.525633Z",
     "iopub.status.idle": "2023-12-28T12:06:47.526158Z",
     "shell.execute_reply": "2023-12-28T12:06:47.525890Z",
     "shell.execute_reply.started": "2023-12-28T12:06:47.525863Z"
    }
   },
   "outputs": [],
   "source": [
    "Word2vec_train_data = list(map(lambda x: x.split(), X_train))"
   ]
  },
  {
   "cell_type": "code",
   "execution_count": 74,
   "metadata": {
    "execution": {
     "iopub.status.busy": "2023-12-28T12:06:47.527698Z",
     "iopub.status.idle": "2023-12-28T12:06:47.528226Z",
     "shell.execute_reply": "2023-12-28T12:06:47.527948Z",
     "shell.execute_reply.started": "2023-12-28T12:06:47.527922Z"
    }
   },
   "outputs": [],
   "source": [
    "EMBEDDING_DIM = 200"
   ]
  },
  {
   "cell_type": "code",
   "execution_count": 75,
   "metadata": {
    "execution": {
     "iopub.status.busy": "2023-12-28T12:06:47.529532Z",
     "iopub.status.idle": "2023-12-28T12:06:47.530017Z",
     "shell.execute_reply": "2023-12-28T12:06:47.529778Z",
     "shell.execute_reply.started": "2023-12-28T12:06:47.529752Z"
    }
   },
   "outputs": [],
   "source": [
    "word2vec_model = Word2Vec(Word2vec_train_data, vector_size=EMBEDDING_DIM)"
   ]
  },
  {
   "cell_type": "code",
   "execution_count": 76,
   "metadata": {
    "execution": {
     "iopub.status.busy": "2023-12-28T12:06:47.531363Z",
     "iopub.status.idle": "2023-12-28T12:06:47.531706Z",
     "shell.execute_reply": "2023-12-28T12:06:47.531548Z",
     "shell.execute_reply.started": "2023-12-28T12:06:47.531530Z"
    }
   },
   "outputs": [
    {
     "name": "stdout",
     "output_type": "stream",
     "text": [
      "Vocabulary size: 47570\n"
     ]
    }
   ],
   "source": [
    "print(f\"Vocabulary size: {len(vocabulary) + 1}\")"
   ]
  },
  {
   "cell_type": "code",
   "execution_count": 77,
   "metadata": {
    "execution": {
     "iopub.status.busy": "2023-12-28T12:06:47.532672Z",
     "iopub.status.idle": "2023-12-28T12:06:47.532999Z",
     "shell.execute_reply": "2023-12-28T12:06:47.532839Z",
     "shell.execute_reply.started": "2023-12-28T12:06:47.532821Z"
    }
   },
   "outputs": [],
   "source": [
    "VOCAB_SIZE = len(vocabulary) + 1 #+1 for the padding"
   ]
  },
  {
   "cell_type": "markdown",
   "metadata": {},
   "source": [
    "Finally we can define the embedding matrix."
   ]
  },
  {
   "cell_type": "code",
   "execution_count": 78,
   "metadata": {
    "execution": {
     "iopub.status.busy": "2023-12-28T12:06:47.534365Z",
     "iopub.status.idle": "2023-12-28T12:06:47.534705Z",
     "shell.execute_reply": "2023-12-28T12:06:47.534548Z",
     "shell.execute_reply.started": "2023-12-28T12:06:47.534530Z"
    }
   },
   "outputs": [
    {
     "name": "stdout",
     "output_type": "stream",
     "text": [
      "Embedding Matrix Shape: (47570, 200)\n"
     ]
    }
   ],
   "source": [
    "# Define an empty embedding matrix of shape (VOCAB_SIZE, EMBEDDING_DIM)\n",
    "embedding_matrix = np.zeros((VOCAB_SIZE, EMBEDDING_DIM))\n",
    "\n",
    "# Fill the embedding matrix with pre-trained values from word2vec\n",
    "for word, token in vocabulary:\n",
    "    # Check if the word is present in the word2vec model's vocabulary\n",
    "    if word in word2vec_model.wv.key_to_index:\n",
    "        # If the word is present, retrieve its embedding vector and add it to the embedding matrix\n",
    "        embedding_vector = word2vec_model.wv[word]\n",
    "        embedding_matrix[token] = embedding_vector\n",
    "\n",
    "# Print the shape of the embedding matrix\n",
    "print(\"Embedding Matrix Shape:\", embedding_matrix.shape)"
   ]
  },
  {
   "cell_type": "markdown",
   "metadata": {},
   "source": [
    "## Train - Validation - Test split"
   ]
  },
  {
   "cell_type": "code",
   "execution_count": 79,
   "metadata": {
    "execution": {
     "iopub.status.busy": "2023-12-28T12:06:47.535656Z",
     "iopub.status.idle": "2023-12-28T12:06:47.536161Z",
     "shell.execute_reply": "2023-12-28T12:06:47.535842Z",
     "shell.execute_reply.started": "2023-12-28T12:06:47.535824Z"
    },
    "id": "xPzbx9jFBONg"
   },
   "outputs": [],
   "source": [
    "X = tokenized_column\n",
    "y = df['sentiment'].values"
   ]
  },
  {
   "cell_type": "code",
   "execution_count": 80,
   "metadata": {
    "execution": {
     "iopub.status.busy": "2023-12-28T12:06:47.537259Z",
     "iopub.status.idle": "2023-12-28T12:06:47.537592Z",
     "shell.execute_reply": "2023-12-28T12:06:47.537435Z",
     "shell.execute_reply.started": "2023-12-28T12:06:47.537417Z"
    },
    "id": "HQJ-XSMzBONg"
   },
   "outputs": [],
   "source": [
    "X_train, X_test, y_train, y_test = train_test_split(X, y, test_size=0.2, stratify=y, random_state=seed_value)"
   ]
  },
  {
   "cell_type": "code",
   "execution_count": 81,
   "metadata": {
    "execution": {
     "iopub.status.busy": "2023-12-28T12:06:47.538532Z",
     "iopub.status.idle": "2023-12-28T12:06:47.538863Z",
     "shell.execute_reply": "2023-12-28T12:06:47.538707Z",
     "shell.execute_reply.started": "2023-12-28T12:06:47.538689Z"
    },
    "id": "aeca_zUVBONg"
   },
   "outputs": [],
   "source": [
    "X_train, X_valid, y_train, y_valid = train_test_split(X_train, y_train, test_size=0.2, stratify=y_train, random_state=seed_value)"
   ]
  },
  {
   "cell_type": "markdown",
   "metadata": {},
   "source": [
    "We can check the balance of the target classes:"
   ]
  },
  {
   "cell_type": "code",
   "execution_count": 82,
   "metadata": {
    "execution": {
     "iopub.status.busy": "2023-12-28T12:06:47.539904Z",
     "iopub.status.idle": "2023-12-28T12:06:47.540280Z",
     "shell.execute_reply": "2023-12-28T12:06:47.540094Z",
     "shell.execute_reply.started": "2023-12-28T12:06:47.540076Z"
    },
    "id": "FX77tlMuBONg",
    "outputId": "cc16a7b1-1bfd-4ddf-91b9-168cc767d48d"
   },
   "outputs": [
    {
     "data": {
      "text/plain": [
       "array([[   0, 5035],\n",
       "       [   1, 5012],\n",
       "       [   2, 4919],\n",
       "       [   3, 4740],\n",
       "       [   4, 4473],\n",
       "       [   5, 3353]])"
      ]
     },
     "execution_count": 82,
     "metadata": {},
     "output_type": "execute_result"
    }
   ],
   "source": [
    "(unique, counts) = np.unique(y_train, return_counts=True)\n",
    "np.asarray((unique, counts)).T"
   ]
  },
  {
   "cell_type": "markdown",
   "metadata": {},
   "source": [
    "And then apply random oversampling on the training set."
   ]
  },
  {
   "cell_type": "code",
   "execution_count": 87,
   "metadata": {
    "execution": {
     "iopub.status.busy": "2023-12-28T12:06:47.545578Z",
     "iopub.status.idle": "2023-12-28T12:06:47.545908Z",
     "shell.execute_reply": "2023-12-28T12:06:47.545750Z",
     "shell.execute_reply.started": "2023-12-28T12:06:47.545732Z"
    },
    "id": "O-e9FHZp5Qsc"
   },
   "outputs": [],
   "source": [
    "train_data = TensorDataset(torch.from_numpy(X_train), torch.from_numpy(y_train))\n",
    "test_data = TensorDataset(torch.from_numpy(X_test), torch.from_numpy(y_test))\n",
    "valid_data = TensorDataset(torch.from_numpy(X_valid), torch.from_numpy(y_valid))"
   ]
  },
  {
   "cell_type": "code",
   "execution_count": 88,
   "metadata": {
    "execution": {
     "iopub.status.busy": "2023-12-28T12:06:47.546976Z",
     "iopub.status.idle": "2023-12-28T12:06:47.547367Z",
     "shell.execute_reply": "2023-12-28T12:06:47.547205Z",
     "shell.execute_reply.started": "2023-12-28T12:06:47.547184Z"
    },
    "id": "RfzfdlUFX8al"
   },
   "outputs": [],
   "source": [
    "BATCH_SIZE = 32"
   ]
  },
  {
   "cell_type": "code",
   "execution_count": 89,
   "metadata": {
    "execution": {
     "iopub.status.busy": "2023-12-28T12:06:47.548528Z",
     "iopub.status.idle": "2023-12-28T12:06:47.548870Z",
     "shell.execute_reply": "2023-12-28T12:06:47.548709Z",
     "shell.execute_reply.started": "2023-12-28T12:06:47.548690Z"
    },
    "id": "S2TGQjB4X7UQ"
   },
   "outputs": [],
   "source": [
    "train_loader = DataLoader(train_data, shuffle=True, batch_size=BATCH_SIZE, drop_last=True) \n",
    "valid_loader = DataLoader(valid_data, shuffle=False, batch_size=BATCH_SIZE, drop_last=True)\n",
    "test_loader = DataLoader(test_data, shuffle=False, batch_size=BATCH_SIZE, drop_last=True)"
   ]
  },
  {
   "cell_type": "code",
   "execution_count": 90,
   "metadata": {
    "execution": {
     "iopub.status.busy": "2023-12-28T12:06:47.550523Z",
     "iopub.status.idle": "2023-12-28T12:06:47.551045Z",
     "shell.execute_reply": "2023-12-28T12:06:47.550774Z",
     "shell.execute_reply.started": "2023-12-28T12:06:47.550748Z"
    }
   },
   "outputs": [],
   "source": [
    "class Attention(nn.Module):\n",
    "    def __init__(self, hidden_dim, is_bidirectional):\n",
    "        super(Attention, self).__init__()\n",
    "        self.is_bidirectional = is_bidirectional\n",
    "        # The attention linear layer which transforms the input data to the hidden space\n",
    "        self.attn = nn.Linear(hidden_dim * (4 if is_bidirectional else 2), hidden_dim * (2 if is_bidirectional else 1))\n",
    "        # The linear layer that calculates the attention scores\n",
    "        self.v = nn.Linear(hidden_dim * (2 if is_bidirectional else 1), 1, bias=False)\n",
    "\n",
    "    def forward(self, hidden, encoder_outputs):\n",
    "        seq_len = encoder_outputs.size(1)\n",
    "        # Concatenate the last two hidden states in case of a bidirectional LSTM\n",
    "        if self.is_bidirectional:\n",
    "            hidden = torch.cat((hidden[-2], hidden[-1]), dim=-1)\n",
    "        else:\n",
    "            hidden = hidden[-1]\n",
    "        # Repeat the hidden state across the sequence length\n",
    "        hidden_repeated = hidden.unsqueeze(1).repeat(1, seq_len, 1)\n",
    "        # Calculate attention weights\n",
    "        attn_weights = torch.tanh(self.attn(torch.cat((hidden_repeated, encoder_outputs), dim=2)))\n",
    "        # Compute attention scores\n",
    "        attn_weights = self.v(attn_weights).squeeze(2)\n",
    "        # Apply softmax to get valid probabilities\n",
    "        return nn.functional.softmax(attn_weights, dim=1)\n",
    "\n",
    "\n",
    "class LSTM_Sentiment_Classifier(nn.Module):\n",
    "    def __init__(self, vocab_size, embedding_dim, hidden_dim, num_classes, lstm_layers, dropout, is_bidirectional):\n",
    "        super(LSTM_Sentiment_Classifier, self).__init__()\n",
    "        self.hidden_dim = hidden_dim\n",
    "        self.num_layers = lstm_layers\n",
    "        self.is_bidirectional = is_bidirectional\n",
    "\n",
    "        # The Embedding layer that converts input words to embeddings\n",
    "        self.embedding = nn.Embedding(vocab_size, embedding_dim)\n",
    "        # LSTM layer which processes the embeddings\n",
    "        self.lstm = nn.LSTM(embedding_dim, hidden_dim, lstm_layers, batch_first=True, bidirectional=is_bidirectional)\n",
    "        # Attention layer to compute the context vector\n",
    "        self.attention = Attention(hidden_dim, is_bidirectional)\n",
    "        # Fully connected layer which classifies the context vector into classes\n",
    "        self.fc = nn.Linear(hidden_dim * (2 if is_bidirectional else 1), num_classes)\n",
    "        # Apply LogSoftmax to outputs for numerical stability\n",
    "        self.softmax = nn.LogSoftmax(dim=1)\n",
    "        # Dropout layer for regularisation\n",
    "        self.dropout = nn.Dropout(dropout)\n",
    "\n",
    "    def forward(self, x, hidden):\n",
    "        # Transform words to embeddings\n",
    "        embedded = self.embedding(x)\n",
    "        # Pass embeddings to LSTM\n",
    "        out, hidden = self.lstm(embedded, hidden)\n",
    "        # Calculate attention weights\n",
    "        attn_weights = self.attention(hidden[0], out)\n",
    "        # Calculate context vector by taking the weighted sum of LSTM outputs\n",
    "        context = attn_weights.unsqueeze(1).bmm(out).squeeze(1)\n",
    "        # Classify the context vector\n",
    "        out = self.softmax(self.fc(context))\n",
    "        return out, hidden\n",
    "\n",
    "    def init_hidden(self, batch_size):\n",
    "        # Factor determines the size of hidden states depending on bidirectionality\n",
    "        factor = 2 if self.is_bidirectional else 1\n",
    "        # Initial hidden and cell states are zero\n",
    "        h0 = torch.zeros(self.num_layers * factor, batch_size, self.hidden_dim).to(DEVICE)\n",
    "        c0 = torch.zeros(self.num_layers * factor, batch_size, self.hidden_dim).to(DEVICE)\n",
    "        "
   ]
  },
  {
   "cell_type": "code",
   "execution_count": 91,
   "metadata": {
    "execution": {
     "iopub.status.busy": "2023-12-28T12:06:47.552520Z",
     "iopub.status.idle": "2023-12-28T12:06:47.553011Z",
     "shell.execute_reply": "2023-12-28T12:06:47.552764Z",
     "shell.execute_reply.started": "2023-12-28T12:06:47.552738Z"
    }
   },
   "outputs": [
    {
     "name": "stdout",
     "output_type": "stream",
     "text": [
      "LSTM_Sentiment_Classifier(\n",
      "  (embedding): Embedding(47570, 200)\n",
      "  (lstm): LSTM(200, 100, batch_first=True)\n",
      "  (attention): Attention(\n",
      "    (attn): Linear(in_features=200, out_features=100, bias=True)\n",
      "    (v): Linear(in_features=100, out_features=1, bias=False)\n",
      "  )\n",
      "  (fc): Linear(in_features=100, out_features=6, bias=True)\n",
      "  (softmax): LogSoftmax(dim=1)\n",
      "  (dropout): Dropout(p=0.5, inplace=False)\n",
      ")\n"
     ]
    }
   ],
   "source": [
    "NUM_CLASSES = 6\n",
    "HIDDEN_DIM = 100 #number of neurons of the internal state (internal neural network in the LSTM)\n",
    "LSTM_LAYERS = 1 \n",
    "\n",
    "IS_BIDIRECTIONAL = True # Set this to False for unidirectional LSTM, and True for bidirectional LSTM\n",
    "\n",
    "LR = 4e-4 #Learning rate\n",
    "DROPOUT = 0.5 #LSTM Dropout\n",
    "EPOCHS = 10 #Number of training epoch\n",
    "\n",
    "DEVICE = 'cuda' if torch.cuda.is_available() else 'cpu'\n",
    "\n",
    "model = LSTM_Sentiment_Classifier(VOCAB_SIZE, EMBEDDING_DIM, HIDDEN_DIM, NUM_CLASSES, LSTM_LAYERS, DROPOUT, IS_BIDIRECTIONAL)\n",
    "\n",
    "model = model.to(DEVICE)\n",
    "\n",
    "# Initialize the embedding layer with the previously defined embedding matrix\n",
    "model.embedding.weight.data.copy_(torch.from_numpy(embedding_matrix))\n",
    "# Allow the embedding matrix to be fine-tuned to better adapt to our dataset and get higher accuracy\n",
    "model.embedding.weight.requires_grad = True\n",
    "\n",
    "# Set up the criterion (loss function)\n",
    "criterion = nn.NLLLoss()\n",
    "optimizer = torch.optim.AdamW(model.parameters(), lr=LR, weight_decay = 5e-6)\n",
    "\n",
    "print(model)"
   ]
  },
  {
   "cell_type": "markdown",
   "metadata": {},
   "source": [
    "# LSTM Training loop "
   ]
  },
  {
   "cell_type": "markdown",
   "metadata": {},
   "source": [
    "Now we will define a custom training loop, where we include an early stopping functionality, and save only the best models in terms of validation accuracy."
   ]
  },
  {
   "cell_type": "code",
   "execution_count": 92,
   "metadata": {
    "execution": {
     "iopub.status.busy": "2023-12-28T12:06:47.554715Z",
     "iopub.status.idle": "2023-12-28T12:06:47.555177Z",
     "shell.execute_reply": "2023-12-28T12:06:47.554972Z",
     "shell.execute_reply.started": "2023-12-28T12:06:47.554950Z"
    },
    "id": "5rK3YPVT5Qsd"
   },
   "outputs": [
    {
     "name": "stdout",
     "output_type": "stream",
     "text": [
      "Epoch 1:Validation accuracy increased (0.000000 --> 81.322674).  Saving model ...\n",
      "\tTrain_loss : 0.8373 Val_loss : 0.4420\n",
      "\tTrain_acc : 66.228% Val_acc : 81.323%\n",
      "Epoch 2:Validation accuracy increased (81.322674 --> 83.372093).  Saving model ...\n",
      "\tTrain_loss : 0.3816 Val_loss : 0.3914\n",
      "\tTrain_acc : 83.092% Val_acc : 83.372%\n",
      "Epoch 3:Validation accuracy increased (83.372093 --> 83.633721).  Saving model ...\n",
      "\tTrain_loss : 0.2582 Val_loss : 0.4159\n",
      "\tTrain_acc : 89.637% Val_acc : 83.634%\n",
      "Epoch 4:Validation accuracy increased (83.633721 --> 83.909884).  Saving model ...\n",
      "\tTrain_loss : 0.1576 Val_loss : 0.4554\n",
      "\tTrain_acc : 94.277% Val_acc : 83.910%\n",
      "Epoch 5:Validation accuracy increased (83.909884 --> 84.026163).  Saving model ...\n",
      "\tTrain_loss : 0.0991 Val_loss : 0.4959\n",
      "\tTrain_acc : 96.508% Val_acc : 84.026%\n",
      "Epoch 6:Validation accuracy did not increase\n",
      "\tTrain_loss : 0.0670 Val_loss : 0.5967\n",
      "\tTrain_acc : 97.842% Val_acc : 82.660%\n",
      "Epoch 7:Validation accuracy did not increase\n",
      "\tTrain_loss : 0.0464 Val_loss : 0.6956\n",
      "\tTrain_acc : 98.423% Val_acc : 82.674%\n",
      "Epoch 8:Validation accuracy did not increase\n",
      "\tTrain_loss : 0.0375 Val_loss : 0.7448\n",
      "\tTrain_acc : 98.688% Val_acc : 82.689%\n",
      "Epoch 9:Validation accuracy did not increase\n",
      "\tTrain_loss : 0.0289 Val_loss : 0.7876\n",
      "\tTrain_acc : 98.993% Val_acc : 82.427%\n",
      "Epoch 10:Validation accuracy did not increase\n",
      "Early stopped at epoch : 10\n"
     ]
    }
   ],
   "source": [
    "total_step = len(train_loader)\n",
    "total_step_val = len(valid_loader)\n",
    "\n",
    "early_stopping_patience = 4\n",
    "early_stopping_counter = 0\n",
    "\n",
    "valid_acc_max = 0 # Initialize best accuracy top 0\n",
    "\n",
    "for e in range(EPOCHS):\n",
    "\n",
    "    #lists to host the train and validation losses of every batch for each epoch\n",
    "    train_loss, valid_loss  = [], []\n",
    "    #lists to host the train and validation accuracy of every batch for each epoch\n",
    "    train_acc, valid_acc  = [], []\n",
    "\n",
    "    #lists to host the train and validation predictions of every batch for each epoch\n",
    "    y_train_list, y_val_list = [], []\n",
    "\n",
    "    #initalize number of total and correctly classified texts during training and validation\n",
    "    correct, correct_val = 0, 0\n",
    "    total, total_val = 0, 0\n",
    "    running_loss, running_loss_val = 0, 0\n",
    "\n",
    "\n",
    "    ####TRAINING LOOP####\n",
    "\n",
    "    model.train()\n",
    "\n",
    "    for inputs, labels in train_loader:\n",
    "        inputs, labels = inputs.to(DEVICE), labels.to(DEVICE) #load features and targets in device\n",
    "\n",
    "        h = model.init_hidden(labels.size(0))\n",
    "\n",
    "        model.zero_grad() #reset gradients \n",
    "\n",
    "        output, h = model(inputs,h) #get output and hidden states from LSTM network\n",
    "        \n",
    "        loss = criterion(output, labels)\n",
    "        loss.backward()\n",
    "        \n",
    "        running_loss += loss.item()\n",
    "        \n",
    "        optimizer.step()\n",
    "\n",
    "        y_pred_train = torch.argmax(output, dim=1) #get tensor of predicted values on the training set\n",
    "        y_train_list.extend(y_pred_train.squeeze().tolist()) #transform tensor to list and the values to the list\n",
    "        \n",
    "        correct += torch.sum(y_pred_train==labels).item() #count correctly classified texts per batch\n",
    "        total += labels.size(0) #count total texts per batch\n",
    "\n",
    "    train_loss.append(running_loss / total_step)\n",
    "    train_acc.append(100 * correct / total)\n",
    "\n",
    "    ####VALIDATION LOOP####\n",
    "    \n",
    "    with torch.no_grad():\n",
    "        \n",
    "        model.eval()\n",
    "        \n",
    "        for inputs, labels in valid_loader:\n",
    "            inputs, labels = inputs.to(DEVICE), labels.to(DEVICE)\n",
    "\n",
    "            val_h = model.init_hidden(labels.size(0))\n",
    "\n",
    "            output, val_h = model(inputs, val_h)\n",
    "\n",
    "            val_loss = criterion(output, labels)\n",
    "            running_loss_val += val_loss.item()\n",
    "\n",
    "            y_pred_val = torch.argmax(output, dim=1)\n",
    "            y_val_list.extend(y_pred_val.squeeze().tolist())\n",
    "\n",
    "            correct_val += torch.sum(y_pred_val==labels).item()\n",
    "            total_val += labels.size(0)\n",
    "\n",
    "        valid_loss.append(running_loss_val / total_step_val)\n",
    "        valid_acc.append(100 * correct_val / total_val)\n",
    "\n",
    "    #Save model if validation accuracy increases\n",
    "    if np.mean(valid_acc) >= valid_acc_max:\n",
    "        torch.save(model.state_dict(), './state_dict.pt')\n",
    "        print(f'Epoch {e+1}:Validation accuracy increased ({valid_acc_max:.6f} --> {np.mean(valid_acc):.6f}).  Saving model ...')\n",
    "        valid_acc_max = np.mean(valid_acc)\n",
    "        early_stopping_counter=0 #reset counter if validation accuracy increases\n",
    "    else:\n",
    "        print(f'Epoch {e+1}:Validation accuracy did not increase')\n",
    "        early_stopping_counter+=1 #increase counter if validation accuracy does not increase\n",
    "        \n",
    "    if early_stopping_counter > early_stopping_patience:\n",
    "        print('Early stopped at epoch :', e+1)\n",
    "        break\n",
    "    \n",
    "    print(f'\\tTrain_loss : {np.mean(train_loss):.4f} Val_loss : {np.mean(valid_loss):.4f}')\n",
    "    print(f'\\tTrain_acc : {np.mean(train_acc):.3f}% Val_acc : {np.mean(valid_acc):.3f}%')"
   ]
  },
  {
   "cell_type": "code",
   "execution_count": null,
   "metadata": {},
   "outputs": [],
   "source": []
  },
  {
   "cell_type": "code",
   "execution_count": 93,
   "metadata": {
    "execution": {
     "iopub.status.busy": "2023-12-28T12:06:47.556530Z",
     "iopub.status.idle": "2023-12-28T12:06:47.557016Z",
     "shell.execute_reply": "2023-12-28T12:06:47.556775Z",
     "shell.execute_reply.started": "2023-12-28T12:06:47.556749Z"
    },
    "id": "wfTLdAi45Qsd"
   },
   "outputs": [
    {
     "data": {
      "text/plain": [
       "<All keys matched successfully>"
      ]
     },
     "execution_count": 93,
     "metadata": {},
     "output_type": "execute_result"
    }
   ],
   "source": [
    "# Loading the best model\n",
    "model.load_state_dict(torch.load('./state_dict.pt'))"
   ]
  }
 ],
 "metadata": {
  "kaggle": {
   "accelerator": "gpu",
   "dataSources": [
    {
     "datasetId": 1869236,
     "sourceId": 3053020,
     "sourceType": "datasetVersion"
    }
   ],
   "dockerImageVersionId": 30152,
   "isGpuEnabled": true,
   "isInternetEnabled": false,
   "language": "python",
   "sourceType": "notebook"
  },
  "kernelspec": {
   "display_name": "Python 3 (ipykernel)",
   "language": "python",
   "name": "python3"
  },
  "language_info": {
   "codemirror_mode": {
    "name": "ipython",
    "version": 3
   },
   "file_extension": ".py",
   "mimetype": "text/x-python",
   "name": "python",
   "nbconvert_exporter": "python",
   "pygments_lexer": "ipython3",
   "version": "3.11.5"
  }
 },
 "nbformat": 4,
 "nbformat_minor": 4
}
