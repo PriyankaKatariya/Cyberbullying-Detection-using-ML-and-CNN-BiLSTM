{
 "cells": [
  {
   "cell_type": "markdown",
   "metadata": {
    "id": "6x_kMU3nSi_s"
   },
   "source": [
    "# Importing neccessary libraries and dataset"
   ]
  },
  {
   "cell_type": "code",
   "execution_count": null,
   "metadata": {
    "id": "ra3ZQKLITQ7r",
    "outputId": "cc9a9543-209d-43f9-a7a6-c57a1c069cf3"
   },
   "outputs": [],
   "source": [
    "!pip install contractions\n",
    "!pip install nltk\n",
    "!pip install autocorrect \n",
    "!pip install --upgrade matplotlib"
   ]
  },
  {
   "cell_type": "code",
   "execution_count": 1,
   "metadata": {
    "execution": {
     "iopub.execute_input": "2022-07-16T13:38:55.925151Z",
     "iopub.status.busy": "2022-07-16T13:38:55.924735Z",
     "iopub.status.idle": "2022-07-16T13:38:55.936749Z",
     "shell.execute_reply": "2022-07-16T13:38:55.935693Z",
     "shell.execute_reply.started": "2022-07-16T13:38:55.925113Z"
    },
    "id": "h8BHgyTwRRaJ",
    "outputId": "f1deace4-95cf-42f2-b437-1b09adf2fe6e"
   },
   "outputs": [
    {
     "name": "stderr",
     "output_type": "stream",
     "text": [
      "[nltk_data] Downloading package wordnet to\n",
      "[nltk_data]     /Users/localadmin/nltk_data...\n",
      "[nltk_data]   Package wordnet is already up-to-date!\n",
      "[nltk_data] Downloading package punkt to\n",
      "[nltk_data]     /Users/localadmin/nltk_data...\n",
      "[nltk_data]   Package punkt is already up-to-date!\n",
      "[nltk_data] Downloading package stopwords to\n",
      "[nltk_data]     /Users/localadmin/nltk_data...\n",
      "[nltk_data]   Package stopwords is already up-to-date!\n"
     ]
    }
   ],
   "source": [
    "import string # from some string manipulation tasks\n",
    "import nltk # natural language toolkit\n",
    "import re # regex\n",
    "from string import punctuation # solving punctuation problems\n",
    "from nltk.corpus import stopwords # stop words in sentences\n",
    "from nltk.stem import WordNetLemmatizer # For stemming the sentence\n",
    "from nltk.stem import SnowballStemmer # For stemming the sentence\n",
    "from contractions import contractions_dict # to solve contractions\n",
    "from autocorrect import Speller #correcting the spellings\n",
    "nltk.download('wordnet')\n",
    "nltk.download('punkt')\n",
    "nltk.download('stopwords')\n",
    "\n",
    "#Libraries for general purpose\n",
    "import matplotlib.pyplot as plt\n",
    "import seaborn as sns\n",
    "\n",
    "\n",
    "#Data preprocessing\n",
    "from sklearn import preprocessing\n",
    "from sklearn.model_selection import train_test_split\n",
    "from imblearn.over_sampling import RandomOverSampler\n",
    "\n",
    "#Naive Bayes\n",
    "from sklearn.feature_extraction.text import CountVectorizer\n",
    "from sklearn.feature_extraction.text import TfidfTransformer\n",
    "from sklearn.naive_bayes import MultinomialNB"
   ]
  },
  {
   "cell_type": "code",
   "execution_count": 4,
   "metadata": {
    "execution": {
     "iopub.execute_input": "2022-07-16T13:38:55.938507Z",
     "iopub.status.busy": "2022-07-16T13:38:55.938136Z",
     "iopub.status.idle": "2022-07-16T13:38:56.101055Z",
     "shell.execute_reply": "2022-07-16T13:38:56.100147Z",
     "shell.execute_reply.started": "2022-07-16T13:38:55.938476Z"
    },
    "id": "4DO9fb9TTOWs",
    "outputId": "70f3509b-8956-468d-fae1-7901f6eb18e7"
   },
   "outputs": [
    {
     "data": {
      "text/plain": [
       "cyberbullying_type\n",
       "religion               7998\n",
       "age                    7992\n",
       "gender                 7973\n",
       "ethnicity              7961\n",
       "not_cyberbullying      7945\n",
       "other_cyberbullying    7823\n",
       "Name: count, dtype: int64"
      ]
     },
     "execution_count": 4,
     "metadata": {},
     "output_type": "execute_result"
    }
   ],
   "source": [
    "import numpy as np\n",
    "import pandas as pd\n",
    "\n",
    "df = pd.read_csv('/Users/localadmin/Desktop/cyberbully project/cyberbullying_tweets.csv')\n",
    "df['cyberbullying_type'].value_counts()"
   ]
  },
  {
   "cell_type": "markdown",
   "metadata": {
    "id": "-G0bAFMCURf7"
   },
   "source": [
    "**There is not much imbalance between different cyberbulling type. other_cyberbulling will be removed since it may cause a confusion for the models with other cyberbullying class.**"
   ]
  },
  {
   "cell_type": "code",
   "execution_count": 5,
   "metadata": {
    "execution": {
     "iopub.execute_input": "2022-07-16T13:38:56.102885Z",
     "iopub.status.busy": "2022-07-16T13:38:56.102586Z",
     "iopub.status.idle": "2022-07-16T13:38:56.135081Z",
     "shell.execute_reply": "2022-07-16T13:38:56.134138Z",
     "shell.execute_reply.started": "2022-07-16T13:38:56.102858Z"
    },
    "id": "S_psmeUqUpbk",
    "outputId": "ff9d7764-f21d-4c9b-f812-25c7a42f4f09"
   },
   "outputs": [
    {
     "data": {
      "text/plain": [
       "cyberbullying_type\n",
       "religion             7998\n",
       "age                  7992\n",
       "gender               7973\n",
       "ethnicity            7961\n",
       "not_cyberbullying    7945\n",
       "Name: count, dtype: int64"
      ]
     },
     "execution_count": 5,
     "metadata": {},
     "output_type": "execute_result"
    }
   ],
   "source": [
    "df.drop(df[df['cyberbullying_type'] == 'other_cyberbullying'].index, inplace = True)\n",
    "df['cyberbullying_type'].value_counts()"
   ]
  },
  {
   "cell_type": "markdown",
   "metadata": {
    "id": "S3-3PPX0aZEk"
   },
   "source": [
    "# Dataset Preprocessing"
   ]
  },
  {
   "cell_type": "code",
   "execution_count": 6,
   "metadata": {
    "execution": {
     "iopub.execute_input": "2022-07-16T13:38:56.137298Z",
     "iopub.status.busy": "2022-07-16T13:38:56.136508Z",
     "iopub.status.idle": "2022-07-16T13:38:56.144787Z",
     "shell.execute_reply": "2022-07-16T13:38:56.143978Z",
     "shell.execute_reply.started": "2022-07-16T13:38:56.13725Z"
    },
    "id": "tojl2kQnXxK0"
   },
   "outputs": [],
   "source": [
    "# Renaming Categories\n",
    "df = df.rename(columns={'tweet_text': 'text', 'cyberbullying_type': 'sentiment'})"
   ]
  },
  {
   "cell_type": "code",
   "execution_count": 7,
   "metadata": {
    "execution": {
     "iopub.execute_input": "2022-07-16T13:38:56.14731Z",
     "iopub.status.busy": "2022-07-16T13:38:56.146377Z",
     "iopub.status.idle": "2022-07-16T13:38:56.167347Z",
     "shell.execute_reply": "2022-07-16T13:38:56.166018Z",
     "shell.execute_reply.started": "2022-07-16T13:38:56.14726Z"
    },
    "id": "fGbS2E1LX28z",
    "outputId": "acd36de9-c2ce-42ab-c759-ab242cea8631"
   },
   "outputs": [
    {
     "data": {
      "text/html": [
       "<div>\n",
       "<style scoped>\n",
       "    .dataframe tbody tr th:only-of-type {\n",
       "        vertical-align: middle;\n",
       "    }\n",
       "\n",
       "    .dataframe tbody tr th {\n",
       "        vertical-align: top;\n",
       "    }\n",
       "\n",
       "    .dataframe thead th {\n",
       "        text-align: right;\n",
       "    }\n",
       "</style>\n",
       "<table border=\"1\" class=\"dataframe\">\n",
       "  <thead>\n",
       "    <tr style=\"text-align: right;\">\n",
       "      <th></th>\n",
       "      <th>text</th>\n",
       "      <th>sentiment</th>\n",
       "    </tr>\n",
       "  </thead>\n",
       "  <tbody>\n",
       "    <tr>\n",
       "      <th>44246</th>\n",
       "      <td>You have to wonder at what points did the whit...</td>\n",
       "      <td>ethnicity</td>\n",
       "    </tr>\n",
       "    <tr>\n",
       "      <th>10206</th>\n",
       "      <td>@VCR_Blog Picked the Ducks to win Cup before s...</td>\n",
       "      <td>gender</td>\n",
       "    </tr>\n",
       "    <tr>\n",
       "      <th>901</th>\n",
       "      <td>@DMCCONAHAY80 haha alright thanks David</td>\n",
       "      <td>not_cyberbullying</td>\n",
       "    </tr>\n",
       "    <tr>\n",
       "      <th>15669</th>\n",
       "      <td>RT @lukemac11 Ahh the chick who announces game...</td>\n",
       "      <td>gender</td>\n",
       "    </tr>\n",
       "    <tr>\n",
       "      <th>44179</th>\n",
       "      <td>Lol....This bitch----&gt; RT @tayyoung_: FUCK OBA...</td>\n",
       "      <td>ethnicity</td>\n",
       "    </tr>\n",
       "    <tr>\n",
       "      <th>10886</th>\n",
       "      <td>It's lovely to know that many #MeToo supporter...</td>\n",
       "      <td>gender</td>\n",
       "    </tr>\n",
       "    <tr>\n",
       "      <th>7785</th>\n",
       "      <td>@Qoloob4 @Vandaliser @sajid_fairooz @IsraeliRe...</td>\n",
       "      <td>not_cyberbullying</td>\n",
       "    </tr>\n",
       "    <tr>\n",
       "      <th>22169</th>\n",
       "      <td>@halalcunty @biebervalue @liamxkiwi @greenline...</td>\n",
       "      <td>religion</td>\n",
       "    </tr>\n",
       "    <tr>\n",
       "      <th>6250</th>\n",
       "      <td>2. She's crazy</td>\n",
       "      <td>not_cyberbullying</td>\n",
       "    </tr>\n",
       "    <tr>\n",
       "      <th>31891</th>\n",
       "      <td>nice mask shaming...i would bet you were also ...</td>\n",
       "      <td>age</td>\n",
       "    </tr>\n",
       "  </tbody>\n",
       "</table>\n",
       "</div>"
      ],
      "text/plain": [
       "                                                    text          sentiment\n",
       "44246  You have to wonder at what points did the whit...          ethnicity\n",
       "10206  @VCR_Blog Picked the Ducks to win Cup before s...             gender\n",
       "901              @DMCCONAHAY80 haha alright thanks David  not_cyberbullying\n",
       "15669  RT @lukemac11 Ahh the chick who announces game...             gender\n",
       "44179  Lol....This bitch----> RT @tayyoung_: FUCK OBA...          ethnicity\n",
       "10886  It's lovely to know that many #MeToo supporter...             gender\n",
       "7785   @Qoloob4 @Vandaliser @sajid_fairooz @IsraeliRe...  not_cyberbullying\n",
       "22169  @halalcunty @biebervalue @liamxkiwi @greenline...           religion\n",
       "6250                                      2. She's crazy  not_cyberbullying\n",
       "31891  nice mask shaming...i would bet you were also ...                age"
      ]
     },
     "execution_count": 7,
     "metadata": {},
     "output_type": "execute_result"
    }
   ],
   "source": [
    "# Checking 10 samples\n",
    "df.sample(10)"
   ]
  },
  {
   "cell_type": "markdown",
   "metadata": {
    "id": "5njNdGXMVPgD"
   },
   "source": [
    "**Converting categories into numbers**"
   ]
  },
  {
   "cell_type": "code",
   "execution_count": 8,
   "metadata": {
    "execution": {
     "iopub.execute_input": "2022-07-16T13:38:56.169433Z",
     "iopub.status.busy": "2022-07-16T13:38:56.169087Z",
     "iopub.status.idle": "2022-07-16T13:38:56.209347Z",
     "shell.execute_reply": "2022-07-16T13:38:56.208219Z",
     "shell.execute_reply.started": "2022-07-16T13:38:56.169402Z"
    },
    "id": "SyfeXFztVTsD"
   },
   "outputs": [],
   "source": [
    "df[\"sentiment\"].replace({\"religion\": 1, \"age\": 2, \"gender\": 3, \"ethnicity\": 4, \"not_cyberbullying\": 5}, inplace=True)"
   ]
  },
  {
   "cell_type": "code",
   "execution_count": 9,
   "metadata": {
    "execution": {
     "iopub.execute_input": "2022-07-16T13:38:56.213787Z",
     "iopub.status.busy": "2022-07-16T13:38:56.213433Z",
     "iopub.status.idle": "2022-07-16T13:38:56.218499Z",
     "shell.execute_reply": "2022-07-16T13:38:56.217257Z",
     "shell.execute_reply.started": "2022-07-16T13:38:56.213755Z"
    },
    "id": "8zyfd5xP4AQN"
   },
   "outputs": [],
   "source": [
    "sentiments = [\"religion\",\"age\",\"gender\",\"ethnicity\",\"not bullying\"]"
   ]
  },
  {
   "cell_type": "markdown",
   "metadata": {
    "id": "DxX5_fj9bupj"
   },
   "source": [
    "**Preprocessing: Tokenize sentences, Change to lower case, Correct spelling, Remove numbers, Remove punctuation, Remove stopwords, Normalize (Lemmatize or Lemmatization)**"
   ]
  },
  {
   "cell_type": "code",
   "execution_count": null,
   "metadata": {
    "execution": {
     "iopub.execute_input": "2022-07-16T13:38:56.220625Z",
     "iopub.status.busy": "2022-07-16T13:38:56.220263Z",
     "iopub.status.idle": "2022-07-16T13:39:07.415499Z",
     "shell.execute_reply": "2022-07-16T13:39:07.414176Z",
     "shell.execute_reply.started": "2022-07-16T13:38:56.220596Z"
    },
    "id": "0CngsO6Qb-ab",
    "outputId": "f631f92c-88fb-4e4a-80de-6630da03291d"
   },
   "outputs": [],
   "source": [
    "!pip install emoji"
   ]
  },
  {
   "cell_type": "markdown",
   "metadata": {
    "id": "zcTUJcIfdqaV"
   },
   "source": [
    "**Predefined functions for text cleaning**"
   ]
  },
  {
   "cell_type": "code",
   "execution_count": 10,
   "metadata": {
    "_kg_hide-input": true,
    "cellView": "form",
    "execution": {
     "iopub.execute_input": "2022-07-16T13:39:07.41795Z",
     "iopub.status.busy": "2022-07-16T13:39:07.417589Z",
     "iopub.status.idle": "2022-07-16T13:39:07.441851Z",
     "shell.execute_reply": "2022-07-16T13:39:07.440601Z",
     "shell.execute_reply.started": "2022-07-16T13:39:07.417915Z"
    },
    "id": "OljVKREVaH2s"
   },
   "outputs": [],
   "source": [
    "#@title\n",
    "\n",
    "#Text cleaning\n",
    "import re, string\n",
    "import emoji\n",
    "import nltk\n",
    "from nltk.stem import WordNetLemmatizer,PorterStemmer\n",
    "from nltk.corpus import stopwords\n",
    "stop_words = set(stopwords.words('english'))\n",
    "\n",
    "#Clean emojis from text\n",
    "# def strip_emoji(text):\n",
    "#     return re.sub(emoji.get_emoji_regexp(), r\"\", text) #remove emoji\n",
    "\n",
    "#Remove punctuations, links, stopwords, mentions and \\r\\n new line characters\n",
    "def strip_all_entities(text): \n",
    "    text = text.replace('\\r', '').replace('\\n', ' ').lower() #remove \\n and \\r and lowercase\n",
    "    text = re.sub(r\"(?:\\@|https?\\://)\\S+\", \"\", text) #remove links and mentions\n",
    "    text = re.sub(r'[^\\x00-\\x7f]',r'', text) #remove non utf8/ascii characters such as '\\x9a\\x91\\x97\\x9a\\x97'\n",
    "    banned_list= string.punctuation\n",
    "    table = str.maketrans('', '', banned_list)\n",
    "    text = text.translate(table)\n",
    "    text = [word for word in text.split() if word not in stop_words]\n",
    "    text = ' '.join(text)\n",
    "    text =' '.join(word for word in text.split() if len(word) < 14) # remove words longer than 14 characters\n",
    "    return text\n",
    "\n",
    "#remove contractions\n",
    "def decontract(text):\n",
    "    text = re.sub(r\"can\\'t\", \"can not\", text)\n",
    "    text = re.sub(r\"n\\'t\", \" not\", text)\n",
    "    text = re.sub(r\"\\'re\", \" are\", text)\n",
    "    text = re.sub(r\"\\'s\", \" is\", text)\n",
    "    text = re.sub(r\"\\'d\", \" would\", text)\n",
    "    text = re.sub(r\"\\'ll\", \" will\", text)\n",
    "    text = re.sub(r\"\\'t\", \" not\", text)\n",
    "    text = re.sub(r\"\\'ve\", \" have\", text)\n",
    "    text = re.sub(r\"\\'m\", \" am\", text)\n",
    "    return text\n",
    "\n",
    "#clean hashtags at the end of the sentence, and keep those in the middle of the sentence by removing just the \"#\" symbol\n",
    "def clean_hashtags(tweet):\n",
    "    new_tweet = \" \".join(word.strip() for word in re.split('#(?!(?:hashtag)\\b)[\\w-]+(?=(?:\\s+#[\\w-]+)*\\s*$)', tweet)) #remove last hashtags\n",
    "    new_tweet2 = \" \".join(word.strip() for word in re.split('#|_', new_tweet)) #remove hashtags symbol from words in the middle of the sentence\n",
    "    return new_tweet2\n",
    "\n",
    "#Filter special characters such as \"&\" and \"$\" present in some words\n",
    "def filter_chars(a):\n",
    "    sent = []\n",
    "    for word in a.split(' '):\n",
    "        if ('$' in word) | ('&' in word):\n",
    "            sent.append('')\n",
    "        else:\n",
    "            sent.append(word)\n",
    "    return ' '.join(sent)\n",
    "\n",
    "#Remove multiple sequential spaces\n",
    "def remove_mult_spaces(text):\n",
    "    return re.sub(\"\\s\\s+\" , \" \", text)\n",
    "\n",
    "#Stemming\n",
    "def stemmer(text):\n",
    "    tokenized = nltk.word_tokenize(text)\n",
    "    ps = PorterStemmer()\n",
    "    return ' '.join([ps.stem(words) for words in tokenized])\n",
    "\n",
    "#Lemmatization \n",
    "def lemmatize(text):\n",
    "    tokenized = nltk.word_tokenize(text)\n",
    "    lm = WordNetLemmatizer()\n",
    "    return ' '.join([lm.lemmatize(words) for words in tokenized])\n",
    "\n",
    "#Then we apply all the defined functions in the following order\n",
    "def preprocess(text):\n",
    "    text = decontract(text)\n",
    "    text = strip_all_entities(text)\n",
    "    text = clean_hashtags(text)\n",
    "    text = filter_chars(text)\n",
    "    text = remove_mult_spaces(text)\n",
    "    text = stemmer(text)\n",
    "    return text"
   ]
  },
  {
   "cell_type": "code",
   "execution_count": 11,
   "metadata": {
    "execution": {
     "iopub.execute_input": "2022-07-16T13:39:07.443983Z",
     "iopub.status.busy": "2022-07-16T13:39:07.443499Z",
     "iopub.status.idle": "2022-07-16T13:40:19.842521Z",
     "shell.execute_reply": "2022-07-16T13:40:19.841226Z",
     "shell.execute_reply.started": "2022-07-16T13:39:07.443926Z"
    },
    "id": "tvw-8MR-cRVE",
    "outputId": "b73afacd-d2db-4b72-e02a-8a85f9f5e019"
   },
   "outputs": [],
   "source": [
    "texts_cleaned = []\n",
    "for t in df.text:\n",
    "    texts_cleaned.append(preprocess(t))"
   ]
  },
  {
   "cell_type": "code",
   "execution_count": 12,
   "metadata": {
    "execution": {
     "iopub.execute_input": "2022-07-16T13:40:19.845767Z",
     "iopub.status.busy": "2022-07-16T13:40:19.844817Z",
     "iopub.status.idle": "2022-07-16T13:40:19.858392Z",
     "shell.execute_reply": "2022-07-16T13:40:19.857188Z",
     "shell.execute_reply.started": "2022-07-16T13:40:19.845713Z"
    },
    "id": "g9rI8VhccisU"
   },
   "outputs": [],
   "source": [
    "df['text_clean'] = texts_cleaned"
   ]
  },
  {
   "cell_type": "markdown",
   "metadata": {
    "id": "Ajn82UkkdVRL"
   },
   "source": [
    "**Clean text**"
   ]
  },
  {
   "cell_type": "code",
   "execution_count": 13,
   "metadata": {
    "execution": {
     "iopub.execute_input": "2022-07-16T13:40:19.860677Z",
     "iopub.status.busy": "2022-07-16T13:40:19.860169Z",
     "iopub.status.idle": "2022-07-16T13:40:19.87343Z",
     "shell.execute_reply": "2022-07-16T13:40:19.872571Z",
     "shell.execute_reply.started": "2022-07-16T13:40:19.860629Z"
    },
    "id": "txwfQrCodSlk",
    "outputId": "16f3d34a-60b1-4aae-fe69-cff39a89eab5"
   },
   "outputs": [
    {
     "data": {
      "text/html": [
       "<div>\n",
       "<style scoped>\n",
       "    .dataframe tbody tr th:only-of-type {\n",
       "        vertical-align: middle;\n",
       "    }\n",
       "\n",
       "    .dataframe tbody tr th {\n",
       "        vertical-align: top;\n",
       "    }\n",
       "\n",
       "    .dataframe thead th {\n",
       "        text-align: right;\n",
       "    }\n",
       "</style>\n",
       "<table border=\"1\" class=\"dataframe\">\n",
       "  <thead>\n",
       "    <tr style=\"text-align: right;\">\n",
       "      <th></th>\n",
       "      <th>text</th>\n",
       "      <th>sentiment</th>\n",
       "      <th>text_clean</th>\n",
       "    </tr>\n",
       "  </thead>\n",
       "  <tbody>\n",
       "    <tr>\n",
       "      <th>0</th>\n",
       "      <td>In other words #katandandre, your food was cra...</td>\n",
       "      <td>5</td>\n",
       "      <td>word katandandr food crapilici mkr</td>\n",
       "    </tr>\n",
       "    <tr>\n",
       "      <th>1</th>\n",
       "      <td>Why is #aussietv so white? #MKR #theblock #ImA...</td>\n",
       "      <td>5</td>\n",
       "      <td>aussietv white mkr theblock today sunris studi...</td>\n",
       "    </tr>\n",
       "    <tr>\n",
       "      <th>2</th>\n",
       "      <td>@XochitlSuckkks a classy whore? Or more red ve...</td>\n",
       "      <td>5</td>\n",
       "      <td>classi whore red velvet cupcak</td>\n",
       "    </tr>\n",
       "    <tr>\n",
       "      <th>3</th>\n",
       "      <td>@Jason_Gio meh. :P  thanks for the heads up, b...</td>\n",
       "      <td>5</td>\n",
       "      <td>meh p thank head concern anoth angri dude twitter</td>\n",
       "    </tr>\n",
       "    <tr>\n",
       "      <th>4</th>\n",
       "      <td>@RudhoeEnglish This is an ISIS account pretend...</td>\n",
       "      <td>5</td>\n",
       "      <td>isi account pretend kurdish account like islam...</td>\n",
       "    </tr>\n",
       "  </tbody>\n",
       "</table>\n",
       "</div>"
      ],
      "text/plain": [
       "                                                text  sentiment  \\\n",
       "0  In other words #katandandre, your food was cra...          5   \n",
       "1  Why is #aussietv so white? #MKR #theblock #ImA...          5   \n",
       "2  @XochitlSuckkks a classy whore? Or more red ve...          5   \n",
       "3  @Jason_Gio meh. :P  thanks for the heads up, b...          5   \n",
       "4  @RudhoeEnglish This is an ISIS account pretend...          5   \n",
       "\n",
       "                                          text_clean  \n",
       "0                 word katandandr food crapilici mkr  \n",
       "1  aussietv white mkr theblock today sunris studi...  \n",
       "2                     classi whore red velvet cupcak  \n",
       "3  meh p thank head concern anoth angri dude twitter  \n",
       "4  isi account pretend kurdish account like islam...  "
      ]
     },
     "execution_count": 13,
     "metadata": {},
     "output_type": "execute_result"
    }
   ],
   "source": [
    "df.head()"
   ]
  },
  {
   "cell_type": "markdown",
   "metadata": {
    "id": "fo8FNC9yd0EE"
   },
   "source": [
    "**Checking tweet duplicates**"
   ]
  },
  {
   "cell_type": "code",
   "execution_count": 14,
   "metadata": {
    "execution": {
     "iopub.execute_input": "2022-07-16T13:40:19.875568Z",
     "iopub.status.busy": "2022-07-16T13:40:19.874658Z",
     "iopub.status.idle": "2022-07-16T13:40:19.895644Z",
     "shell.execute_reply": "2022-07-16T13:40:19.894752Z",
     "shell.execute_reply.started": "2022-07-16T13:40:19.875531Z"
    },
    "id": "CcLOwmpFd3mz",
    "outputId": "2f49e19c-cc92-4f90-c3d2-c04f301b5906"
   },
   "outputs": [
    {
     "data": {
      "text/plain": [
       "1049"
      ]
     },
     "execution_count": 14,
     "metadata": {},
     "output_type": "execute_result"
    }
   ],
   "source": [
    "df[\"text_clean\"].duplicated().sum()"
   ]
  },
  {
   "cell_type": "markdown",
   "metadata": {
    "id": "3986DEWCeD5c"
   },
   "source": [
    "**There are around 1000 duplicates. We will remove them at the next cell.**"
   ]
  },
  {
   "cell_type": "code",
   "execution_count": 15,
   "metadata": {
    "execution": {
     "iopub.execute_input": "2022-07-16T13:40:19.897661Z",
     "iopub.status.busy": "2022-07-16T13:40:19.89691Z",
     "iopub.status.idle": "2022-07-16T13:40:19.931349Z",
     "shell.execute_reply": "2022-07-16T13:40:19.92974Z",
     "shell.execute_reply.started": "2022-07-16T13:40:19.897621Z"
    },
    "id": "tgIT_8vPd_Ik"
   },
   "outputs": [],
   "source": [
    "df.drop_duplicates(\"text_clean\", inplace=True)"
   ]
  },
  {
   "cell_type": "code",
   "execution_count": 16,
   "metadata": {
    "execution": {
     "iopub.execute_input": "2022-07-16T13:40:19.936051Z",
     "iopub.status.busy": "2022-07-16T13:40:19.935258Z",
     "iopub.status.idle": "2022-07-16T13:40:19.945423Z",
     "shell.execute_reply": "2022-07-16T13:40:19.944424Z",
     "shell.execute_reply.started": "2022-07-16T13:40:19.935996Z"
    },
    "id": "b_iqxjcweCQ0",
    "outputId": "9a74cb2b-0933-4926-ec2f-f79650a6046f"
   },
   "outputs": [
    {
     "data": {
      "text/plain": [
       "sentiment\n",
       "1    7946\n",
       "2    7884\n",
       "4    7746\n",
       "5    7637\n",
       "3    7607\n",
       "Name: count, dtype: int64"
      ]
     },
     "execution_count": 16,
     "metadata": {},
     "output_type": "execute_result"
    }
   ],
   "source": [
    "df.sentiment.value_counts()"
   ]
  },
  {
   "cell_type": "markdown",
   "metadata": {
    "id": "1oORMG_5eQRt"
   },
   "source": [
    "**After removing duplicates, the value counts per sentiment is shown above. </br>\n",
    "There is only a few difference (350) on the sentiment with most text and the sentiment with least text so there is no major imbalance on the data.**"
   ]
  },
  {
   "cell_type": "markdown",
   "metadata": {
    "id": "rLMABJLVf2Ie"
   },
   "source": [
    "# Checking tweet length"
   ]
  },
  {
   "cell_type": "code",
   "execution_count": 17,
   "metadata": {
    "execution": {
     "iopub.execute_input": "2022-07-16T13:40:19.947164Z",
     "iopub.status.busy": "2022-07-16T13:40:19.946835Z",
     "iopub.status.idle": "2022-07-16T13:40:20.005699Z",
     "shell.execute_reply": "2022-07-16T13:40:20.004373Z",
     "shell.execute_reply.started": "2022-07-16T13:40:19.947136Z"
    },
    "id": "AAN0WoTxf8js"
   },
   "outputs": [],
   "source": [
    "text_len = []\n",
    "for text in df.text_clean:\n",
    "    tweet_len = len(text.split())\n",
    "    text_len.append(tweet_len)"
   ]
  },
  {
   "cell_type": "code",
   "execution_count": 18,
   "metadata": {
    "execution": {
     "iopub.execute_input": "2022-07-16T13:40:20.007518Z",
     "iopub.status.busy": "2022-07-16T13:40:20.007148Z",
     "iopub.status.idle": "2022-07-16T13:40:20.029761Z",
     "shell.execute_reply": "2022-07-16T13:40:20.028899Z",
     "shell.execute_reply.started": "2022-07-16T13:40:20.007484Z"
    },
    "id": "5ECl9zChgA6a"
   },
   "outputs": [],
   "source": [
    "df['text_len'] = text_len"
   ]
  },
  {
   "cell_type": "code",
   "execution_count": 19,
   "metadata": {
    "execution": {
     "iopub.execute_input": "2022-07-16T13:40:20.03166Z",
     "iopub.status.busy": "2022-07-16T13:40:20.031089Z",
     "iopub.status.idle": "2022-07-16T13:40:20.26442Z",
     "shell.execute_reply": "2022-07-16T13:40:20.262872Z",
     "shell.execute_reply.started": "2022-07-16T13:40:20.03162Z"
    },
    "id": "BrNNG6D8gL5E",
    "outputId": "c9050d08-ea04-4c28-f66e-8e3e126e9014"
   },
   "outputs": [
    {
     "data": {
      "image/png": "[encoded data removed]",
      "text/plain": [
       "<Figure size 700x500 with 1 Axes>"
      ]
     },
     "metadata": {},
     "output_type": "display_data"
    }
   ],
   "source": [
    "plt.figure(figsize=(7,5))\n",
    "ax = sns.countplot(x='text_len', data=df[df['text_len']<10], palette='mako')\n",
    "plt.title('Count of tweets with less than 10 words', fontsize=20)\n",
    "plt.yticks([])\n",
    "ax.bar_label(ax.containers[0])\n",
    "plt.ylabel('count')\n",
    "plt.xlabel('')\n",
    "plt.show()"
   ]
  },
  {
   "cell_type": "code",
   "execution_count": 20,
   "metadata": {
    "execution": {
     "iopub.execute_input": "2022-07-16T13:40:20.268216Z",
     "iopub.status.busy": "2022-07-16T13:40:20.266723Z",
     "iopub.status.idle": "2022-07-16T13:40:20.303364Z",
     "shell.execute_reply": "2022-07-16T13:40:20.302046Z",
     "shell.execute_reply.started": "2022-07-16T13:40:20.268148Z"
    },
    "id": "cn47PsbxwFSs",
    "outputId": "5421ecfe-56b0-4494-e16d-01b8fbb83057"
   },
   "outputs": [
    {
     "data": {
      "text/html": [
       "<div>\n",
       "<style scoped>\n",
       "    .dataframe tbody tr th:only-of-type {\n",
       "        vertical-align: middle;\n",
       "    }\n",
       "\n",
       "    .dataframe tbody tr th {\n",
       "        vertical-align: top;\n",
       "    }\n",
       "\n",
       "    .dataframe thead th {\n",
       "        text-align: right;\n",
       "    }\n",
       "</style>\n",
       "<table border=\"1\" class=\"dataframe\">\n",
       "  <thead>\n",
       "    <tr style=\"text-align: right;\">\n",
       "      <th></th>\n",
       "      <th>text</th>\n",
       "      <th>sentiment</th>\n",
       "      <th>text_clean</th>\n",
       "      <th>text_len</th>\n",
       "    </tr>\n",
       "  </thead>\n",
       "  <tbody>\n",
       "    <tr>\n",
       "      <th>44035</th>\n",
       "      <td>You so black and white trying to live like a n...</td>\n",
       "      <td>4</td>\n",
       "      <td>black white tri live like nigger pahahahaha co...</td>\n",
       "      <td>187</td>\n",
       "    </tr>\n",
       "    <tr>\n",
       "      <th>45165</th>\n",
       "      <td>@hermdiggz: “@tayyoung_: FUCK OBAMA, dumb ass ...</td>\n",
       "      <td>4</td>\n",
       "      <td>fuck obama dumb ass nigger bitch ltthi whore s...</td>\n",
       "      <td>162</td>\n",
       "    </tr>\n",
       "    <tr>\n",
       "      <th>33724</th>\n",
       "      <td>... I don't feel guilty for killing him, I jus...</td>\n",
       "      <td>2</td>\n",
       "      <td>feel guilti kill feel guilti enjoy torment sin...</td>\n",
       "      <td>137</td>\n",
       "    </tr>\n",
       "    <tr>\n",
       "      <th>1317</th>\n",
       "      <td>@EurekAlertAAAS: Researchers push to import to...</td>\n",
       "      <td>5</td>\n",
       "      <td>research push import top antibulli program us ...</td>\n",
       "      <td>137</td>\n",
       "    </tr>\n",
       "    <tr>\n",
       "      <th>47037</th>\n",
       "      <td>@Purely_Ambition: Sooo mad. RT @TracePeterson ...</td>\n",
       "      <td>4</td>\n",
       "      <td>sooo mad rt fuck obama dumb nigger go switzerl...</td>\n",
       "      <td>125</td>\n",
       "    </tr>\n",
       "    <tr>\n",
       "      <th>...</th>\n",
       "      <td>...</td>\n",
       "      <td>...</td>\n",
       "      <td>...</td>\n",
       "      <td>...</td>\n",
       "    </tr>\n",
       "    <tr>\n",
       "      <th>1607</th>\n",
       "      <td>@harmlesstree2 Here7 https://t.co/xWJzpSodGj</td>\n",
       "      <td>5</td>\n",
       "      <td>here7</td>\n",
       "      <td>1</td>\n",
       "    </tr>\n",
       "    <tr>\n",
       "      <th>6696</th>\n",
       "      <td>@LiamTighe Rebecca who?</td>\n",
       "      <td>5</td>\n",
       "      <td>rebecca</td>\n",
       "      <td>1</td>\n",
       "    </tr>\n",
       "    <tr>\n",
       "      <th>558</th>\n",
       "      <td>@root_tim this is my work :)</td>\n",
       "      <td>5</td>\n",
       "      <td>work</td>\n",
       "      <td>1</td>\n",
       "    </tr>\n",
       "    <tr>\n",
       "      <th>3462</th>\n",
       "      <td>@jaredchase killing you how?</td>\n",
       "      <td>5</td>\n",
       "      <td>kill</td>\n",
       "      <td>1</td>\n",
       "    </tr>\n",
       "    <tr>\n",
       "      <th>10</th>\n",
       "      <td>@Jord_Is_Dead http://t.co/UsQInYW5Gn</td>\n",
       "      <td>5</td>\n",
       "      <td></td>\n",
       "      <td>0</td>\n",
       "    </tr>\n",
       "  </tbody>\n",
       "</table>\n",
       "<p>38820 rows × 4 columns</p>\n",
       "</div>"
      ],
      "text/plain": [
       "                                                    text  sentiment  \\\n",
       "44035  You so black and white trying to live like a n...          4   \n",
       "45165  @hermdiggz: “@tayyoung_: FUCK OBAMA, dumb ass ...          4   \n",
       "33724  ... I don't feel guilty for killing him, I jus...          2   \n",
       "1317   @EurekAlertAAAS: Researchers push to import to...          5   \n",
       "47037  @Purely_Ambition: Sooo mad. RT @TracePeterson ...          4   \n",
       "...                                                  ...        ...   \n",
       "1607        @harmlesstree2 Here7 https://t.co/xWJzpSodGj          5   \n",
       "6696                             @LiamTighe Rebecca who?          5   \n",
       "558                         @root_tim this is my work :)          5   \n",
       "3462                        @jaredchase killing you how?          5   \n",
       "10                  @Jord_Is_Dead http://t.co/UsQInYW5Gn          5   \n",
       "\n",
       "                                              text_clean  text_len  \n",
       "44035  black white tri live like nigger pahahahaha co...       187  \n",
       "45165  fuck obama dumb ass nigger bitch ltthi whore s...       162  \n",
       "33724  feel guilti kill feel guilti enjoy torment sin...       137  \n",
       "1317   research push import top antibulli program us ...       137  \n",
       "47037  sooo mad rt fuck obama dumb nigger go switzerl...       125  \n",
       "...                                                  ...       ...  \n",
       "1607                                               here7         1  \n",
       "6696                                             rebecca         1  \n",
       "558                                                 work         1  \n",
       "3462                                                kill         1  \n",
       "10                                                               0  \n",
       "\n",
       "[38820 rows x 4 columns]"
      ]
     },
     "execution_count": 20,
     "metadata": {},
     "output_type": "execute_result"
    }
   ],
   "source": [
    "# checking long tweets\n",
    "df.sort_values(by=['text_len'], ascending=False)"
   ]
  },
  {
   "cell_type": "markdown",
   "metadata": {
    "id": "N6-kxvz5vtZM"
   },
   "source": [
    "**Removing tweets with less than 4 words and more than 100 words as they can be outliers**"
   ]
  },
  {
   "cell_type": "code",
   "execution_count": 21,
   "metadata": {
    "execution": {
     "iopub.execute_input": "2022-07-16T13:40:20.305613Z",
     "iopub.status.busy": "2022-07-16T13:40:20.305181Z",
     "iopub.status.idle": "2022-07-16T13:40:20.322709Z",
     "shell.execute_reply": "2022-07-16T13:40:20.321695Z",
     "shell.execute_reply.started": "2022-07-16T13:40:20.305576Z"
    },
    "id": "TKvB4uAuvz57"
   },
   "outputs": [],
   "source": [
    "\n",
    "df = df[df['text_len'] > 3]\n",
    "df = df[df['text_len'] < 100]"
   ]
  },
  {
   "cell_type": "code",
   "execution_count": 22,
   "metadata": {
    "execution": {
     "iopub.execute_input": "2022-07-16T13:40:20.324526Z",
     "iopub.status.busy": "2022-07-16T13:40:20.324166Z",
     "iopub.status.idle": "2022-07-16T13:40:20.342643Z",
     "shell.execute_reply": "2022-07-16T13:40:20.341491Z",
     "shell.execute_reply.started": "2022-07-16T13:40:20.324494Z"
    },
    "id": "7VBbVuu31bdN",
    "outputId": "933ac0cd-0635-4d3e-c5c0-54f978bff714"
   },
   "outputs": [
    {
     "data": {
      "text/html": [
       "<div>\n",
       "<style scoped>\n",
       "    .dataframe tbody tr th:only-of-type {\n",
       "        vertical-align: middle;\n",
       "    }\n",
       "\n",
       "    .dataframe tbody tr th {\n",
       "        vertical-align: top;\n",
       "    }\n",
       "\n",
       "    .dataframe thead th {\n",
       "        text-align: right;\n",
       "    }\n",
       "</style>\n",
       "<table border=\"1\" class=\"dataframe\">\n",
       "  <thead>\n",
       "    <tr style=\"text-align: right;\">\n",
       "      <th></th>\n",
       "      <th>text</th>\n",
       "      <th>sentiment</th>\n",
       "      <th>text_clean</th>\n",
       "      <th>text_len</th>\n",
       "    </tr>\n",
       "  </thead>\n",
       "  <tbody>\n",
       "    <tr>\n",
       "      <th>0</th>\n",
       "      <td>In other words #katandandre, your food was cra...</td>\n",
       "      <td>5</td>\n",
       "      <td>word katandandr food crapilici mkr</td>\n",
       "      <td>5</td>\n",
       "    </tr>\n",
       "    <tr>\n",
       "      <th>1</th>\n",
       "      <td>Why is #aussietv so white? #MKR #theblock #ImA...</td>\n",
       "      <td>5</td>\n",
       "      <td>aussietv white mkr theblock today sunris studi...</td>\n",
       "      <td>10</td>\n",
       "    </tr>\n",
       "    <tr>\n",
       "      <th>2</th>\n",
       "      <td>@XochitlSuckkks a classy whore? Or more red ve...</td>\n",
       "      <td>5</td>\n",
       "      <td>classi whore red velvet cupcak</td>\n",
       "      <td>5</td>\n",
       "    </tr>\n",
       "    <tr>\n",
       "      <th>3</th>\n",
       "      <td>@Jason_Gio meh. :P  thanks for the heads up, b...</td>\n",
       "      <td>5</td>\n",
       "      <td>meh p thank head concern anoth angri dude twitter</td>\n",
       "      <td>9</td>\n",
       "    </tr>\n",
       "    <tr>\n",
       "      <th>4</th>\n",
       "      <td>@RudhoeEnglish This is an ISIS account pretend...</td>\n",
       "      <td>5</td>\n",
       "      <td>isi account pretend kurdish account like islam...</td>\n",
       "      <td>8</td>\n",
       "    </tr>\n",
       "    <tr>\n",
       "      <th>...</th>\n",
       "      <td>...</td>\n",
       "      <td>...</td>\n",
       "      <td>...</td>\n",
       "      <td>...</td>\n",
       "    </tr>\n",
       "    <tr>\n",
       "      <th>47687</th>\n",
       "      <td>Black ppl aren't expected to do anything, depe...</td>\n",
       "      <td>4</td>\n",
       "      <td>black ppl expect anyth depend anyth yet free p...</td>\n",
       "      <td>21</td>\n",
       "    </tr>\n",
       "    <tr>\n",
       "      <th>47688</th>\n",
       "      <td>Turner did not withhold his disappointment. Tu...</td>\n",
       "      <td>4</td>\n",
       "      <td>turner withhold turner call court abomin concl...</td>\n",
       "      <td>28</td>\n",
       "    </tr>\n",
       "    <tr>\n",
       "      <th>47689</th>\n",
       "      <td>I swear to God. This dumb nigger bitch. I have...</td>\n",
       "      <td>4</td>\n",
       "      <td>swear god dumb nigger bitch got bleach hair re...</td>\n",
       "      <td>13</td>\n",
       "    </tr>\n",
       "    <tr>\n",
       "      <th>47690</th>\n",
       "      <td>Yea fuck you RT @therealexel: IF YOURE A NIGGE...</td>\n",
       "      <td>4</td>\n",
       "      <td>yea fuck rt your nigger fuck unfollow fuck dum...</td>\n",
       "      <td>10</td>\n",
       "    </tr>\n",
       "    <tr>\n",
       "      <th>47691</th>\n",
       "      <td>Bro. U gotta chill RT @CHILLShrammy: Dog FUCK ...</td>\n",
       "      <td>4</td>\n",
       "      <td>bro u got ta chill rt dog fuck kp dumb nigger ...</td>\n",
       "      <td>13</td>\n",
       "    </tr>\n",
       "  </tbody>\n",
       "</table>\n",
       "<p>37114 rows × 4 columns</p>\n",
       "</div>"
      ],
      "text/plain": [
       "                                                    text  sentiment  \\\n",
       "0      In other words #katandandre, your food was cra...          5   \n",
       "1      Why is #aussietv so white? #MKR #theblock #ImA...          5   \n",
       "2      @XochitlSuckkks a classy whore? Or more red ve...          5   \n",
       "3      @Jason_Gio meh. :P  thanks for the heads up, b...          5   \n",
       "4      @RudhoeEnglish This is an ISIS account pretend...          5   \n",
       "...                                                  ...        ...   \n",
       "47687  Black ppl aren't expected to do anything, depe...          4   \n",
       "47688  Turner did not withhold his disappointment. Tu...          4   \n",
       "47689  I swear to God. This dumb nigger bitch. I have...          4   \n",
       "47690  Yea fuck you RT @therealexel: IF YOURE A NIGGE...          4   \n",
       "47691  Bro. U gotta chill RT @CHILLShrammy: Dog FUCK ...          4   \n",
       "\n",
       "                                              text_clean  text_len  \n",
       "0                     word katandandr food crapilici mkr         5  \n",
       "1      aussietv white mkr theblock today sunris studi...        10  \n",
       "2                         classi whore red velvet cupcak         5  \n",
       "3      meh p thank head concern anoth angri dude twitter         9  \n",
       "4      isi account pretend kurdish account like islam...         8  \n",
       "...                                                  ...       ...  \n",
       "47687  black ppl expect anyth depend anyth yet free p...        21  \n",
       "47688  turner withhold turner call court abomin concl...        28  \n",
       "47689  swear god dumb nigger bitch got bleach hair re...        13  \n",
       "47690  yea fuck rt your nigger fuck unfollow fuck dum...        10  \n",
       "47691  bro u got ta chill rt dog fuck kp dumb nigger ...        13  \n",
       "\n",
       "[37114 rows x 4 columns]"
      ]
     },
     "execution_count": 22,
     "metadata": {},
     "output_type": "execute_result"
    }
   ],
   "source": [
    "df"
   ]
  },
  {
   "cell_type": "markdown",
   "metadata": {
    "id": "swI9bqhu3CC9"
   },
   "source": [
    "**0 - religion </br>\n",
    "1 - age  </br> \n",
    "2 - gender </br>\n",
    "3 - ethnicity </br>\n",
    "4 - cyberbullying**"
   ]
  },
  {
   "cell_type": "markdown",
   "metadata": {
    "id": "l9juW-u9fXIU"
   },
   "source": [
    "# Vectorization"
   ]
  },
  {
   "cell_type": "code",
   "execution_count": 23,
   "metadata": {
    "execution": {
     "iopub.execute_input": "2022-07-16T13:40:30.300766Z",
     "iopub.status.busy": "2022-07-16T13:40:30.300411Z",
     "iopub.status.idle": "2022-07-16T13:40:31.234777Z",
     "shell.execute_reply": "2022-07-16T13:40:31.233907Z",
     "shell.execute_reply.started": "2022-07-16T13:40:30.300732Z"
    },
    "id": "3Pa8VRm4fZ-U"
   },
   "outputs": [],
   "source": [
    "from sklearn.feature_extraction.text import CountVectorizer \n",
    "from sklearn.feature_extraction.text import TfidfTransformer\n",
    "from sklearn.pipeline import Pipeline\n",
    "\n",
    "\n",
    "tfidf = TfidfTransformer()\n",
    "clf = CountVectorizer()\n",
    "\n",
    "X_cv =  clf.fit_transform(df['text_clean'])\n",
    "\n",
    "tf_transformer = TfidfTransformer(use_idf=True).fit(X_cv)\n",
    "X_tf = tf_transformer.transform(X_cv)"
   ]
  },
  {
   "cell_type": "code",
   "execution_count": 24,
   "metadata": {
    "execution": {
     "iopub.execute_input": "2022-07-16T13:40:31.241414Z",
     "iopub.status.busy": "2022-07-16T13:40:31.240838Z",
     "iopub.status.idle": "2022-07-16T13:40:31.248106Z",
     "shell.execute_reply": "2022-07-16T13:40:31.247232Z",
     "shell.execute_reply.started": "2022-07-16T13:40:31.241373Z"
    },
    "id": "lpbUC_ib2msN",
    "outputId": "4e55889e-c820-4c1e-f177-c9ec065a29fa"
   },
   "outputs": [
    {
     "data": {
      "text/plain": [
       "<37114x32979 sparse matrix of type '<class 'numpy.float64'>'\n",
       "\twith 504608 stored elements in Compressed Sparse Row format>"
      ]
     },
     "execution_count": 24,
     "metadata": {},
     "output_type": "execute_result"
    }
   ],
   "source": [
    "X_tf"
   ]
  },
  {
   "cell_type": "markdown",
   "metadata": {
    "id": "r3t0Jaq4wQ30"
   },
   "source": [
    "# Train test split"
   ]
  },
  {
   "cell_type": "code",
   "execution_count": 25,
   "metadata": {
    "execution": {
     "iopub.execute_input": "2022-07-16T13:40:31.249866Z",
     "iopub.status.busy": "2022-07-16T13:40:31.249466Z",
     "iopub.status.idle": "2022-07-16T13:40:31.280894Z",
     "shell.execute_reply": "2022-07-16T13:40:31.279622Z",
     "shell.execute_reply.started": "2022-07-16T13:40:31.249834Z"
    },
    "id": "FDUILdpYwTJ8"
   },
   "outputs": [],
   "source": [
    "from sklearn.model_selection import train_test_split\n",
    "# train and test\n",
    "X_train, X_test, y_train, y_test = train_test_split(X_tf, df['sentiment'], test_size=0.20, stratify=df['sentiment'], random_state=42)"
   ]
  },
  {
   "cell_type": "code",
   "execution_count": 26,
   "metadata": {
    "execution": {
     "iopub.execute_input": "2022-07-16T13:47:16.160445Z",
     "iopub.status.busy": "2022-07-16T13:47:16.160051Z",
     "iopub.status.idle": "2022-07-16T13:47:16.169482Z",
     "shell.execute_reply": "2022-07-16T13:47:16.16856Z",
     "shell.execute_reply.started": "2022-07-16T13:47:16.160414Z"
    },
    "id": "k8zMKgSnyqM0",
    "outputId": "ace8f386-7420-490e-83fe-ab4d4b701b6c"
   },
   "outputs": [
    {
     "data": {
      "text/plain": [
       "sentiment\n",
       "1    6314\n",
       "2    6264\n",
       "4    6167\n",
       "3    5849\n",
       "5    5097\n",
       "Name: count, dtype: int64"
      ]
     },
     "execution_count": 26,
     "metadata": {},
     "output_type": "execute_result"
    }
   ],
   "source": [
    "y_train.value_counts()"
   ]
  },
  {
   "cell_type": "markdown",
   "metadata": {
    "id": "Oe1gh1DZ0jT0"
   },
   "source": [
    "**after checking the training set, there are imbalance of data and it may cause a bias in training the model. Oversampling using SMOTE will be used to balance the train dataset.**"
   ]
  },
  {
   "cell_type": "markdown",
   "metadata": {
    "id": "dhwK6o6M01gt"
   },
   "source": [
    "# SMOTE"
   ]
  },
  {
   "cell_type": "code",
   "execution_count": 28,
   "metadata": {
    "execution": {
     "iopub.execute_input": "2022-07-16T13:51:08.764236Z",
     "iopub.status.busy": "2022-07-16T13:51:08.763682Z",
     "iopub.status.idle": "2022-07-16T13:51:10.889916Z",
     "shell.execute_reply": "2022-07-16T13:51:10.888791Z",
     "shell.execute_reply.started": "2022-07-16T13:51:08.764187Z"
    },
    "id": "sV9e7XGf03KV",
    "outputId": "b049c115-240a-4c7f-8e15-afc7b182bdc1"
   },
   "outputs": [
    {
     "ename": "KeyError",
     "evalue": "0",
     "output_type": "error",
     "traceback": [
      "\u001b[0;31m---------------------------------------------------------------------------\u001b[0m",
      "\u001b[0;31mKeyError\u001b[0m                                  Traceback (most recent call last)",
      "File \u001b[0;32m~/anaconda3/lib/python3.11/site-packages/pandas/core/indexes/base.py:3653\u001b[0m, in \u001b[0;36mIndex.get_loc\u001b[0;34m(self, key)\u001b[0m\n\u001b[1;32m   3652\u001b[0m \u001b[38;5;28;01mtry\u001b[39;00m:\n\u001b[0;32m-> 3653\u001b[0m     \u001b[38;5;28;01mreturn\u001b[39;00m \u001b[38;5;28mself\u001b[39m\u001b[38;5;241m.\u001b[39m_engine\u001b[38;5;241m.\u001b[39mget_loc(casted_key)\n\u001b[1;32m   3654\u001b[0m \u001b[38;5;28;01mexcept\u001b[39;00m \u001b[38;5;167;01mKeyError\u001b[39;00m \u001b[38;5;28;01mas\u001b[39;00m err:\n",
      "File \u001b[0;32m~/anaconda3/lib/python3.11/site-packages/pandas/_libs/index.pyx:147\u001b[0m, in \u001b[0;36mpandas._libs.index.IndexEngine.get_loc\u001b[0;34m()\u001b[0m\n",
      "File \u001b[0;32m~/anaconda3/lib/python3.11/site-packages/pandas/_libs/index.pyx:176\u001b[0m, in \u001b[0;36mpandas._libs.index.IndexEngine.get_loc\u001b[0;34m()\u001b[0m\n",
      "File \u001b[0;32mpandas/_libs/hashtable_class_helper.pxi:2606\u001b[0m, in \u001b[0;36mpandas._libs.hashtable.Int64HashTable.get_item\u001b[0;34m()\u001b[0m\n",
      "File \u001b[0;32mpandas/_libs/hashtable_class_helper.pxi:2630\u001b[0m, in \u001b[0;36mpandas._libs.hashtable.Int64HashTable.get_item\u001b[0;34m()\u001b[0m\n",
      "\u001b[0;31mKeyError\u001b[0m: 0",
      "\nThe above exception was the direct cause of the following exception:\n",
      "\u001b[0;31mKeyError\u001b[0m                                  Traceback (most recent call last)",
      "Cell \u001b[0;32mIn[28], line 3\u001b[0m\n\u001b[1;32m      1\u001b[0m \u001b[38;5;28;01mfrom\u001b[39;00m \u001b[38;5;21;01mimblearn\u001b[39;00m\u001b[38;5;21;01m.\u001b[39;00m\u001b[38;5;21;01mover_sampling\u001b[39;00m \u001b[38;5;28;01mimport\u001b[39;00m SMOTE\n\u001b[1;32m      2\u001b[0m vc \u001b[38;5;241m=\u001b[39m y_train\u001b[38;5;241m.\u001b[39mvalue_counts()\n\u001b[0;32m----> 3\u001b[0m \u001b[38;5;28;01mwhile\u001b[39;00m (vc[\u001b[38;5;241m1\u001b[39m] \u001b[38;5;241m!=\u001b[39m vc[\u001b[38;5;241m4\u001b[39m]) \u001b[38;5;129;01mor\u001b[39;00m (vc[\u001b[38;5;241m1\u001b[39m] \u001b[38;5;241m!=\u001b[39m  vc[\u001b[38;5;241m2\u001b[39m]) \u001b[38;5;129;01mor\u001b[39;00m (vc[\u001b[38;5;241m1\u001b[39m] \u001b[38;5;241m!=\u001b[39m  vc[\u001b[38;5;241m3\u001b[39m]) \u001b[38;5;129;01mor\u001b[39;00m (vc[\u001b[38;5;241m1\u001b[39m] \u001b[38;5;241m!=\u001b[39m  vc[\u001b[38;5;241m0\u001b[39m]):\n\u001b[1;32m      4\u001b[0m     smote \u001b[38;5;241m=\u001b[39m SMOTE(sampling_strategy\u001b[38;5;241m=\u001b[39m\u001b[38;5;124m'\u001b[39m\u001b[38;5;124mminority\u001b[39m\u001b[38;5;124m'\u001b[39m)\n\u001b[1;32m      5\u001b[0m     X_train, y_train \u001b[38;5;241m=\u001b[39m smote\u001b[38;5;241m.\u001b[39mfit_resample(X_train, y_train)\n",
      "File \u001b[0;32m~/anaconda3/lib/python3.11/site-packages/pandas/core/series.py:1007\u001b[0m, in \u001b[0;36mSeries.__getitem__\u001b[0;34m(self, key)\u001b[0m\n\u001b[1;32m   1004\u001b[0m     \u001b[38;5;28;01mreturn\u001b[39;00m \u001b[38;5;28mself\u001b[39m\u001b[38;5;241m.\u001b[39m_values[key]\n\u001b[1;32m   1006\u001b[0m \u001b[38;5;28;01melif\u001b[39;00m key_is_scalar:\n\u001b[0;32m-> 1007\u001b[0m     \u001b[38;5;28;01mreturn\u001b[39;00m \u001b[38;5;28mself\u001b[39m\u001b[38;5;241m.\u001b[39m_get_value(key)\n\u001b[1;32m   1009\u001b[0m \u001b[38;5;28;01mif\u001b[39;00m is_hashable(key):\n\u001b[1;32m   1010\u001b[0m     \u001b[38;5;66;03m# Otherwise index.get_value will raise InvalidIndexError\u001b[39;00m\n\u001b[1;32m   1011\u001b[0m     \u001b[38;5;28;01mtry\u001b[39;00m:\n\u001b[1;32m   1012\u001b[0m         \u001b[38;5;66;03m# For labels that don't resolve as scalars like tuples and frozensets\u001b[39;00m\n",
      "File \u001b[0;32m~/anaconda3/lib/python3.11/site-packages/pandas/core/series.py:1116\u001b[0m, in \u001b[0;36mSeries._get_value\u001b[0;34m(self, label, takeable)\u001b[0m\n\u001b[1;32m   1113\u001b[0m     \u001b[38;5;28;01mreturn\u001b[39;00m \u001b[38;5;28mself\u001b[39m\u001b[38;5;241m.\u001b[39m_values[label]\n\u001b[1;32m   1115\u001b[0m \u001b[38;5;66;03m# Similar to Index.get_value, but we do not fall back to positional\u001b[39;00m\n\u001b[0;32m-> 1116\u001b[0m loc \u001b[38;5;241m=\u001b[39m \u001b[38;5;28mself\u001b[39m\u001b[38;5;241m.\u001b[39mindex\u001b[38;5;241m.\u001b[39mget_loc(label)\n\u001b[1;32m   1118\u001b[0m \u001b[38;5;28;01mif\u001b[39;00m is_integer(loc):\n\u001b[1;32m   1119\u001b[0m     \u001b[38;5;28;01mreturn\u001b[39;00m \u001b[38;5;28mself\u001b[39m\u001b[38;5;241m.\u001b[39m_values[loc]\n",
      "File \u001b[0;32m~/anaconda3/lib/python3.11/site-packages/pandas/core/indexes/base.py:3655\u001b[0m, in \u001b[0;36mIndex.get_loc\u001b[0;34m(self, key)\u001b[0m\n\u001b[1;32m   3653\u001b[0m     \u001b[38;5;28;01mreturn\u001b[39;00m \u001b[38;5;28mself\u001b[39m\u001b[38;5;241m.\u001b[39m_engine\u001b[38;5;241m.\u001b[39mget_loc(casted_key)\n\u001b[1;32m   3654\u001b[0m \u001b[38;5;28;01mexcept\u001b[39;00m \u001b[38;5;167;01mKeyError\u001b[39;00m \u001b[38;5;28;01mas\u001b[39;00m err:\n\u001b[0;32m-> 3655\u001b[0m     \u001b[38;5;28;01mraise\u001b[39;00m \u001b[38;5;167;01mKeyError\u001b[39;00m(key) \u001b[38;5;28;01mfrom\u001b[39;00m \u001b[38;5;21;01merr\u001b[39;00m\n\u001b[1;32m   3656\u001b[0m \u001b[38;5;28;01mexcept\u001b[39;00m \u001b[38;5;167;01mTypeError\u001b[39;00m:\n\u001b[1;32m   3657\u001b[0m     \u001b[38;5;66;03m# If we have a listlike key, _check_indexing_error will raise\u001b[39;00m\n\u001b[1;32m   3658\u001b[0m     \u001b[38;5;66;03m#  InvalidIndexError. Otherwise we fall through and re-raise\u001b[39;00m\n\u001b[1;32m   3659\u001b[0m     \u001b[38;5;66;03m#  the TypeError.\u001b[39;00m\n\u001b[1;32m   3660\u001b[0m     \u001b[38;5;28mself\u001b[39m\u001b[38;5;241m.\u001b[39m_check_indexing_error(key)\n",
      "\u001b[0;31mKeyError\u001b[0m: 0"
     ]
    }
   ],
   "source": [
    "from imblearn.over_sampling import SMOTE\n",
    "vc = y_train.value_counts()\n",
    "while (vc[1] != vc[4]) or (vc[1] !=  vc[2]) or (vc[1] !=  vc[3]) or (vc[1] !=  vc[0]):\n",
    "    smote = SMOTE(sampling_strategy='minority')\n",
    "    X_train, y_train = smote.fit_resample(X_train, y_train)\n",
    "    vc = y_train.value_counts()\n",
    "\n",
    "y_train.value_counts()"
   ]
  },
  {
   "cell_type": "markdown",
   "metadata": {
    "id": "6J8NYu8r4Z_E"
   },
   "source": [
    "**Now the training set is balanced and ready to be feed into the ml model.**"
   ]
  },
  {
   "cell_type": "markdown",
   "metadata": {
    "id": "oT1CMoabe3LM"
   },
   "source": [
    "# Model Training"
   ]
  },
  {
   "cell_type": "markdown",
   "metadata": {
    "id": "PY7YExvIxvpF"
   },
   "source": [
    "## Logisitic Regression"
   ]
  },
  {
   "cell_type": "code",
   "execution_count": 32,
   "metadata": {
    "execution": {
     "iopub.execute_input": "2022-07-16T13:16:34.973311Z",
     "iopub.status.busy": "2022-07-16T13:16:34.970466Z",
     "iopub.status.idle": "2022-07-16T13:16:35.018837Z",
     "shell.execute_reply": "2022-07-16T13:16:35.016425Z",
     "shell.execute_reply.started": "2022-07-16T13:16:34.973038Z"
    },
    "id": "pJV6lXxJ3Ic0",
    "outputId": "62654bdf-96bb-49dd-8e2b-6876967a971a"
   },
   "outputs": [
    {
     "name": "stderr",
     "output_type": "stream",
     "text": [
      "/Users/localadmin/anaconda3/lib/python3.11/site-packages/sklearn/linear_model/_logistic.py:460: ConvergenceWarning: lbfgs failed to converge (status=1):\n",
      "STOP: TOTAL NO. of ITERATIONS REACHED LIMIT.\n",
      "\n",
      "Increase the number of iterations (max_iter) or scale the data as shown in:\n",
      "    https://scikit-learn.org/stable/modules/preprocessing.html\n",
      "Please also refer to the documentation for alternative solver options:\n",
      "    https://scikit-learn.org/stable/modules/linear_model.html#logistic-regression\n",
      "  n_iter_i = _check_optimize_result(\n"
     ]
    },
    {
     "data": {
      "text/html": [
       "<style>#sk-container-id-4 {color: black;}#sk-container-id-4 pre{padding: 0;}#sk-container-id-4 div.sk-toggleable {background-color: white;}#sk-container-id-4 label.sk-toggleable__label {cursor: pointer;display: block;width: 100%;margin-bottom: 0;padding: 0.3em;box-sizing: border-box;text-align: center;}#sk-container-id-4 label.sk-toggleable__label-arrow:before {content: \"▸\";float: left;margin-right: 0.25em;color: #696969;}#sk-container-id-4 label.sk-toggleable__label-arrow:hover:before {color: black;}#sk-container-id-4 div.sk-estimator:hover label.sk-toggleable__label-arrow:before {color: black;}#sk-container-id-4 div.sk-toggleable__content {max-height: 0;max-width: 0;overflow: hidden;text-align: left;background-color: #f0f8ff;}#sk-container-id-4 div.sk-toggleable__content pre {margin: 0.2em;color: black;border-radius: 0.25em;background-color: #f0f8ff;}#sk-container-id-4 input.sk-toggleable__control:checked~div.sk-toggleable__content {max-height: 200px;max-width: 100%;overflow: auto;}#sk-container-id-4 input.sk-toggleable__control:checked~label.sk-toggleable__label-arrow:before {content: \"▾\";}#sk-container-id-4 div.sk-estimator input.sk-toggleable__control:checked~label.sk-toggleable__label {background-color: #d4ebff;}#sk-container-id-4 div.sk-label input.sk-toggleable__control:checked~label.sk-toggleable__label {background-color: #d4ebff;}#sk-container-id-4 input.sk-hidden--visually {border: 0;clip: rect(1px 1px 1px 1px);clip: rect(1px, 1px, 1px, 1px);height: 1px;margin: -1px;overflow: hidden;padding: 0;position: absolute;width: 1px;}#sk-container-id-4 div.sk-estimator {font-family: monospace;background-color: #f0f8ff;border: 1px dotted black;border-radius: 0.25em;box-sizing: border-box;margin-bottom: 0.5em;}#sk-container-id-4 div.sk-estimator:hover {background-color: #d4ebff;}#sk-container-id-4 div.sk-parallel-item::after {content: \"\";width: 100%;border-bottom: 1px solid gray;flex-grow: 1;}#sk-container-id-4 div.sk-label:hover label.sk-toggleable__label {background-color: #d4ebff;}#sk-container-id-4 div.sk-serial::before {content: \"\";position: absolute;border-left: 1px solid gray;box-sizing: border-box;top: 0;bottom: 0;left: 50%;z-index: 0;}#sk-container-id-4 div.sk-serial {display: flex;flex-direction: column;align-items: center;background-color: white;padding-right: 0.2em;padding-left: 0.2em;position: relative;}#sk-container-id-4 div.sk-item {position: relative;z-index: 1;}#sk-container-id-4 div.sk-parallel {display: flex;align-items: stretch;justify-content: center;background-color: white;position: relative;}#sk-container-id-4 div.sk-item::before, #sk-container-id-4 div.sk-parallel-item::before {content: \"\";position: absolute;border-left: 1px solid gray;box-sizing: border-box;top: 0;bottom: 0;left: 50%;z-index: -1;}#sk-container-id-4 div.sk-parallel-item {display: flex;flex-direction: column;z-index: 1;position: relative;background-color: white;}#sk-container-id-4 div.sk-parallel-item:first-child::after {align-self: flex-end;width: 50%;}#sk-container-id-4 div.sk-parallel-item:last-child::after {align-self: flex-start;width: 50%;}#sk-container-id-4 div.sk-parallel-item:only-child::after {width: 0;}#sk-container-id-4 div.sk-dashed-wrapped {border: 1px dashed gray;margin: 0 0.4em 0.5em 0.4em;box-sizing: border-box;padding-bottom: 0.4em;background-color: white;}#sk-container-id-4 div.sk-label label {font-family: monospace;font-weight: bold;display: inline-block;line-height: 1.2em;}#sk-container-id-4 div.sk-label-container {text-align: center;}#sk-container-id-4 div.sk-container {/* jupyter's `normalize.less` sets `[hidden] { display: none; }` but bootstrap.min.css set `[hidden] { display: none !important; }` so we also need the `!important` here to be able to override the default hidden behavior on the sphinx rendered scikit-learn.org. See: https://github.com/scikit-learn/scikit-learn/issues/21755 */display: inline-block !important;position: relative;}#sk-container-id-4 div.sk-text-repr-fallback {display: none;}</style><div id=\"sk-container-id-4\" class=\"sk-top-container\"><div class=\"sk-text-repr-fallback\"><pre>LogisticRegression()</pre><b>In a Jupyter environment, please rerun this cell to show the HTML representation or trust the notebook. <br />On GitHub, the HTML representation is unable to render, please try loading this page with nbviewer.org.</b></div><div class=\"sk-container\" hidden><div class=\"sk-item\"><div class=\"sk-estimator sk-toggleable\"><input class=\"sk-toggleable__control sk-hidden--visually\" id=\"sk-estimator-id-4\" type=\"checkbox\" checked><label for=\"sk-estimator-id-4\" class=\"sk-toggleable__label sk-toggleable__label-arrow\">LogisticRegression</label><div class=\"sk-toggleable__content\"><pre>LogisticRegression()</pre></div></div></div></div></div>"
      ],
      "text/plain": [
       "LogisticRegression()"
      ]
     },
     "execution_count": 32,
     "metadata": {},
     "output_type": "execute_result"
    }
   ],
   "source": [
    "from sklearn.linear_model import LogisticRegression\n",
    "lr_clf = LogisticRegression()\n",
    "lr_clf.fit(X_train, y_train)"
   ]
  },
  {
   "cell_type": "markdown",
   "metadata": {
    "id": "KBsVEwGu5z9V"
   },
   "source": [
    "## Random Forest"
   ]
  },
  {
   "cell_type": "code",
   "execution_count": 30,
   "metadata": {
    "execution": {
     "iopub.execute_input": "2022-07-16T13:16:47.333653Z",
     "iopub.status.busy": "2022-07-16T13:16:47.332828Z",
     "iopub.status.idle": "2022-07-16T13:18:09.383247Z",
     "shell.execute_reply": "2022-07-16T13:18:09.382304Z",
     "shell.execute_reply.started": "2022-07-16T13:16:47.333609Z"
    },
    "id": "m3fkn98V54L9",
    "outputId": "f4002c17-8c94-4dbc-b829-c51de745ac4d"
   },
   "outputs": [
    {
     "data": {
      "text/html": [
       "<style>#sk-container-id-2 {color: black;}#sk-container-id-2 pre{padding: 0;}#sk-container-id-2 div.sk-toggleable {background-color: white;}#sk-container-id-2 label.sk-toggleable__label {cursor: pointer;display: block;width: 100%;margin-bottom: 0;padding: 0.3em;box-sizing: border-box;text-align: center;}#sk-container-id-2 label.sk-toggleable__label-arrow:before {content: \"▸\";float: left;margin-right: 0.25em;color: #696969;}#sk-container-id-2 label.sk-toggleable__label-arrow:hover:before {color: black;}#sk-container-id-2 div.sk-estimator:hover label.sk-toggleable__label-arrow:before {color: black;}#sk-container-id-2 div.sk-toggleable__content {max-height: 0;max-width: 0;overflow: hidden;text-align: left;background-color: #f0f8ff;}#sk-container-id-2 div.sk-toggleable__content pre {margin: 0.2em;color: black;border-radius: 0.25em;background-color: #f0f8ff;}#sk-container-id-2 input.sk-toggleable__control:checked~div.sk-toggleable__content {max-height: 200px;max-width: 100%;overflow: auto;}#sk-container-id-2 input.sk-toggleable__control:checked~label.sk-toggleable__label-arrow:before {content: \"▾\";}#sk-container-id-2 div.sk-estimator input.sk-toggleable__control:checked~label.sk-toggleable__label {background-color: #d4ebff;}#sk-container-id-2 div.sk-label input.sk-toggleable__control:checked~label.sk-toggleable__label {background-color: #d4ebff;}#sk-container-id-2 input.sk-hidden--visually {border: 0;clip: rect(1px 1px 1px 1px);clip: rect(1px, 1px, 1px, 1px);height: 1px;margin: -1px;overflow: hidden;padding: 0;position: absolute;width: 1px;}#sk-container-id-2 div.sk-estimator {font-family: monospace;background-color: #f0f8ff;border: 1px dotted black;border-radius: 0.25em;box-sizing: border-box;margin-bottom: 0.5em;}#sk-container-id-2 div.sk-estimator:hover {background-color: #d4ebff;}#sk-container-id-2 div.sk-parallel-item::after {content: \"\";width: 100%;border-bottom: 1px solid gray;flex-grow: 1;}#sk-container-id-2 div.sk-label:hover label.sk-toggleable__label {background-color: #d4ebff;}#sk-container-id-2 div.sk-serial::before {content: \"\";position: absolute;border-left: 1px solid gray;box-sizing: border-box;top: 0;bottom: 0;left: 50%;z-index: 0;}#sk-container-id-2 div.sk-serial {display: flex;flex-direction: column;align-items: center;background-color: white;padding-right: 0.2em;padding-left: 0.2em;position: relative;}#sk-container-id-2 div.sk-item {position: relative;z-index: 1;}#sk-container-id-2 div.sk-parallel {display: flex;align-items: stretch;justify-content: center;background-color: white;position: relative;}#sk-container-id-2 div.sk-item::before, #sk-container-id-2 div.sk-parallel-item::before {content: \"\";position: absolute;border-left: 1px solid gray;box-sizing: border-box;top: 0;bottom: 0;left: 50%;z-index: -1;}#sk-container-id-2 div.sk-parallel-item {display: flex;flex-direction: column;z-index: 1;position: relative;background-color: white;}#sk-container-id-2 div.sk-parallel-item:first-child::after {align-self: flex-end;width: 50%;}#sk-container-id-2 div.sk-parallel-item:last-child::after {align-self: flex-start;width: 50%;}#sk-container-id-2 div.sk-parallel-item:only-child::after {width: 0;}#sk-container-id-2 div.sk-dashed-wrapped {border: 1px dashed gray;margin: 0 0.4em 0.5em 0.4em;box-sizing: border-box;padding-bottom: 0.4em;background-color: white;}#sk-container-id-2 div.sk-label label {font-family: monospace;font-weight: bold;display: inline-block;line-height: 1.2em;}#sk-container-id-2 div.sk-label-container {text-align: center;}#sk-container-id-2 div.sk-container {/* jupyter's `normalize.less` sets `[hidden] { display: none; }` but bootstrap.min.css set `[hidden] { display: none !important; }` so we also need the `!important` here to be able to override the default hidden behavior on the sphinx rendered scikit-learn.org. See: https://github.com/scikit-learn/scikit-learn/issues/21755 */display: inline-block !important;position: relative;}#sk-container-id-2 div.sk-text-repr-fallback {display: none;}</style><div id=\"sk-container-id-2\" class=\"sk-top-container\"><div class=\"sk-text-repr-fallback\"><pre>RandomForestClassifier()</pre><b>In a Jupyter environment, please rerun this cell to show the HTML representation or trust the notebook. <br />On GitHub, the HTML representation is unable to render, please try loading this page with nbviewer.org.</b></div><div class=\"sk-container\" hidden><div class=\"sk-item\"><div class=\"sk-estimator sk-toggleable\"><input class=\"sk-toggleable__control sk-hidden--visually\" id=\"sk-estimator-id-2\" type=\"checkbox\" checked><label for=\"sk-estimator-id-2\" class=\"sk-toggleable__label sk-toggleable__label-arrow\">RandomForestClassifier</label><div class=\"sk-toggleable__content\"><pre>RandomForestClassifier()</pre></div></div></div></div></div>"
      ],
      "text/plain": [
       "RandomForestClassifier()"
      ]
     },
     "execution_count": 30,
     "metadata": {},
     "output_type": "execute_result"
    }
   ],
   "source": [
    "from sklearn.ensemble import RandomForestClassifier\n",
    "rf_clf = RandomForestClassifier()\n",
    "rf_clf.fit(X_train, y_train)"
   ]
  },
  {
   "cell_type": "markdown",
   "metadata": {
    "id": "95NK7bDge6kr"
   },
   "source": [
    "# Model Evaluation"
   ]
  },
  {
   "cell_type": "markdown",
   "metadata": {
    "id": "FowHmkOW3a98"
   },
   "source": [
    "## **Classification Report**"
   ]
  },
  {
   "cell_type": "code",
   "execution_count": 33,
   "metadata": {
    "execution": {
     "iopub.execute_input": "2022-07-16T13:18:09.385713Z",
     "iopub.status.busy": "2022-07-16T13:18:09.384917Z",
     "iopub.status.idle": "2022-07-16T13:18:09.41587Z",
     "shell.execute_reply": "2022-07-16T13:18:09.414661Z",
     "shell.execute_reply.started": "2022-07-16T13:18:09.385677Z"
    },
    "id": "rN0a6I1De84j",
    "outputId": "de93fb6d-0b8e-49c0-c84a-90493cd747e6"
   },
   "outputs": [
    {
     "name": "stdout",
     "output_type": "stream",
     "text": [
      "Classification Report for Naive Bayes:\n",
      "               precision    recall  f1-score   support\n",
      "\n",
      "    religion       0.97      0.94      0.95      1579\n",
      "         age       0.96      0.96      0.96      1566\n",
      "      gender       0.95      0.87      0.91      1462\n",
      "   ethnicity       0.98      0.97      0.98      1542\n",
      "not bullying       0.77      0.87      0.82      1274\n",
      "\n",
      "    accuracy                           0.93      7423\n",
      "   macro avg       0.93      0.92      0.92      7423\n",
      "weighted avg       0.93      0.93      0.93      7423\n",
      "\n"
     ]
    }
   ],
   "source": [
    "from sklearn.metrics import classification_report\n",
    "lr_pred = lr_clf.predict(X_test)\n",
    "print('Classification Report for Naive Bayes:\\n',classification_report(y_test, lr_pred, target_names=sentiments))"
   ]
  },
  {
   "cell_type": "code",
   "execution_count": 34,
   "metadata": {
    "execution": {
     "iopub.execute_input": "2022-07-16T13:19:38.803387Z",
     "iopub.status.busy": "2022-07-16T13:19:38.803054Z",
     "iopub.status.idle": "2022-07-16T13:19:39.389031Z",
     "shell.execute_reply": "2022-07-16T13:19:39.387728Z",
     "shell.execute_reply.started": "2022-07-16T13:19:38.803357Z"
    },
    "id": "5h2EP1oJ6WQo",
    "outputId": "175aa85f-5f23-4de5-a1c2-f0361f0d9f84"
   },
   "outputs": [
    {
     "name": "stdout",
     "output_type": "stream",
     "text": [
      "Classification Report for Random Forest:\n",
      "               precision    recall  f1-score   support\n",
      "\n",
      "    religion       0.97      0.96      0.96      1579\n",
      "         age       0.98      0.98      0.98      1566\n",
      "      gender       0.96      0.87      0.91      1462\n",
      "   ethnicity       0.99      0.99      0.99      1542\n",
      "not bullying       0.80      0.89      0.85      1274\n",
      "\n",
      "    accuracy                           0.94      7423\n",
      "   macro avg       0.94      0.94      0.94      7423\n",
      "weighted avg       0.94      0.94      0.94      7423\n",
      "\n"
     ]
    }
   ],
   "source": [
    "rf_pred = rf_clf.predict(X_test)\n",
    "print('Classification Report for Random Forest:\\n',classification_report(y_test, rf_pred, target_names=sentiments))"
   ]
  },
  {
   "cell_type": "code",
   "execution_count": 38,
   "metadata": {},
   "outputs": [
    {
     "data": {
      "image/png": "[encoded data removed]",
      "text/plain": [
       "<Figure size 640x480 with 1 Axes>"
      ]
     },
     "metadata": {},
     "output_type": "display_data"
    }
   ],
   "source": [
    "import matplotlib.pyplot as plt\n",
    "\n",
    "# Example accuracies (replace with your actual accuracies)\n",
    "accuracies = [93,94]\n",
    "\n",
    "# Model names\n",
    "models = ['LR', 'RF']\n",
    "\n",
    "# Plotting the bar graph\n",
    "plt.bar(models, accuracies, color='lightblue')\n",
    "plt.xlabel('Models')\n",
    "plt.ylabel('Accuracy')\n",
    "plt.title('Accuracy Comparison of 2 ML Models after SMOTE')\n",
    "plt.ylim(80, 100)  # Set y-axis limits to represent accuracy range (0 to 1)\n",
    "plt.show()\n"
   ]
  },
  {
   "cell_type": "code",
   "execution_count": null,
   "metadata": {},
   "outputs": [],
   "source": [
    "y_scores = classifier.predict_proba(X_test)[:, 1]\n",
    "\n",
    "# Compute ROC curve and ROC area\n",
    "fpr, tpr, thresholds = roc_curve(y_test, y_scores)\n",
    "roc_auc = auc(fpr, tpr)\n",
    "\n",
    "# Plot ROC curve\n",
    "plt.figure(figsize=(10, 6))\n",
    "plt.plot(fpr, tpr, color='darkorange', lw=2, label='ROC curve (AUC = {:.2f})'.format(roc_auc))\n",
    "plt.plot([0, 1], [0, 1], color='navy', lw=2, linestyle='--')\n",
    "plt.xlabel('False Positive Rate')\n",
    "plt.ylabel('True Positive Rate')\n",
    "plt.title('Receiver Operating Characteristic (ROC) Curve')\n",
    "plt.legend(loc='lower right')\n",
    "plt.show()\n"
   ]
  },
  {
   "cell_type": "markdown",
   "metadata": {
    "id": "76XDSxRxKhBE"
   },
   "source": [
    "## Confusion Matrix"
   ]
  },
  {
   "cell_type": "code",
   "execution_count": null,
   "metadata": {
    "_kg_hide-input": true,
    "cellView": "form",
    "execution": {
     "iopub.execute_input": "2022-07-16T13:19:50.047148Z",
     "iopub.status.busy": "2022-07-16T13:19:50.04673Z",
     "iopub.status.idle": "2022-07-16T13:19:50.058304Z",
     "shell.execute_reply": "2022-07-16T13:19:50.057034Z",
     "shell.execute_reply.started": "2022-07-16T13:19:50.047115Z"
    },
    "id": "TJc6qNHzKjuM"
   },
   "outputs": [],
   "source": [
    "#@title\n",
    "from sklearn.metrics import confusion_matrix \n",
    "# Source code credit for this function: https://gist.github.com/shaypal5/94c53d765083101efc0240d776a23823\n",
    "def print_confusion_matrix(confusion_matrix, class_names, figsize = (10,7), fontsize=14):\n",
    "    \"\"\"Prints a confusion matrix, as returned by sklearn.metrics.confusion_matrix, as a heatmap.\n",
    "    \n",
    "    Arguments\n",
    "    ---------\n",
    "    confusion_matrix: numpy.ndarray\n",
    "        The numpy.ndarray object returned from a call to sklearn.metrics.confusion_matrix. \n",
    "        Similarly constructed ndarrays can also be used.\n",
    "    class_names: list\n",
    "        An ordered list of class names, in the order they index the given confusion matrix.\n",
    "    figsize: tuple\n",
    "        A 2-long tuple, the first value determining the horizontal size of the ouputted figure,\n",
    "        the second determining the vertical size. Defaults to (10,7).\n",
    "    fontsize: int\n",
    "        Font size for axes labels. Defaults to 14.\n",
    "        \n",
    "    Returns\n",
    "    -------\n",
    "    matplotlib.figure.Figure\n",
    "        The resulting confusion matrix figure\n",
    "    \"\"\"\n",
    "    df_cm = pd.DataFrame(\n",
    "        confusion_matrix, index=class_names, columns=class_names, \n",
    "    )\n",
    "    fig = plt.figure(figsize=figsize)\n",
    "    try:\n",
    "        heatmap = sns.heatmap(df_cm, annot=True, fmt=\"d\")\n",
    "    except ValueError:\n",
    "        raise ValueError(\"Confusion matrix values must be integers.\")\n",
    "    heatmap.yaxis.set_ticklabels(heatmap.yaxis.get_ticklabels(), rotation=0, ha='right', fontsize=fontsize)\n",
    "    heatmap.xaxis.set_ticklabels(heatmap.xaxis.get_ticklabels(), rotation=45, ha='right', fontsize=fontsize)\n",
    "    plt.ylabel('Truth')\n",
    "    plt.xlabel('Prediction')"
   ]
  },
  {
   "cell_type": "code",
   "execution_count": null,
   "metadata": {
    "execution": {
     "iopub.execute_input": "2022-07-16T13:19:59.685583Z",
     "iopub.status.busy": "2022-07-16T13:19:59.685146Z",
     "iopub.status.idle": "2022-07-16T13:20:00.023913Z",
     "shell.execute_reply": "2022-07-16T13:20:00.023036Z",
     "shell.execute_reply.started": "2022-07-16T13:19:59.685547Z"
    },
    "id": "busjJopYLj_V",
    "outputId": "1c51d7b0-fc5b-40b1-91b8-7d020efbe42b"
   },
   "outputs": [],
   "source": [
    "# Naive Bayes\n",
    "cm = confusion_matrix(y_test,nb_pred)\n",
    "print_confusion_matrix(cm,sentiments)"
   ]
  },
  {
   "cell_type": "code",
   "execution_count": null,
   "metadata": {
    "execution": {
     "iopub.execute_input": "2022-07-16T13:20:05.700652Z",
     "iopub.status.busy": "2022-07-16T13:20:05.699809Z",
     "iopub.status.idle": "2022-07-16T13:20:06.032801Z",
     "shell.execute_reply": "2022-07-16T13:20:06.031624Z",
     "shell.execute_reply.started": "2022-07-16T13:20:05.700612Z"
    },
    "id": "v5TTdwZWMJt0",
    "outputId": "643e124b-47a1-4b44-e2ec-b418daaa5058"
   },
   "outputs": [],
   "source": [
    "# Random Forest\n",
    "cm = confusion_matrix(y_test,rf_pred)\n",
    "print_confusion_matrix(cm,sentiments)"
   ]
  },
  {
   "cell_type": "markdown",
   "metadata": {
    "id": "-IAOGxbP8zrk"
   },
   "source": [
    "## Cross Validation Score"
   ]
  },
  {
   "cell_type": "code",
   "execution_count": null,
   "metadata": {
    "execution": {
     "iopub.execute_input": "2022-07-16T13:20:09.179733Z",
     "iopub.status.busy": "2022-07-16T13:20:09.179299Z",
     "iopub.status.idle": "2022-07-16T13:22:59.946981Z",
     "shell.execute_reply": "2022-07-16T13:22:59.945751Z",
     "shell.execute_reply.started": "2022-07-16T13:20:09.179696Z"
    },
    "id": "tNj5ATEJ82It",
    "outputId": "dc7f7a80-31be-4ca5-f6d0-df63e0811902"
   },
   "outputs": [],
   "source": [
    "from sklearn.model_selection import cross_val_score\n",
    "\n",
    "NB_cv_score = cross_val_score(nb_clf,X_train, y_train, cv=3)\n",
    "KNN_cv_score = cross_val_score(knn_clf,X_train, y_train, cv=3)\n",
    "RF_cv_score = cross_val_score(rf_clf,X_train, y_train, cv=3)\n",
    "\n",
    "print('Cross validation score (Multinomial Naive Bayes Classifier):', NB_cv_score.mean())\n",
    "print('Cross validation score (K Nearest Neighbor):', KNN_cv_score.mean())\n",
    "print('Cross validation score (Random Forest Classifier):', RF_cv_score.mean())"
   ]
  },
  {
   "cell_type": "markdown",
   "metadata": {
    "id": "XD5JQc3aJkA1"
   },
   "source": [
    "# Trying the best model using another dataset"
   ]
  },
  {
   "cell_type": "markdown",
   "metadata": {
    "id": "ZaTkFHL3ZYkd"
   },
   "source": [
    "The dataset was collected from these 4 kaggle datasets.</br>\n",
    "https://www.kaggle.com/datasets/saurabhshahane/cyberbullying-dataset?select=twitter_racism_parsed_dataset.csv\n",
    "https://www.kaggle.com/datasets/vkrahul/twitter-hate-speech?select=train_E6oV3lV.csv\n",
    "https://www.kaggle.com/datasets/ilhamfp31/indonesian-abusive-and-hate-speech-twitter-text\n",
    "https://www.kaggle.com/datasets/mrmorj/hate-speech-and-offensive-language-dataset"
   ]
  },
  {
   "cell_type": "code",
   "execution_count": null,
   "metadata": {
    "execution": {
     "iopub.execute_input": "2022-07-16T13:22:59.968437Z",
     "iopub.status.busy": "2022-07-16T13:22:59.968135Z",
     "iopub.status.idle": "2022-07-16T13:22:59.97838Z",
     "shell.execute_reply": "2022-07-16T13:22:59.977128Z",
     "shell.execute_reply.started": "2022-07-16T13:22:59.96841Z"
    },
    "id": "cZNzqCLLJnwk"
   },
   "outputs": [],
   "source": [
    "test_data = pd.read_csv('../input/cb-test-data/cyberbullying_test_data.csv')\n",
    "test_data[\"sentiments\"].replace({\"religion\": 0, \"age\": 1, \"gender\": 2, \"ethnicity\": 3, \"not_cyberbullying\": 4}, inplace=True)"
   ]
  },
  {
   "cell_type": "code",
   "execution_count": null,
   "metadata": {
    "execution": {
     "iopub.execute_input": "2022-07-16T13:23:32.751252Z",
     "iopub.status.busy": "2022-07-16T13:23:32.750647Z",
     "iopub.status.idle": "2022-07-16T13:23:32.768241Z",
     "shell.execute_reply": "2022-07-16T13:23:32.767326Z",
     "shell.execute_reply.started": "2022-07-16T13:23:32.7512Z"
    },
    "id": "kH0wSEyUvsKV",
    "outputId": "c7b1ebdb-779d-455c-df74-06facf200056"
   },
   "outputs": [],
   "source": [
    "test_data.tail()"
   ]
  },
  {
   "cell_type": "code",
   "execution_count": null,
   "metadata": {
    "execution": {
     "iopub.execute_input": "2022-07-16T13:24:17.48248Z",
     "iopub.status.busy": "2022-07-16T13:24:17.481659Z",
     "iopub.status.idle": "2022-07-16T13:24:17.626992Z",
     "shell.execute_reply": "2022-07-16T13:24:17.625707Z",
     "shell.execute_reply.started": "2022-07-16T13:24:17.482413Z"
    },
    "id": "7tS-6mSwvjqF",
    "outputId": "6f0b062f-dbd3-4b17-8eb2-d9e04603140a"
   },
   "outputs": [],
   "source": [
    "# Cleaning text test set\n",
    "import string\n",
    "test_texts_cleaned = []\n",
    "for t in test_data.text:\n",
    "    test_texts_cleaned.append(preprocess(t))\n",
    "test_texts_cleaned = clf.transform(test_texts_cleaned)\n",
    "\n",
    "tf_transformer = TfidfTransformer(use_idf=True).fit(test_texts_cleaned)\n",
    "X_tf_test = tf_transformer.transform(test_texts_cleaned)"
   ]
  },
  {
   "cell_type": "markdown",
   "metadata": {
    "id": "LKSyqtdGs0td"
   },
   "source": [
    "**Classification Report**"
   ]
  },
  {
   "cell_type": "code",
   "execution_count": null,
   "metadata": {
    "execution": {
     "iopub.execute_input": "2022-07-16T13:24:20.966092Z",
     "iopub.status.busy": "2022-07-16T13:24:20.965154Z",
     "iopub.status.idle": "2022-07-16T13:24:21.021157Z",
     "shell.execute_reply": "2022-07-16T13:24:21.020014Z",
     "shell.execute_reply.started": "2022-07-16T13:24:20.966042Z"
    },
    "id": "RbJCj6MhsTN-",
    "outputId": "646a3799-418e-46dd-b3c0-66382988003a"
   },
   "outputs": [],
   "source": [
    "from sklearn.metrics import classification_report\n",
    "all_predictions = rf_clf.predict(test_texts_cleaned)\n",
    "print(classification_report(test_data[\"sentiments\"], all_predictions))"
   ]
  },
  {
   "cell_type": "markdown",
   "metadata": {
    "id": "dUrJm40vs9i0"
   },
   "source": [
    "**The best model only has a 66% accuracy in the other dataset. Perhaps it might be too different from the training data that the model was trained.**"
   ]
  },
  {
   "cell_type": "code",
   "execution_count": null,
   "metadata": {
    "execution": {
     "iopub.execute_input": "2022-07-16T13:24:23.108898Z",
     "iopub.status.busy": "2022-07-16T13:24:23.108474Z",
     "iopub.status.idle": "2022-07-16T13:24:23.44725Z",
     "shell.execute_reply": "2022-07-16T13:24:23.445991Z",
     "shell.execute_reply.started": "2022-07-16T13:24:23.108857Z"
    },
    "id": "QVQnrOIczEK1",
    "outputId": "655d89bb-6a5d-4205-ddb0-e8506f1e45a8"
   },
   "outputs": [],
   "source": [
    "cm = confusion_matrix(test_data[\"sentiments\"],all_predictions)\n",
    "print_confusion_matrix(cm,sentiments)"
   ]
  },
  {
   "cell_type": "markdown",
   "metadata": {
    "id": "3auByN_VzaQV"
   },
   "source": [
    "**huge number from ethnicity classified as not bullying**"
   ]
  },
  {
   "cell_type": "markdown",
   "metadata": {
    "id": "mK7URcNuXPL-"
   },
   "source": [
    "## Test of New dataset to Random Forest"
   ]
  },
  {
   "cell_type": "code",
   "execution_count": null,
   "metadata": {
    "execution": {
     "iopub.execute_input": "2022-07-16T13:24:30.486276Z",
     "iopub.status.busy": "2022-07-16T13:24:30.485824Z",
     "iopub.status.idle": "2022-07-16T13:24:30.526624Z",
     "shell.execute_reply": "2022-07-16T13:24:30.525517Z",
     "shell.execute_reply.started": "2022-07-16T13:24:30.48624Z"
    },
    "id": "g1KQDZxsXU2N"
   },
   "outputs": [],
   "source": [
    "rf_predictions = rf_clf.predict(test_texts_cleaned)"
   ]
  },
  {
   "cell_type": "code",
   "execution_count": null,
   "metadata": {
    "execution": {
     "iopub.execute_input": "2022-07-16T13:24:36.013862Z",
     "iopub.status.busy": "2022-07-16T13:24:36.013465Z",
     "iopub.status.idle": "2022-07-16T13:24:36.020504Z",
     "shell.execute_reply": "2022-07-16T13:24:36.019636Z",
     "shell.execute_reply.started": "2022-07-16T13:24:36.013833Z"
    },
    "id": "ece6uHyZalq-",
    "outputId": "65754fec-21e8-4719-d69f-c9c7889c70b8"
   },
   "outputs": [],
   "source": [
    "rf_predictions"
   ]
  },
  {
   "cell_type": "code",
   "execution_count": null,
   "metadata": {
    "_kg_hide-input": true,
    "execution": {
     "iopub.execute_input": "2022-07-16T13:24:39.125629Z",
     "iopub.status.busy": "2022-07-16T13:24:39.125244Z",
     "iopub.status.idle": "2022-07-16T13:24:39.133733Z",
     "shell.execute_reply": "2022-07-16T13:24:39.132366Z",
     "shell.execute_reply.started": "2022-07-16T13:24:39.125599Z"
    },
    "id": "LAkBV02fatq-"
   },
   "outputs": [],
   "source": [
    "#@title\n",
    "def predict_custom(prediction):\n",
    "\n",
    "  results = []\n",
    "\n",
    "  for pred in prediction:\n",
    "\n",
    "    if pred == 0:\n",
    "      a = \"religion\"\n",
    "      results.append(a)\n",
    "    elif pred == 1:\n",
    "      b = \"age\"\n",
    "      results.append(b)\n",
    "    elif pred == 2:\n",
    "      c = \"gender\"\n",
    "      results.append(c)\n",
    "    elif pred == 3:\n",
    "      d = \"ethnicity\"\n",
    "      results.append(d)\n",
    "    elif pred == 4:\n",
    "      e = \"not_cyberbullying\"\n",
    "      results.append(e)\n",
    "\n",
    "  return results"
   ]
  },
  {
   "cell_type": "code",
   "execution_count": null,
   "metadata": {
    "execution": {
     "iopub.execute_input": "2022-07-16T13:24:47.766917Z",
     "iopub.status.busy": "2022-07-16T13:24:47.766533Z",
     "iopub.status.idle": "2022-07-16T13:24:47.772239Z",
     "shell.execute_reply": "2022-07-16T13:24:47.771249Z",
     "shell.execute_reply.started": "2022-07-16T13:24:47.766877Z"
    },
    "id": "WalsNUhzbmqm"
   },
   "outputs": [],
   "source": [
    "rf_sentiments = predict_custom(rf_predictions)"
   ]
  },
  {
   "cell_type": "code",
   "execution_count": null,
   "metadata": {
    "execution": {
     "iopub.execute_input": "2022-07-16T13:24:50.045865Z",
     "iopub.status.busy": "2022-07-16T13:24:50.045451Z",
     "iopub.status.idle": "2022-07-16T13:24:50.051008Z",
     "shell.execute_reply": "2022-07-16T13:24:50.049934Z",
     "shell.execute_reply.started": "2022-07-16T13:24:50.045832Z"
    },
    "id": "kLrX-S9TeDLp"
   },
   "outputs": [],
   "source": [
    "sentiments = predict_custom(test_data['sentiments'])"
   ]
  },
  {
   "cell_type": "code",
   "execution_count": null,
   "metadata": {
    "execution": {
     "iopub.execute_input": "2022-07-16T13:24:51.974261Z",
     "iopub.status.busy": "2022-07-16T13:24:51.973595Z",
     "iopub.status.idle": "2022-07-16T13:24:51.981949Z",
     "shell.execute_reply": "2022-07-16T13:24:51.980563Z",
     "shell.execute_reply.started": "2022-07-16T13:24:51.974226Z"
    },
    "id": "EArcM9oMeSrn"
   },
   "outputs": [],
   "source": [
    "test_data.drop('sentiments', axis=1, inplace=True)\n",
    "test_data['sentiments'] = sentiments"
   ]
  },
  {
   "cell_type": "code",
   "execution_count": null,
   "metadata": {
    "execution": {
     "iopub.execute_input": "2022-07-16T13:24:54.374029Z",
     "iopub.status.busy": "2022-07-16T13:24:54.373621Z",
     "iopub.status.idle": "2022-07-16T13:24:54.379913Z",
     "shell.execute_reply": "2022-07-16T13:24:54.378756Z",
     "shell.execute_reply.started": "2022-07-16T13:24:54.373996Z"
    },
    "id": "dJ6bc1cTcnSm"
   },
   "outputs": [],
   "source": [
    "test_data['rf_predicted'] = rf_sentiments "
   ]
  },
  {
   "cell_type": "markdown",
   "metadata": {},
   "source": [
    "**Sample Prediction of RF on the test data.**"
   ]
  },
  {
   "cell_type": "code",
   "execution_count": null,
   "metadata": {
    "id": "F3tPougRc5Re",
    "outputId": "1658ae9c-1cc1-444c-b1bc-5e61283f74e3"
   },
   "outputs": [],
   "source": [
    "test_data"
   ]
  }
 ],
 "metadata": {
  "kaggle": {
   "accelerator": "gpu",
   "dataSources": [
    {
     "datasetId": 1869236,
     "sourceId": 3053020,
     "sourceType": "datasetVersion"
    },
    {
     "datasetId": 2344565,
     "sourceId": 3950028,
     "sourceType": "datasetVersion"
    },
    {
     "datasetId": 2344579,
     "sourceId": 3950044,
     "sourceType": "datasetVersion"
    }
   ],
   "dockerImageVersionId": 30207,
   "isGpuEnabled": true,
   "isInternetEnabled": false,
   "language": "python",
   "sourceType": "notebook"
  },
  "kernelspec": {
   "display_name": "Python 3 (ipykernel)",
   "language": "python",
   "name": "python3"
  },
  "language_info": {
   "codemirror_mode": {
    "name": "ipython",
    "version": 3
   },
   "file_extension": ".py",
   "mimetype": "text/x-python",
   "name": "python",
   "nbconvert_exporter": "python",
   "pygments_lexer": "ipython3",
   "version": "3.11.5"
  }
 },
 "nbformat": 4,
 "nbformat_minor": 4
}
