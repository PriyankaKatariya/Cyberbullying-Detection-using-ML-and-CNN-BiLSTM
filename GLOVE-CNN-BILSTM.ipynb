{
 "cells": [
  {
   "cell_type": "code",
   "execution_count": 8,
   "metadata": {
    "execution": {
     "iopub.execute_input": "2021-08-04T03:03:33.350957Z",
     "iopub.status.busy": "2021-08-04T03:03:33.35041Z",
     "iopub.status.idle": "2021-08-04T03:03:34.339183Z",
     "shell.execute_reply": "2021-08-04T03:03:34.338383Z",
     "shell.execute_reply.started": "2021-08-04T03:03:33.35087Z"
    }
   },
   "outputs": [],
   "source": [
    "import re\n",
    "import tqdm\n",
    "import numpy as np\n",
    "import pandas as pd\n",
    "import seaborn as sns\n",
    "import matplotlib.pyplot as plt\n",
    "from sklearn.model_selection import train_test_split"
   ]
  },
  {
   "cell_type": "code",
   "execution_count": 9,
   "metadata": {
    "execution": {
     "iopub.execute_input": "2021-08-04T03:03:34.341247Z",
     "iopub.status.busy": "2021-08-04T03:03:34.340859Z",
     "iopub.status.idle": "2021-08-04T03:03:34.454917Z",
     "shell.execute_reply": "2021-08-04T03:03:34.45402Z",
     "shell.execute_reply.started": "2021-08-04T03:03:34.341206Z"
    }
   },
   "outputs": [],
   "source": [
    "df = pd.read_csv('/Users/localadmin/Desktop/cyberbullying_tweets.csv')"
   ]
  },
  {
   "cell_type": "code",
   "execution_count": 10,
   "metadata": {
    "execution": {
     "iopub.execute_input": "2021-08-04T03:03:34.457052Z",
     "iopub.status.busy": "2021-08-04T03:03:34.45677Z",
     "iopub.status.idle": "2021-08-04T03:03:34.481175Z",
     "shell.execute_reply": "2021-08-04T03:03:34.480131Z",
     "shell.execute_reply.started": "2021-08-04T03:03:34.457026Z"
    }
   },
   "outputs": [
    {
     "data": {
      "text/html": [
       "<div>\n",
       "<style scoped>\n",
       "    .dataframe tbody tr th:only-of-type {\n",
       "        vertical-align: middle;\n",
       "    }\n",
       "\n",
       "    .dataframe tbody tr th {\n",
       "        vertical-align: top;\n",
       "    }\n",
       "\n",
       "    .dataframe thead th {\n",
       "        text-align: right;\n",
       "    }\n",
       "</style>\n",
       "<table border=\"1\" class=\"dataframe\">\n",
       "  <thead>\n",
       "    <tr style=\"text-align: right;\">\n",
       "      <th></th>\n",
       "      <th>tweet_text</th>\n",
       "      <th>cyberbullying_type</th>\n",
       "    </tr>\n",
       "  </thead>\n",
       "  <tbody>\n",
       "    <tr>\n",
       "      <th>0</th>\n",
       "      <td>In other words #katandandre, your food was cra...</td>\n",
       "      <td>not_cyberbullying</td>\n",
       "    </tr>\n",
       "    <tr>\n",
       "      <th>1</th>\n",
       "      <td>Why is #aussietv so white? #MKR #theblock #ImA...</td>\n",
       "      <td>not_cyberbullying</td>\n",
       "    </tr>\n",
       "    <tr>\n",
       "      <th>2</th>\n",
       "      <td>@XochitlSuckkks a classy whore? Or more red ve...</td>\n",
       "      <td>not_cyberbullying</td>\n",
       "    </tr>\n",
       "    <tr>\n",
       "      <th>3</th>\n",
       "      <td>@Jason_Gio meh. :P  thanks for the heads up, b...</td>\n",
       "      <td>not_cyberbullying</td>\n",
       "    </tr>\n",
       "    <tr>\n",
       "      <th>4</th>\n",
       "      <td>@RudhoeEnglish This is an ISIS account pretend...</td>\n",
       "      <td>not_cyberbullying</td>\n",
       "    </tr>\n",
       "  </tbody>\n",
       "</table>\n",
       "</div>"
      ],
      "text/plain": [
       "                                          tweet_text cyberbullying_type\n",
       "0  In other words #katandandre, your food was cra...  not_cyberbullying\n",
       "1  Why is #aussietv so white? #MKR #theblock #ImA...  not_cyberbullying\n",
       "2  @XochitlSuckkks a classy whore? Or more red ve...  not_cyberbullying\n",
       "3  @Jason_Gio meh. :P  thanks for the heads up, b...  not_cyberbullying\n",
       "4  @RudhoeEnglish This is an ISIS account pretend...  not_cyberbullying"
      ]
     },
     "execution_count": 10,
     "metadata": {},
     "output_type": "execute_result"
    }
   ],
   "source": [
    "df.head()"
   ]
  },
  {
   "cell_type": "code",
   "execution_count": 11,
   "metadata": {
    "execution": {
     "iopub.execute_input": "2021-08-04T03:03:34.483555Z",
     "iopub.status.busy": "2021-08-04T03:03:34.483129Z",
     "iopub.status.idle": "2021-08-04T03:03:34.524857Z",
     "shell.execute_reply": "2021-08-04T03:03:34.52372Z",
     "shell.execute_reply.started": "2021-08-04T03:03:34.483513Z"
    }
   },
   "outputs": [
    {
     "name": "stdout",
     "output_type": "stream",
     "text": [
      "<class 'pandas.core.frame.DataFrame'>\n",
      "RangeIndex: 47692 entries, 0 to 47691\n",
      "Data columns (total 2 columns):\n",
      " #   Column              Non-Null Count  Dtype \n",
      "---  ------              --------------  ----- \n",
      " 0   tweet_text          47692 non-null  object\n",
      " 1   cyberbullying_type  47692 non-null  object\n",
      "dtypes: object(2)\n",
      "memory usage: 745.3+ KB\n",
      "\n"
     ]
    }
   ],
   "source": [
    "df.info()\n",
    "print()"
   ]
  },
  {
   "cell_type": "code",
   "execution_count": 12,
   "metadata": {},
   "outputs": [
    {
     "data": {
      "text/html": [
       "<div>\n",
       "<style scoped>\n",
       "    .dataframe tbody tr th:only-of-type {\n",
       "        vertical-align: middle;\n",
       "    }\n",
       "\n",
       "    .dataframe tbody tr th {\n",
       "        vertical-align: top;\n",
       "    }\n",
       "\n",
       "    .dataframe thead th {\n",
       "        text-align: right;\n",
       "    }\n",
       "</style>\n",
       "<table border=\"1\" class=\"dataframe\">\n",
       "  <thead>\n",
       "    <tr style=\"text-align: right;\">\n",
       "      <th></th>\n",
       "      <th>tweet_text</th>\n",
       "      <th>cyberbullying_type</th>\n",
       "    </tr>\n",
       "  </thead>\n",
       "  <tbody>\n",
       "    <tr>\n",
       "      <th>0</th>\n",
       "      <td>In other words #katandandre, your food was cra...</td>\n",
       "      <td>0</td>\n",
       "    </tr>\n",
       "    <tr>\n",
       "      <th>1</th>\n",
       "      <td>Why is #aussietv so white? #MKR #theblock #ImA...</td>\n",
       "      <td>0</td>\n",
       "    </tr>\n",
       "    <tr>\n",
       "      <th>2</th>\n",
       "      <td>@XochitlSuckkks a classy whore? Or more red ve...</td>\n",
       "      <td>0</td>\n",
       "    </tr>\n",
       "    <tr>\n",
       "      <th>3</th>\n",
       "      <td>@Jason_Gio meh. :P  thanks for the heads up, b...</td>\n",
       "      <td>0</td>\n",
       "    </tr>\n",
       "    <tr>\n",
       "      <th>4</th>\n",
       "      <td>@RudhoeEnglish This is an ISIS account pretend...</td>\n",
       "      <td>0</td>\n",
       "    </tr>\n",
       "  </tbody>\n",
       "</table>\n",
       "</div>"
      ],
      "text/plain": [
       "                                          tweet_text  cyberbullying_type\n",
       "0  In other words #katandandre, your food was cra...                   0\n",
       "1  Why is #aussietv so white? #MKR #theblock #ImA...                   0\n",
       "2  @XochitlSuckkks a classy whore? Or more red ve...                   0\n",
       "3  @Jason_Gio meh. :P  thanks for the heads up, b...                   0\n",
       "4  @RudhoeEnglish This is an ISIS account pretend...                   0"
      ]
     },
     "execution_count": 12,
     "metadata": {},
     "output_type": "execute_result"
    }
   ],
   "source": [
    "class_labels = {\n",
    "    'not_cyberbullying':0,\n",
    "    'religion':1,\n",
    "    'age':2,\n",
    "    'gender':3,\n",
    "    'ethnicity':4,\n",
    "    'other_cyberbullying':5\n",
    "}\n",
    "df['cyberbullying_type'] = df['cyberbullying_type'].replace(class_labels).astype(int)\n",
    "df['cyberbullying_type'].value_counts()\n",
    "df.head()"
   ]
  },
  {
   "cell_type": "code",
   "execution_count": 66,
   "metadata": {},
   "outputs": [
    {
     "data": {
      "image/png": "[encoded data removed]",
      "text/plain": [
       "<Figure size 640x480 with 1 Axes>"
      ]
     },
     "metadata": {},
     "output_type": "display_data"
    }
   ],
   "source": [
    "import matplotlib.pyplot as plt\n",
    "\n",
    "# Sample data\n",
    "labels = ['Not Cyberbullying', 'Religion', 'Age', 'Gender', 'Ethnicity', 'Other Cyberbullying']\n",
    "sizes = [7945,7998,7992,7973,7961,7823]\n",
    "explode = (0.1, 0, 0, 0, 0, 0)\n",
    "#colors = ['#ff9999', '#66b3ff', '#99ff99', '#ffcc99', '#c2c2f0', '#ffb3e6']\n",
    "colors = ['teal','royalblue','steelblue','dodgerblue','skyblue','lightblue']\n",
    "fig, ax = plt.subplots()\n",
    "ax.pie(sizes, labels=labels, autopct='%1.1f%%', startangle=90, colors=colors, explode=explode)\n",
    "centre_circle = plt.Circle((0, 0), 0.25, fc='white')\n",
    "fig = plt.gcf()\n",
    "fig.gca().add_artist(centre_circle)\n",
    "ax.axis('equal')  \n",
    "\n",
    "plt.title('Distribution of Cyberbullying Classes')\n",
    "plt.show()\n"
   ]
  },
  {
   "cell_type": "code",
   "execution_count": 13,
   "metadata": {
    "execution": {
     "iopub.execute_input": "2021-08-04T03:03:34.526674Z",
     "iopub.status.busy": "2021-08-04T03:03:34.526271Z",
     "iopub.status.idle": "2021-08-04T03:03:34.537159Z",
     "shell.execute_reply": "2021-08-04T03:03:34.536419Z",
     "shell.execute_reply.started": "2021-08-04T03:03:34.526641Z"
    }
   },
   "outputs": [
    {
     "data": {
      "text/plain": [
       "cyberbullying_type\n",
       "1    7998\n",
       "2    7992\n",
       "3    7973\n",
       "4    7961\n",
       "0    7945\n",
       "5    7823\n",
       "Name: count, dtype: int64"
      ]
     },
     "execution_count": 13,
     "metadata": {},
     "output_type": "execute_result"
    }
   ],
   "source": [
    "df[\"cyberbullying_type\"].value_counts()"
   ]
  },
  {
   "cell_type": "markdown",
   "metadata": {},
   "source": [
    "# A sample text from the dataset"
   ]
  },
  {
   "cell_type": "markdown",
   "metadata": {},
   "source": [
    "# Text Preprocessing\n",
    "The preprocessing is done in a few steps:\n",
    "* Lowercaseing the text\n",
    "* Removing Numbers\n",
    "* Removing Punctuations\n",
    "* Removing Stopwords"
   ]
  },
  {
   "cell_type": "code",
   "execution_count": 14,
   "metadata": {
    "execution": {
     "iopub.execute_input": "2021-08-04T03:03:34.565735Z",
     "iopub.status.busy": "2021-08-04T03:03:34.565298Z",
     "iopub.status.idle": "2021-08-04T03:03:35.576325Z",
     "shell.execute_reply": "2021-08-04T03:03:35.575406Z",
     "shell.execute_reply.started": "2021-08-04T03:03:34.565707Z"
    }
   },
   "outputs": [],
   "source": [
    "import nltk\n",
    "from nltk.corpus import stopwords\n",
    "from nltk.tokenize import word_tokenize\n",
    "\n",
    "stopwords = stopwords.words('english')"
   ]
  },
  {
   "cell_type": "code",
   "execution_count": 15,
   "metadata": {
    "execution": {
     "iopub.execute_input": "2021-08-04T03:04:04.053544Z",
     "iopub.status.busy": "2021-08-04T03:04:04.052884Z",
     "iopub.status.idle": "2021-08-04T03:04:04.061622Z",
     "shell.execute_reply": "2021-08-04T03:04:04.060399Z",
     "shell.execute_reply.started": "2021-08-04T03:04:04.053499Z"
    }
   },
   "outputs": [],
   "source": [
    "def lower_text(text):\n",
    "    return text.lower()\n",
    "\n",
    "def remove_number(text):\n",
    "    num = re.compile(r'[-+]?[.\\d]*[\\d]+[:,.\\d]*')\n",
    "    return num.sub(r'', text)\n",
    "\n",
    "def remove_punct(text):\n",
    "    punctuations = '@#!?+&*[]-%.:/();$=><|{}^' + \"'`\" \n",
    "    for p in punctuations:\n",
    "        text = text.replace(p, f' {p} ')\n",
    "    return text\n",
    "    \n",
    "def remove_stopwords(text):\n",
    "    text = ' '.join([word for word in text.split() if word not in (stopwords)])\n",
    "    return text"
   ]
  },
  {
   "cell_type": "code",
   "execution_count": 16,
   "metadata": {
    "execution": {
     "iopub.execute_input": "2021-08-04T03:03:58.370521Z",
     "iopub.status.busy": "2021-08-04T03:03:58.370157Z",
     "iopub.status.idle": "2021-08-04T03:03:58.37541Z",
     "shell.execute_reply": "2021-08-04T03:03:58.374417Z",
     "shell.execute_reply.started": "2021-08-04T03:03:58.37049Z"
    }
   },
   "outputs": [],
   "source": [
    "def clean_text(text):\n",
    "    text = lower_text(text)\n",
    "    text = remove_number(text)\n",
    "    text = remove_punct(text)\n",
    "    text = remove_stopwords(text)\n",
    "    \n",
    "    return text"
   ]
  },
  {
   "cell_type": "code",
   "execution_count": 17,
   "metadata": {
    "execution": {
     "iopub.execute_input": "2021-08-04T03:04:06.106631Z",
     "iopub.status.busy": "2021-08-04T03:04:06.106239Z",
     "iopub.status.idle": "2021-08-04T03:04:07.393562Z",
     "shell.execute_reply": "2021-08-04T03:04:07.392574Z",
     "shell.execute_reply.started": "2021-08-04T03:04:06.106596Z"
    }
   },
   "outputs": [],
   "source": [
    "df[\"clean_text\"] = df[\"tweet_text\"].apply(clean_text)"
   ]
  },
  {
   "cell_type": "code",
   "execution_count": 18,
   "metadata": {},
   "outputs": [],
   "source": [
    "x= df['clean_text']\n",
    "y= df['cyberbullying_type']"
   ]
  },
  {
   "cell_type": "code",
   "execution_count": 19,
   "metadata": {},
   "outputs": [
    {
     "name": "stdout",
     "output_type": "stream",
     "text": [
      "(33384,) (14308,) (33384,) (14308,)\n"
     ]
    }
   ],
   "source": [
    "x_train, x_test, y_train, y_test = train_test_split(x,y, test_size=0.3,stratify=y, random_state=42)\n",
    "print(x_train.shape,x_test.shape, y_train.shape,y_test.shape)"
   ]
  },
  {
   "cell_type": "code",
   "execution_count": 20,
   "metadata": {
    "execution": {
     "iopub.execute_input": "2021-08-04T03:09:53.813196Z",
     "iopub.status.busy": "2021-08-04T03:09:53.812644Z",
     "iopub.status.idle": "2021-08-04T03:09:59.608184Z",
     "shell.execute_reply": "2021-08-04T03:09:59.607193Z",
     "shell.execute_reply.started": "2021-08-04T03:09:53.813164Z"
    }
   },
   "outputs": [
    {
     "name": "stderr",
     "output_type": "stream",
     "text": [
      "2024-01-18 15:42:38.879400: I tensorflow/core/platform/cpu_feature_guard.cc:182] This TensorFlow binary is optimized to use available CPU instructions in performance-critical operations.\n",
      "To enable the following instructions: AVX2 FMA, in other operations, rebuild TensorFlow with the appropriate compiler flags.\n"
     ]
    }
   ],
   "source": [
    "from keras.utils import *\n",
    "from keras.preprocessing.text import Tokenizer\n",
    "from keras.preprocessing.sequence import pad_sequences\n",
    "\n",
    "import tensorflow as tf\n",
    "from keras import layers\n",
    "from keras.models import Sequential\n",
    "\n",
    "EPOCHS= 5\n",
    "act= \"swish\"\n",
    "opt= tf.keras.optimizers.Adam(learning_rate=0.001)"
   ]
  },
  {
   "cell_type": "markdown",
   "metadata": {},
   "source": [
    "# Converting texts to vectors via tokenization"
   ]
  },
  {
   "cell_type": "code",
   "execution_count": 21,
   "metadata": {
    "execution": {
     "iopub.execute_input": "2021-08-04T03:10:31.168781Z",
     "iopub.status.busy": "2021-08-04T03:10:31.168398Z",
     "iopub.status.idle": "2021-08-04T03:10:31.720648Z",
     "shell.execute_reply": "2021-08-04T03:10:31.719691Z",
     "shell.execute_reply.started": "2021-08-04T03:10:31.16874Z"
    }
   },
   "outputs": [],
   "source": [
    "tokenizer = Tokenizer()\n",
    "tokenizer.fit_on_texts(x_train)\n",
    "\n",
    "X_train = tokenizer.texts_to_sequences(x_train)\n",
    "X_test = tokenizer.texts_to_sequences(x_test)\n",
    "#TEST = tokenizer.texts_to_sequences(test_df[\"clean_text\"]) \n",
    "\n",
    "vocab_size = len(tokenizer.word_index) + 1 "
   ]
  },
  {
   "cell_type": "markdown",
   "metadata": {},
   "source": [
    "# Calculating maximum length of a vector"
   ]
  },
  {
   "cell_type": "code",
   "execution_count": 22,
   "metadata": {
    "execution": {
     "iopub.execute_input": "2021-08-04T03:10:39.932679Z",
     "iopub.status.busy": "2021-08-04T03:10:39.932303Z",
     "iopub.status.idle": "2021-08-04T03:10:39.94418Z",
     "shell.execute_reply": "2021-08-04T03:10:39.943222Z",
     "shell.execute_reply.started": "2021-08-04T03:10:39.93265Z"
    }
   },
   "outputs": [
    {
     "name": "stdout",
     "output_type": "stream",
     "text": [
      "Max len: 527\n"
     ]
    }
   ],
   "source": [
    "lens_train = [len(i) for i in X_train]\n",
    "lens_test = [len(i) for i in X_test]\n",
    "lens = lens_train + lens_test\n",
    "\n",
    "maxlen = np.max(lens)\n",
    "\n",
    "print('Max len:', maxlen)"
   ]
  },
  {
   "cell_type": "markdown",
   "metadata": {},
   "source": [
    "# Zero padding every vector so that they are the same size"
   ]
  },
  {
   "cell_type": "code",
   "execution_count": 23,
   "metadata": {
    "execution": {
     "iopub.execute_input": "2021-08-04T03:10:48.215753Z",
     "iopub.status.busy": "2021-08-04T03:10:48.215317Z",
     "iopub.status.idle": "2021-08-04T03:10:48.384717Z",
     "shell.execute_reply": "2021-08-04T03:10:48.383675Z",
     "shell.execute_reply.started": "2021-08-04T03:10:48.215718Z"
    }
   },
   "outputs": [],
   "source": [
    "X_train = pad_sequences(X_train, padding='post', maxlen=maxlen)\n",
    "X_test = pad_sequences(X_test, padding='post', maxlen=maxlen)\n",
    "#TEST = pad_sequences(TEST, padding='post', maxlen=maxlen)"
   ]
  },
  {
   "cell_type": "markdown",
   "metadata": {},
   "source": [
    "# One Hot Encoding integer labels"
   ]
  },
  {
   "cell_type": "code",
   "execution_count": 24,
   "metadata": {
    "execution": {
     "iopub.execute_input": "2021-08-04T03:10:55.965414Z",
     "iopub.status.busy": "2021-08-04T03:10:55.965019Z",
     "iopub.status.idle": "2021-08-04T03:10:55.970595Z",
     "shell.execute_reply": "2021-08-04T03:10:55.969855Z",
     "shell.execute_reply.started": "2021-08-04T03:10:55.965378Z"
    }
   },
   "outputs": [],
   "source": [
    "dummy_y_test = to_categorical(y_test)\n",
    "dummy_y_train = to_categorical(y_train)"
   ]
  },
  {
   "cell_type": "markdown",
   "metadata": {},
   "source": [
    "# Reading GloVe"
   ]
  },
  {
   "cell_type": "code",
   "execution_count": 25,
   "metadata": {
    "execution": {
     "iopub.execute_input": "2021-08-04T03:16:51.415027Z",
     "iopub.status.busy": "2021-08-04T03:16:51.414622Z",
     "iopub.status.idle": "2021-08-04T03:16:51.422844Z",
     "shell.execute_reply": "2021-08-04T03:16:51.421899Z",
     "shell.execute_reply.started": "2021-08-04T03:16:51.414993Z"
    }
   },
   "outputs": [],
   "source": [
    "import tqdm\n",
    "import numpy as np\n",
    "\n",
    "def get_embedding_vectors(tokenizer, dim=300):\n",
    "    embedding_index = {}\n",
    "\n",
    "    with open('/Users/localadmin/Desktop/glove.840B.300d.txt', 'r') as f:\n",
    "        for line in tqdm.tqdm(f, \"Reading GloVe\"):\n",
    "            try:\n",
    "                values = line.split()\n",
    "                word = ''.join(values[:-300])\n",
    "                vectors = np.asarray(values[-300:], dtype='float32')\n",
    "                embedding_index[word] = vectors\n",
    "            except ValueError as e:\n",
    "                # Handle the ValueError (could not convert string to float)\n",
    "                pass\n",
    "\n",
    "    word_index = tokenizer.word_index\n",
    "    embedding_matrix = np.zeros((len(word_index) + 1, dim))\n",
    "\n",
    "    for word, i in word_index.items():\n",
    "        embedding_vector = embedding_index.get(word)\n",
    "        if embedding_vector is not None:\n",
    "            embedding_matrix[i] = embedding_vector\n",
    "\n",
    "    return embedding_matrix\n",
    "\n"
   ]
  },
  {
   "cell_type": "code",
   "execution_count": 26,
   "metadata": {
    "execution": {
     "iopub.execute_input": "2021-08-04T03:16:54.573019Z",
     "iopub.status.busy": "2021-08-04T03:16:54.57265Z",
     "iopub.status.idle": "2021-08-04T03:21:50.855734Z",
     "shell.execute_reply": "2021-08-04T03:21:50.854829Z",
     "shell.execute_reply.started": "2021-08-04T03:16:54.572983Z"
    }
   },
   "outputs": [
    {
     "name": "stderr",
     "output_type": "stream",
     "text": [
      "Reading GloVe: 1388051it [01:38, 14146.15it/s]\n"
     ]
    }
   ],
   "source": [
    "embedding_matrix = get_embedding_vectors(tokenizer)"
   ]
  },
  {
   "cell_type": "markdown",
   "metadata": {},
   "source": [
    "# Defining CNN-BiLSTM model"
   ]
  },
  {
   "cell_type": "code",
   "execution_count": 27,
   "metadata": {
    "execution": {
     "iopub.execute_input": "2021-08-04T03:21:50.857695Z",
     "iopub.status.busy": "2021-08-04T03:21:50.857348Z",
     "iopub.status.idle": "2021-08-04T03:21:51.427077Z",
     "shell.execute_reply": "2021-08-04T03:21:51.426074Z",
     "shell.execute_reply.started": "2021-08-04T03:21:50.857668Z"
    }
   },
   "outputs": [
    {
     "name": "stdout",
     "output_type": "stream",
     "text": [
      "Model: \"sequential\"\n",
      "_________________________________________________________________\n",
      " Layer (type)                Output Shape              Param #   \n",
      "=================================================================\n",
      " embedding (Embedding)       (None, 527, 300)          14715600  \n",
      "                                                                 \n",
      " dropout (Dropout)           (None, 527, 300)          0         \n",
      "                                                                 \n",
      " conv1d (Conv1D)             (None, 525, 32)           28832     \n",
      "                                                                 \n",
      " max_pooling1d (MaxPooling1  (None, 175, 32)           0         \n",
      " D)                                                              \n",
      "                                                                 \n",
      " dropout_1 (Dropout)         (None, 175, 32)           0         \n",
      "                                                                 \n",
      " conv1d_1 (Conv1D)           (None, 173, 32)           3104      \n",
      "                                                                 \n",
      " max_pooling1d_1 (MaxPoolin  (None, 57, 32)            0         \n",
      " g1D)                                                            \n",
      "                                                                 \n",
      " dropout_2 (Dropout)         (None, 57, 32)            0         \n",
      "                                                                 \n",
      " bidirectional (Bidirection  (None, 512)               591872    \n",
      " al)                                                             \n",
      "                                                                 \n",
      " dropout_3 (Dropout)         (None, 512)               0         \n",
      "                                                                 \n",
      " dense (Dense)               (None, 256)               131328    \n",
      "                                                                 \n",
      " dropout_4 (Dropout)         (None, 256)               0         \n",
      "                                                                 \n",
      " dense_1 (Dense)             (None, 6)                 1542      \n",
      "                                                                 \n",
      "=================================================================\n",
      "Total params: 15472278 (59.02 MB)\n",
      "Trainable params: 15472278 (59.02 MB)\n",
      "Non-trainable params: 0 (0.00 Byte)\n",
      "_________________________________________________________________\n"
     ]
    }
   ],
   "source": [
    "embedding_dim = 300\n",
    "\n",
    "model = Sequential()\n",
    "model.add(layers.Embedding(input_dim=vocab_size, output_dim=embedding_dim, weights = [embedding_matrix], input_length=maxlen))\n",
    "model.add(layers.Dropout(0.3)) \n",
    "model.add(layers.Conv1D(filters=32, kernel_size=3, activation=act)) \n",
    "model.add(layers.MaxPool1D(pool_size=3)) \n",
    "model.add(layers.Dropout(0.3))\n",
    "model.add(layers.Conv1D(filters=32, kernel_size=3, activation=act)) \n",
    "model.add(layers.MaxPool1D(pool_size=3)) \n",
    "model.add(layers.Dropout(0.3))\n",
    "model.add(layers.Bidirectional(layers.LSTM(256, recurrent_dropout=0.3)))\n",
    "model.add(layers.Dropout(0.3))\n",
    "model.add(layers.Dense(256,activation=act)) \n",
    "model.add(layers.Dropout(0.3)) \n",
    "model.add(layers.Dense(6, activation=\"softmax\"))\n",
    "model.compile(optimizer=opt, loss=\"categorical_crossentropy\",metrics=[\"accuracy\"])\n",
    "model.summary()"
   ]
  },
  {
   "cell_type": "code",
   "execution_count": 28,
   "metadata": {
    "execution": {
     "iopub.execute_input": "2021-08-04T03:21:51.428965Z",
     "iopub.status.busy": "2021-08-04T03:21:51.428669Z",
     "iopub.status.idle": "2021-08-04T03:21:51.433784Z",
     "shell.execute_reply": "2021-08-04T03:21:51.432938Z",
     "shell.execute_reply.started": "2021-08-04T03:21:51.428937Z"
    }
   },
   "outputs": [],
   "source": [
    "checkpoint_filepath = './Checkpoint/checkpoint'\n",
    "model_checkpoint_callback = tf.keras.callbacks.ModelCheckpoint(\n",
    "    filepath=checkpoint_filepath,\n",
    "    save_weights_only=True,\n",
    "    monitor='val_accuracy',\n",
    "    mode='max',\n",
    "    save_best_only=True)"
   ]
  },
  {
   "cell_type": "code",
   "execution_count": 29,
   "metadata": {
    "execution": {
     "iopub.execute_input": "2021-08-04T03:21:51.435268Z",
     "iopub.status.busy": "2021-08-04T03:21:51.434994Z",
     "iopub.status.idle": "2021-08-04T03:27:22.05981Z",
     "shell.execute_reply": "2021-08-04T03:27:22.058532Z",
     "shell.execute_reply.started": "2021-08-04T03:21:51.435244Z"
    }
   },
   "outputs": [
    {
     "name": "stdout",
     "output_type": "stream",
     "text": [
      "Epoch 1/5\n",
      "668/668 [==============================] - 454s 672ms/step - loss: 0.6432 - accuracy: 0.7320 - val_loss: 0.4335 - val_accuracy: 0.8173\n",
      "Epoch 2/5\n",
      "668/668 [==============================] - 466s 698ms/step - loss: 0.4260 - accuracy: 0.8260 - val_loss: 0.4011 - val_accuracy: 0.8323\n",
      "Epoch 3/5\n",
      "668/668 [==============================] - 457s 685ms/step - loss: 0.3537 - accuracy: 0.8617 - val_loss: 0.3995 - val_accuracy: 0.8323\n",
      "Epoch 4/5\n",
      "668/668 [==============================] - 426s 638ms/step - loss: 0.2889 - accuracy: 0.8912 - val_loss: 0.4362 - val_accuracy: 0.8315\n",
      "Epoch 5/5\n",
      "668/668 [==============================] - 537s 805ms/step - loss: 0.2390 - accuracy: 0.9111 - val_loss: 0.4686 - val_accuracy: 0.8321\n",
      "Training Accuracy: 0.9497\n",
      "Testing Accuracy:  0.8321\n"
     ]
    }
   ],
   "source": [
    "history = model.fit(X_train, dummy_y_train, epochs=EPOCHS, verbose=1, validation_data=(X_test, dummy_y_test), batch_size=50) \n",
    "loss, accuracy = model.evaluate(X_train, dummy_y_train, verbose=0)\n",
    "print(\"Training Accuracy: {:.4f}\".format(accuracy))\n",
    "loss, accuracy = model.evaluate(X_test, dummy_y_test, verbose=0)\n",
    "print(\"Testing Accuracy:  {:.4f}\".format(accuracy))"
   ]
  },
  {
   "cell_type": "code",
   "execution_count": 38,
   "metadata": {},
   "outputs": [
    {
     "name": "stdout",
     "output_type": "stream",
     "text": [
      "448/448 [==============================] - 29s 66ms/step - loss: 0.4686 - accuracy: 0.8321\n"
     ]
    }
   ],
   "source": [
    "loss, accuracy = model.evaluate(X_test, dummy_y_test)"
   ]
  },
  {
   "cell_type": "code",
   "execution_count": 41,
   "metadata": {},
   "outputs": [
    {
     "name": "stdout",
     "output_type": "stream",
     "text": [
      "448/448 [==============================] - 31s 68ms/step\n"
     ]
    }
   ],
   "source": [
    "y_pred = model.predict(X_test)"
   ]
  },
  {
   "cell_type": "code",
   "execution_count": 42,
   "metadata": {},
   "outputs": [],
   "source": [
    "y_pred_classes = np.argmax(y_pred, axis=1)"
   ]
  },
  {
   "cell_type": "code",
   "execution_count": 44,
   "metadata": {},
   "outputs": [
    {
     "name": "stdout",
     "output_type": "stream",
     "text": [
      "Classification Report:\n",
      "               precision    recall  f1-score   support\n",
      "\n",
      "           0       0.62      0.49      0.55      2384\n",
      "           1       0.95      0.97      0.96      2399\n",
      "           2       0.97      0.97      0.97      2398\n",
      "           3       0.89      0.87      0.88      2392\n",
      "           4       0.99      0.96      0.98      2388\n",
      "           5       0.58      0.73      0.65      2347\n",
      "\n",
      "    accuracy                           0.83     14308\n",
      "   macro avg       0.83      0.83      0.83     14308\n",
      "weighted avg       0.84      0.83      0.83     14308\n",
      "\n",
      "Accuracy: 0.8321218898518311\n"
     ]
    }
   ],
   "source": [
    "from sklearn.metrics import classification_report, accuracy_score\n",
    "\n",
    "# Assuming y_val_true are the true labels in the validation set\n",
    "y_val_true_classes = np.argmax(dummy_y_test, axis=1)\n",
    "\n",
    "# Calculate metrics\n",
    "report = classification_report(y_val_true_classes, y_pred_classes)\n",
    "accuracy = accuracy_score(y_val_true_classes, y_pred_classes)\n",
    "\n",
    "print(\"Classification Report:\\n\", report)\n",
    "print(\"Accuracy:\", accuracy)"
   ]
  },
  {
   "cell_type": "code",
   "execution_count": 54,
   "metadata": {},
   "outputs": [
    {
     "data": {
      "image/png": "[encoded data removed]",
      "text/plain": [
       "<Figure size 1000x600 with 1 Axes>"
      ]
     },
     "metadata": {},
     "output_type": "display_data"
    }
   ],
   "source": [
    "import numpy as np\n",
    "import matplotlib.pyplot as plt\n",
    "from sklearn.metrics import classification_report\n",
    "num_classes = 6\n",
    "\n",
    "# Assuming y_val_true_classes and y_pred_classes are obtained as described before\n",
    "# classification_report returns a dictionary containing precision, recall, and f1-score for each class\n",
    "report_dict = classification_report(y_val_true_classes, y_pred_classes, output_dict=True)\n",
    "\n",
    "# Extract precision and recall values for each class\n",
    "precision_values = [report_dict[str(cls)]['precision'] for cls in range(num_classes)]\n",
    "recall_values = [report_dict[str(cls)]['recall'] for cls in range(num_classes)]\n",
    "\n",
    "# Class labels (replace with your actual class labels)\n",
    "class_labels = [f'Class {cls}' for cls in range(num_classes)]\n",
    "\n",
    "# Plotting\n",
    "fig, ax = plt.subplots(figsize=(10, 6))\n",
    "\n",
    "bar_width = 0.35\n",
    "index = np.arange(num_classes)\n",
    "\n",
    "bar1 = ax.bar(index, precision_values, bar_width, label='Precision', color = 'gold')\n",
    "bar2 = ax.bar(index + bar_width, recall_values, bar_width, label='Recall')\n",
    "\n",
    "ax.set_xlabel('Classes')\n",
    "ax.set_ylabel('Scores')\n",
    "ax.set_title('Precision and Recall Comparison for Each Class')\n",
    "ax.set_xticks(index + bar_width / 2)\n",
    "ax.set_xticklabels(class_labels)\n",
    "ax.legend()\n",
    "\n",
    "plt.show()\n"
   ]
  },
  {
   "cell_type": "code",
   "execution_count": 30,
   "metadata": {
    "execution": {
     "iopub.execute_input": "2021-08-04T03:27:32.584427Z",
     "iopub.status.busy": "2021-08-04T03:27:32.584017Z",
     "iopub.status.idle": "2021-08-04T03:27:32.592881Z",
     "shell.execute_reply": "2021-08-04T03:27:32.592105Z",
     "shell.execute_reply.started": "2021-08-04T03:27:32.584379Z"
    }
   },
   "outputs": [],
   "source": [
    "def PlotGraph(history):\n",
    "    acc = history.history['accuracy']\n",
    "    val_acc = history.history['val_accuracy']\n",
    "    loss = history.history['loss']\n",
    "    val_loss = history.history['val_loss']\n",
    "    x = range(1, len(acc) + 1)\n",
    "\n",
    "    plt.figure(figsize=(12, 5))\n",
    "    plt.subplot(1, 2, 1)\n",
    "    plt.plot(x, acc, 'g', label='Training acc')\n",
    "    plt.plot(x, val_acc, 'b', label='Validation acc')\n",
    "    plt.title('Training and validation accuracy')\n",
    "    plt.legend()\n",
    "    plt.subplot(1, 2, 2)\n",
    "    plt.plot(x, loss, 'g', label='Training loss')\n",
    "    plt.plot(x, val_loss, 'b', label='Validation loss')\n",
    "    plt.title('Training and validation loss')\n",
    "    plt.legend()"
   ]
  },
  {
   "cell_type": "code",
   "execution_count": 31,
   "metadata": {
    "execution": {
     "iopub.execute_input": "2021-08-04T03:27:34.713849Z",
     "iopub.status.busy": "2021-08-04T03:27:34.713324Z",
     "iopub.status.idle": "2021-08-04T03:27:35.155616Z",
     "shell.execute_reply": "2021-08-04T03:27:35.154472Z",
     "shell.execute_reply.started": "2021-08-04T03:27:34.713816Z"
    }
   },
   "outputs": [
    {
     "data": {
      "image/png": "[encoded data removed]",
      "text/plain": [
       "<Figure size 1200x500 with 2 Axes>"
      ]
     },
     "metadata": {},
     "output_type": "display_data"
    }
   ],
   "source": [
    "PlotGraph(history)"
   ]
  },
  {
   "cell_type": "code",
   "execution_count": 32,
   "metadata": {
    "execution": {
     "iopub.execute_input": "2021-08-04T03:30:51.822807Z",
     "iopub.status.busy": "2021-08-04T03:30:51.822446Z",
     "iopub.status.idle": "2021-08-04T03:30:51.828484Z",
     "shell.execute_reply": "2021-08-04T03:30:51.82722Z",
     "shell.execute_reply.started": "2021-08-04T03:30:51.822776Z"
    }
   },
   "outputs": [
    {
     "name": "stdout",
     "output_type": "stream",
     "text": [
      "Best Accuracy Achieved by Model: 0.8323315382003784\n"
     ]
    }
   ],
   "source": [
    "print(f\"Best Accuracy Achieved by Model: {max(history.history['val_accuracy'])}\")"
   ]
  }
 ],
 "metadata": {
  "kaggle": {
   "accelerator": "none",
   "dataSources": [
    {
     "datasetId": 8327,
     "sourceId": 11650,
     "sourceType": "datasetVersion"
    },
    {
     "datasetId": 605165,
     "sourceId": 1085454,
     "sourceType": "datasetVersion"
    }
   ],
   "dockerImageVersionId": 30120,
   "isGpuEnabled": false,
   "isInternetEnabled": false,
   "language": "python",
   "sourceType": "notebook"
  },
  "kernelspec": {
   "display_name": "Python 3 (ipykernel)",
   "language": "python",
   "name": "python3"
  },
  "language_info": {
   "codemirror_mode": {
    "name": "ipython",
    "version": 3
   },
   "file_extension": ".py",
   "mimetype": "text/x-python",
   "name": "python",
   "nbconvert_exporter": "python",
   "pygments_lexer": "ipython3",
   "version": "3.11.5"
  }
 },
 "nbformat": 4,
 "nbformat_minor": 4
}
