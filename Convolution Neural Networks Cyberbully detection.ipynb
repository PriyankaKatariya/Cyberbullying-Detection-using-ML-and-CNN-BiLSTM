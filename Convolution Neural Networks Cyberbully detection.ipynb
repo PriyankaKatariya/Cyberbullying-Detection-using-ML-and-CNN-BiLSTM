{
 "cells": [
  {
   "cell_type": "code",
   "execution_count": 1,
   "id": "ce6b28df",
   "metadata": {},
   "outputs": [],
   "source": [
    "import numpy as np\n",
    "import pandas as pd \n",
    "\n",
    "import os"
   ]
  },
  {
   "cell_type": "code",
   "execution_count": 2,
   "id": "cc6e3e7a",
   "metadata": {},
   "outputs": [
    {
     "data": {
      "text/html": [
       "<div>\n",
       "<style scoped>\n",
       "    .dataframe tbody tr th:only-of-type {\n",
       "        vertical-align: middle;\n",
       "    }\n",
       "\n",
       "    .dataframe tbody tr th {\n",
       "        vertical-align: top;\n",
       "    }\n",
       "\n",
       "    .dataframe thead th {\n",
       "        text-align: right;\n",
       "    }\n",
       "</style>\n",
       "<table border=\"1\" class=\"dataframe\">\n",
       "  <thead>\n",
       "    <tr style=\"text-align: right;\">\n",
       "      <th></th>\n",
       "      <th>cleaned_text</th>\n",
       "      <th>label</th>\n",
       "    </tr>\n",
       "  </thead>\n",
       "  <tbody>\n",
       "    <tr>\n",
       "      <th>0</th>\n",
       "      <td>['word', 'food', 'crapilicious']</td>\n",
       "      <td>0</td>\n",
       "    </tr>\n",
       "    <tr>\n",
       "      <th>1</th>\n",
       "      <td>['white']</td>\n",
       "      <td>0</td>\n",
       "    </tr>\n",
       "    <tr>\n",
       "      <th>2</th>\n",
       "      <td>['classy', 'whore', 'red', 'velvet', 'cupcake']</td>\n",
       "      <td>0</td>\n",
       "    </tr>\n",
       "    <tr>\n",
       "      <th>3</th>\n",
       "      <td>['meh', 'p', 'thanks', 'head', 'concerned', 'a...</td>\n",
       "      <td>0</td>\n",
       "    </tr>\n",
       "    <tr>\n",
       "      <th>4</th>\n",
       "      <td>['isi', 'account', 'pretending', 'kurdish', 'a...</td>\n",
       "      <td>0</td>\n",
       "    </tr>\n",
       "  </tbody>\n",
       "</table>\n",
       "</div>"
      ],
      "text/plain": [
       "                                        cleaned_text  label\n",
       "0                   ['word', 'food', 'crapilicious']      0\n",
       "1                                          ['white']      0\n",
       "2    ['classy', 'whore', 'red', 'velvet', 'cupcake']      0\n",
       "3  ['meh', 'p', 'thanks', 'head', 'concerned', 'a...      0\n",
       "4  ['isi', 'account', 'pretending', 'kurdish', 'a...      0"
      ]
     },
     "execution_count": 2,
     "metadata": {},
     "output_type": "execute_result"
    }
   ],
   "source": [
    "df = pd.read_csv('/Users/localadmin/Desktop/bda datasets/cleaned_multiclass_dataset.csv')\n",
    "df.head()"
   ]
  },
  {
   "cell_type": "code",
   "execution_count": 6,
   "id": "f3c5129d",
   "metadata": {},
   "outputs": [
    {
     "data": {
      "text/plain": [
       "(47692,)"
      ]
     },
     "execution_count": 6,
     "metadata": {},
     "output_type": "execute_result"
    }
   ],
   "source": [
    "y=df['label']\n",
    "y.shape"
   ]
  },
  {
   "cell_type": "code",
   "execution_count": 7,
   "id": "f2700f7c",
   "metadata": {},
   "outputs": [
    {
     "name": "stdout",
     "output_type": "stream",
     "text": [
      "(47692,)\n"
     ]
    }
   ],
   "source": [
    "x=df['cleaned_text']\n",
    "print(x.shape)"
   ]
  },
  {
   "cell_type": "code",
   "execution_count": 8,
   "id": "3d448880",
   "metadata": {},
   "outputs": [
    {
     "name": "stdout",
     "output_type": "stream",
     "text": [
      "x train Shape:  (31953,)\n",
      "x test Shape:  (15739,)\n",
      "y train Shape:  (31953,)\n",
      "y test Shape:  (15739,)\n"
     ]
    }
   ],
   "source": [
    "from sklearn.model_selection import train_test_split\n",
    "x_train,x_test,y_train,y_test=train_test_split(x,y,test_size=0.33,random_state=42)\n",
    "print('x train Shape: ',x_train.shape)\n",
    "print('x test Shape: ',x_test.shape)\n",
    "print('y train Shape: ',y_train.shape)\n",
    "print('y test Shape: ',y_test.shape)"
   ]
  },
  {
   "cell_type": "code",
   "execution_count": 11,
   "id": "cb5d319b",
   "metadata": {},
   "outputs": [
    {
     "name": "stdout",
     "output_type": "stream",
     "text": [
      "length of the longest sentence to estimate maximum words for cnn:  4022\n"
     ]
    }
   ],
   "source": [
    "longest_sentence = max(x, key=lambda sentence: len(sentence.split()))\n",
    "print('length of the longest sentence to estimate maximum words for cnn: ',len(longest_sentence))"
   ]
  },
  {
   "cell_type": "code",
   "execution_count": 12,
   "id": "42a2eef9",
   "metadata": {},
   "outputs": [
    {
     "name": "stderr",
     "output_type": "stream",
     "text": [
      "2023-12-30 21:22:25.167138: I tensorflow/core/platform/cpu_feature_guard.cc:182] This TensorFlow binary is optimized to use available CPU instructions in performance-critical operations.\n",
      "To enable the following instructions: AVX2 FMA, in other operations, rebuild TensorFlow with the appropriate compiler flags.\n"
     ]
    }
   ],
   "source": [
    "from tensorflow.keras.preprocessing.text import Tokenizer\n",
    "max_words=5000\n",
    "tokenizer=Tokenizer(max_words)\n",
    "tokenizer.fit_on_texts(x_train)\n",
    "sequence_train=tokenizer.texts_to_sequences(x_train)\n",
    "sequence_test=tokenizer.texts_to_sequences(x_test)"
   ]
  },
  {
   "cell_type": "code",
   "execution_count": 13,
   "id": "5f5c07a4",
   "metadata": {},
   "outputs": [
    {
     "name": "stdout",
     "output_type": "stream",
     "text": [
      "dataset has 35982 number of independent tokens\n"
     ]
    }
   ],
   "source": [
    "word2vec=tokenizer.word_index\n",
    "V=len(word2vec)\n",
    "print('dataset has %s number of independent tokens' %V)"
   ]
  },
  {
   "cell_type": "code",
   "execution_count": 14,
   "id": "32893a26",
   "metadata": {},
   "outputs": [
    {
     "data": {
      "text/plain": [
       "(31953, 314)"
      ]
     },
     "execution_count": 14,
     "metadata": {},
     "output_type": "execute_result"
    }
   ],
   "source": [
    "from tensorflow.keras.preprocessing.sequence import pad_sequences\n",
    "data_train=pad_sequences(sequence_train)\n",
    "data_train.shape"
   ]
  },
  {
   "cell_type": "code",
   "execution_count": 15,
   "id": "a4761635",
   "metadata": {},
   "outputs": [
    {
     "data": {
      "text/plain": [
       "(15739, 314)"
      ]
     },
     "execution_count": 15,
     "metadata": {},
     "output_type": "execute_result"
    }
   ],
   "source": [
    "T=data_train.shape[1]\n",
    "data_test=pad_sequences(sequence_test,maxlen=T)\n",
    "data_test.shape"
   ]
  },
  {
   "cell_type": "code",
   "execution_count": 16,
   "id": "a5210405",
   "metadata": {},
   "outputs": [],
   "source": [
    "from tensorflow.keras.layers import Input,Conv1D,MaxPooling1D,Dense,GlobalMaxPooling1D,Embedding\n",
    "from tensorflow.keras.models import Model\n",
    "from tensorflow.keras.models import Sequential\n",
    "from tensorflow.keras.layers import *"
   ]
  },
  {
   "cell_type": "code",
   "execution_count": 17,
   "id": "d658e6e4",
   "metadata": {},
   "outputs": [],
   "source": [
    "# model = Sequential()\n",
    "# D = 300\n",
    "# model.add(Embedding(V+1,300,input_length=max_words))\n",
    "# model.add(Conv1D(64,3,activation = 'relu'))\n",
    "# model.add(Maxpooling1D(2,2))\n",
    "# model.add(Conv1D(32,3,activation = 'relu'))\n",
    "# model.add(Maxpooling1D(2,2))\n",
    "# model.add(Dense(8, activation = 'relu'))\n",
    "# model.add(Dense(6, activation = 'softmax'))\n",
    "# model.compile(loss='binary_crossentropy', optimizer = 'adam',metrics=['accuracy'])\n",
    "# print(model.summary())"
   ]
  },
  {
   "cell_type": "code",
   "execution_count": 18,
   "id": "5807a365",
   "metadata": {},
   "outputs": [
    {
     "name": "stdout",
     "output_type": "stream",
     "text": [
      "Model: \"model\"\n",
      "_________________________________________________________________\n",
      " Layer (type)                Output Shape              Param #   \n",
      "=================================================================\n",
      " input_1 (InputLayer)        [(None, 314)]             0         \n",
      "                                                                 \n",
      " embedding (Embedding)       (None, 314, 2)            71966     \n",
      "                                                                 \n",
      " conv1d (Conv1D)             (None, 312, 32)           224       \n",
      "                                                                 \n",
      " max_pooling1d (MaxPooling1  (None, 104, 32)           0         \n",
      " D)                                                              \n",
      "                                                                 \n",
      " conv1d_1 (Conv1D)           (None, 102, 64)           6208      \n",
      "                                                                 \n",
      " max_pooling1d_1 (MaxPoolin  (None, 34, 64)            0         \n",
      " g1D)                                                            \n",
      "                                                                 \n",
      " conv1d_2 (Conv1D)           (None, 32, 128)           24704     \n",
      "                                                                 \n",
      " global_max_pooling1d (Glob  (None, 128)               0         \n",
      " alMaxPooling1D)                                                 \n",
      "                                                                 \n",
      " dense (Dense)               (None, 6)                 774       \n",
      "                                                                 \n",
      "=================================================================\n",
      "Total params: 103876 (405.77 KB)\n",
      "Trainable params: 103876 (405.77 KB)\n",
      "Non-trainable params: 0 (0.00 Byte)\n",
      "_________________________________________________________________\n"
     ]
    }
   ],
   "source": [
    "D=2\n",
    "i=Input((T,))\n",
    "x=Embedding(V+1,D)(i)\n",
    "x=Conv1D(32,3,activation='relu')(x)\n",
    "x=MaxPooling1D(3)(x)\n",
    "x=Conv1D(64,3,activation='relu')(x)\n",
    "x=MaxPooling1D(3)(x)\n",
    "x=Conv1D(128,3,activation='relu')(x)\n",
    "x=GlobalMaxPooling1D()(x)\n",
    "x=Dense(6, activation = 'softmax')(x)\n",
    "model=Model(i,x)\n",
    "model.summary()"
   ]
  },
  {
   "cell_type": "code",
   "execution_count": 19,
   "id": "796cfdd3",
   "metadata": {},
   "outputs": [
    {
     "name": "stdout",
     "output_type": "stream",
     "text": [
      "Epoch 1/5\n",
      "320/320 [==============================] - 9s 25ms/step - loss: 1.0023 - accuracy: 0.5689 - val_loss: 0.5686 - val_accuracy: 0.7573\n",
      "Epoch 2/5\n",
      "320/320 [==============================] - 8s 26ms/step - loss: 0.4997 - accuracy: 0.7836 - val_loss: 0.5013 - val_accuracy: 0.7873\n",
      "Epoch 3/5\n",
      "320/320 [==============================] - 8s 25ms/step - loss: 0.4307 - accuracy: 0.8173 - val_loss: 0.4828 - val_accuracy: 0.7987\n",
      "Epoch 4/5\n",
      "320/320 [==============================] - 8s 25ms/step - loss: 0.3912 - accuracy: 0.8406 - val_loss: 0.4861 - val_accuracy: 0.7950\n",
      "Epoch 5/5\n",
      "320/320 [==============================] - 8s 25ms/step - loss: 0.3621 - accuracy: 0.8533 - val_loss: 0.5036 - val_accuracy: 0.8017\n"
     ]
    }
   ],
   "source": [
    "model.compile(loss='sparse_categorical_crossentropy',optimizer='adam',metrics=['accuracy'])\n",
    "cnn_senti=model.fit(data_train,y_train,validation_data=(data_test,y_test),epochs=5,batch_size=100)"
   ]
  },
  {
   "cell_type": "code",
   "execution_count": 20,
   "id": "fc41508a",
   "metadata": {},
   "outputs": [
    {
     "name": "stdout",
     "output_type": "stream",
     "text": [
      "492/492 [==============================] - 1s 3ms/step\n"
     ]
    },
    {
     "data": {
      "text/plain": [
       "array([[3.5576029e-09, 1.7070841e-12, 9.1026271e-09, 1.9909467e-09,\n",
       "        9.9999899e-01, 9.8223609e-07],\n",
       "       [1.3211673e-01, 6.8680304e-03, 1.5923764e-04, 5.5820322e-01,\n",
       "        1.5141077e-03, 3.0113852e-01],\n",
       "       [4.5957030e-11, 2.0745048e-12, 6.1515404e-10, 2.8667266e-08,\n",
       "        9.9999994e-01, 2.4287170e-08],\n",
       "       ...,\n",
       "       [2.2424772e-04, 9.9839753e-01, 4.7384430e-05, 1.2572508e-03,\n",
       "        6.4150459e-05, 9.3593781e-06],\n",
       "       [1.6808267e-04, 1.0627615e-06, 9.9969935e-01, 3.3746525e-07,\n",
       "        1.7168728e-05, 1.1401278e-04],\n",
       "       [1.7378421e-05, 8.1297521e-06, 7.0788913e-09, 9.9964249e-01,\n",
       "        1.5434047e-05, 3.1646344e-04]], dtype=float32)"
      ]
     },
     "execution_count": 20,
     "metadata": {},
     "output_type": "execute_result"
    }
   ],
   "source": [
    "y_pred=model.predict(data_test)\n",
    "y_pred"
   ]
  },
  {
   "cell_type": "code",
   "execution_count": 21,
   "id": "2fc64d73",
   "metadata": {},
   "outputs": [
    {
     "data": {
      "text/plain": [
       "array([4, 3, 4, ..., 1, 2, 3])"
      ]
     },
     "execution_count": 21,
     "metadata": {},
     "output_type": "execute_result"
    }
   ],
   "source": [
    "y_pred=np.argmax(y_pred,axis=1)\n",
    "y_pred"
   ]
  },
  {
   "cell_type": "code",
   "execution_count": 22,
   "id": "4847bdf4",
   "metadata": {},
   "outputs": [],
   "source": [
    "from sklearn.metrics import confusion_matrix,classification_report\n",
    "import seaborn as sns"
   ]
  },
  {
   "cell_type": "code",
   "execution_count": 23,
   "id": "066b9c84",
   "metadata": {},
   "outputs": [
    {
     "data": {
      "text/plain": [
       "Text(50.722222222222214, 0.5, 'y_pred')"
      ]
     },
     "execution_count": 23,
     "metadata": {},
     "output_type": "execute_result"
    },
    {
     "data": {
      "image/png": "[encoded data removed]",
      "text/plain": [
       "<Figure size 640x480 with 2 Axes>"
      ]
     },
     "metadata": {},
     "output_type": "display_data"
    }
   ],
   "source": [
    "cm=confusion_matrix(y_test,y_pred)\n",
    "ax=sns.heatmap(cm,annot=True,cmap='Blues',fmt=' ')\n",
    "ax.set_title('Confusion Matrix')\n",
    "ax.set_xlabel('y_test')\n",
    "ax.set_ylabel('y_pred')"
   ]
  },
  {
   "cell_type": "code",
   "execution_count": 24,
   "id": "de84a187",
   "metadata": {},
   "outputs": [
    {
     "name": "stdout",
     "output_type": "stream",
     "text": [
      "              precision    recall  f1-score   support\n",
      "\n",
      "           0       0.59      0.41      0.48      2723\n",
      "           1       0.95      0.93      0.94      2583\n",
      "           2       0.96      0.96      0.96      2598\n",
      "           3       0.90      0.78      0.84      2584\n",
      "           4       0.95      0.98      0.97      2646\n",
      "           5       0.53      0.76      0.62      2605\n",
      "\n",
      "    accuracy                           0.80     15739\n",
      "   macro avg       0.81      0.80      0.80     15739\n",
      "weighted avg       0.81      0.80      0.80     15739\n",
      "\n"
     ]
    }
   ],
   "source": [
    "print(classification_report(y_test,y_pred))"
   ]
  },
  {
   "cell_type": "code",
   "execution_count": 54,
   "id": "424112d9",
   "metadata": {},
   "outputs": [
    {
     "name": "stderr",
     "output_type": "stream",
     "text": [
      "/Users/localadmin/anaconda3/lib/python3.11/site-packages/keras/src/engine/training.py:3103: UserWarning: You are saving your model as an HDF5 file via `model.save()`. This file format is considered legacy. We recommend using instead the native Keras format, e.g. `model.save('my_model.keras')`.\n",
      "  saving_api.save_model(\n"
     ]
    }
   ],
   "source": [
    "model.save(\"cnn_senti.h5\")"
   ]
  },
  {
   "cell_type": "code",
   "execution_count": null,
   "id": "0bd12dda",
   "metadata": {},
   "outputs": [],
   "source": []
  }
 ],
 "metadata": {
  "kernelspec": {
   "display_name": "Python 3 (ipykernel)",
   "language": "python",
   "name": "python3"
  },
  "language_info": {
   "codemirror_mode": {
    "name": "ipython",
    "version": 3
   },
   "file_extension": ".py",
   "mimetype": "text/x-python",
   "name": "python",
   "nbconvert_exporter": "python",
   "pygments_lexer": "ipython3",
   "version": "3.11.5"
  }
 },
 "nbformat": 4,
 "nbformat_minor": 5
}
