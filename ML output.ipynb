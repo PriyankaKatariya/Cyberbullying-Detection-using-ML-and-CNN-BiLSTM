{
 "cells": [
  {
   "cell_type": "code",
   "execution_count": 1,
   "id": "f7cfbe86",
   "metadata": {},
   "outputs": [
    {
     "name": "stdout",
     "output_type": "stream",
     "text": [
      "Enter the text to categorize: you are a woman stay at home\n",
      "Text is categorized as Gender Cyberbullying\n"
     ]
    }
   ],
   "source": [
    "import pickle\n",
    "from sklearn.feature_extraction.text import TfidfVectorizer\n",
    "import warnings\n",
    "warnings.filterwarnings('ignore')\n",
    "import pandas as pd\n",
    "from sklearn.model_selection import train_test_split\n",
    "from sklearn.linear_model import LogisticRegression\n",
    "\n",
    "df = pd.read_csv('cleaned_multiclass_dataset.csv')\n",
    "x=df['cleaned_text']\n",
    "y=df['label']\n",
    "x_train, x_test, y_train, y_test = train_test_split(x,y, test_size=0.2,stratify=y, random_state=42)\n",
    "tfidf_vectorizer = TfidfVectorizer()\n",
    "x_train_tfidf = tfidf_vectorizer.fit_transform(x_train)\n",
    "x_test_tfidf = tfidf_vectorizer.transform(x_test)\n",
    "log_reg= LogisticRegression()\n",
    "model = log_reg.fit(x_train_tfidf,y_train)\n",
    "\n",
    "\n",
    "with open('logregmulticlass.pkl','wb') as f:\n",
    "    pickle.dump(model,f)\n",
    "\n",
    "with open('logregmulticlass.pkl', 'rb') as model_file:\n",
    "    model = pickle.load(model_file)\n",
    "with open('tfidf_vectorizer_multiclass.pkl', 'rb') as vectorizer_file:\n",
    "    vectorizer = pickle.load(vectorizer_file)\n",
    "\n",
    "def categorize_text(input_text):\n",
    "    x_input = tfidf_vectorizer.transform(input_text)\n",
    "    category_prediction = model.predict(x_input)\n",
    "    return category_prediction[0]\n",
    "\n",
    "\n",
    "\n",
    "input_text = input(\"Enter the text to categorize: \")\n",
    "result = categorize_text([input_text])\n",
    "\n",
    "\n",
    "if result == 2:\n",
    "    print(\"Text is categorized as Age Cyberbullying\")\n",
    "elif result == 1:\n",
    "    print(\"Text is categorized as Religion Cyberbullying\")\n",
    "elif result == 3:\n",
    "    print(\"Text is categorized as Gender Cyberbullying\")\n",
    "elif result == 4:\n",
    "    print(\"Text is categorized as Ethnicity Cyberbullying\")\n",
    "elif result == 5:\n",
    "    print(\"Text is categorized as Other Cyberbullying\")\n",
    "elif result == 0:\n",
    "    print(\"Text is not categorized as Cyberbullying\")\n",
    "else:\n",
    "    print(\"Invalid category\")"
   ]
  },
  {
   "cell_type": "code",
   "execution_count": null,
   "id": "d64907ce",
   "metadata": {},
   "outputs": [],
   "source": []
  }
 ],
 "metadata": {
  "kernelspec": {
   "display_name": "Python 3 (ipykernel)",
   "language": "python",
   "name": "python3"
  },
  "language_info": {
   "codemirror_mode": {
    "name": "ipython",
    "version": 3
   },
   "file_extension": ".py",
   "mimetype": "text/x-python",
   "name": "python",
   "nbconvert_exporter": "python",
   "pygments_lexer": "ipython3",
   "version": "3.11.5"
  }
 },
 "nbformat": 4,
 "nbformat_minor": 5
}
