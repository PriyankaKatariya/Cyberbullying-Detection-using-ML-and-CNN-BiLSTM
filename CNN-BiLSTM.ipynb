{
 "cells": [
  {
   "cell_type": "code",
   "execution_count": 7,
   "id": "3e361ed8",
   "metadata": {},
   "outputs": [],
   "source": [
    "import pandas as pd\n",
    "import numpy as np\n",
    "from sklearn.model_selection import train_test_split"
   ]
  },
  {
   "cell_type": "code",
   "execution_count": 8,
   "id": "a72b9dcb",
   "metadata": {},
   "outputs": [
    {
     "data": {
      "text/html": [
       "<div>\n",
       "<style scoped>\n",
       "    .dataframe tbody tr th:only-of-type {\n",
       "        vertical-align: middle;\n",
       "    }\n",
       "\n",
       "    .dataframe tbody tr th {\n",
       "        vertical-align: top;\n",
       "    }\n",
       "\n",
       "    .dataframe thead th {\n",
       "        text-align: right;\n",
       "    }\n",
       "</style>\n",
       "<table border=\"1\" class=\"dataframe\">\n",
       "  <thead>\n",
       "    <tr style=\"text-align: right;\">\n",
       "      <th></th>\n",
       "      <th>cleaned_text</th>\n",
       "      <th>label</th>\n",
       "    </tr>\n",
       "  </thead>\n",
       "  <tbody>\n",
       "    <tr>\n",
       "      <th>0</th>\n",
       "      <td>['word', 'food', 'crapilicious']</td>\n",
       "      <td>0</td>\n",
       "    </tr>\n",
       "    <tr>\n",
       "      <th>1</th>\n",
       "      <td>['white']</td>\n",
       "      <td>0</td>\n",
       "    </tr>\n",
       "    <tr>\n",
       "      <th>2</th>\n",
       "      <td>['classy', 'whore', 'red', 'velvet', 'cupcake']</td>\n",
       "      <td>0</td>\n",
       "    </tr>\n",
       "    <tr>\n",
       "      <th>3</th>\n",
       "      <td>['meh', 'p', 'thanks', 'head', 'concerned', 'a...</td>\n",
       "      <td>0</td>\n",
       "    </tr>\n",
       "    <tr>\n",
       "      <th>4</th>\n",
       "      <td>['isi', 'account', 'pretending', 'kurdish', 'a...</td>\n",
       "      <td>0</td>\n",
       "    </tr>\n",
       "  </tbody>\n",
       "</table>\n",
       "</div>"
      ],
      "text/plain": [
       "                                        cleaned_text  label\n",
       "0                   ['word', 'food', 'crapilicious']      0\n",
       "1                                          ['white']      0\n",
       "2    ['classy', 'whore', 'red', 'velvet', 'cupcake']      0\n",
       "3  ['meh', 'p', 'thanks', 'head', 'concerned', 'a...      0\n",
       "4  ['isi', 'account', 'pretending', 'kurdish', 'a...      0"
      ]
     },
     "execution_count": 8,
     "metadata": {},
     "output_type": "execute_result"
    }
   ],
   "source": [
    "df = pd.read_csv('/Users/localadmin/Desktop/bda datasets/cleaned_multiclass_dataset.csv')\n",
    "df.head()"
   ]
  },
  {
   "cell_type": "code",
   "execution_count": 9,
   "id": "a1a284c8",
   "metadata": {},
   "outputs": [],
   "source": [
    "x= df['cleaned_text']\n",
    "y= df['label']"
   ]
  },
  {
   "cell_type": "code",
   "execution_count": 10,
   "id": "d2869298",
   "metadata": {},
   "outputs": [
    {
     "name": "stdout",
     "output_type": "stream",
     "text": [
      "(33384,) (14308,) (33384,) (14308,)\n"
     ]
    }
   ],
   "source": [
    "x_train, x_test, y_train, y_test = train_test_split(x,y, test_size=0.3,stratify=y, random_state=42)\n",
    "print(x_train.shape,x_test.shape, y_train.shape,y_test.shape)"
   ]
  },
  {
   "cell_type": "code",
   "execution_count": 11,
   "id": "230b7be5",
   "metadata": {},
   "outputs": [
    {
     "name": "stdout",
     "output_type": "stream",
     "text": [
      "np_x_train shape: (33384, 5000)\n",
      "np_x_test shape: (14308, 5000)\n",
      "np_y_train shape: (33384, 6)\n"
     ]
    }
   ],
   "source": [
    "from keras.preprocessing import text, sequence\n",
    "from keras.preprocessing.text import Tokenizer\n",
    "from keras.preprocessing.sequence import pad_sequences\n",
    "from keras.utils import to_categorical\n",
    "\n",
    "max_length = 5000\n",
    "max_features = 20000\n",
    "embedding_dim = 300\n",
    "\n",
    "x_all = []\n",
    "x_all.extend(x_test)\n",
    "x_all.extend(x_train)\n",
    "\n",
    "tk = Tokenizer(num_words=max_features, lower=True, filters='\\n\\t')\n",
    "tk.fit_on_texts(x_all)\n",
    "x_train_seq = tk.texts_to_sequences(x_train)\n",
    "x_test_seq = tk.texts_to_sequences(x_test)\n",
    "\n",
    "np_x_train = pad_sequences(x_train_seq, maxlen=max_length,  padding='post')\n",
    "np_x_test = pad_sequences(x_test_seq, maxlen=max_length,  padding='post')\n",
    "np_y_train = to_categorical(y_train)\n",
    "\n",
    "class_num = np_y_train.shape[1]\n",
    "\n",
    "print ('np_x_train shape: {}'.format(np_x_train.shape))\n",
    "print ('np_x_test shape: {}'.format(np_x_test.shape))\n",
    "print ('np_y_train shape: {}'.format(np_y_train.shape))"
   ]
  },
  {
   "cell_type": "code",
   "execution_count": null,
   "id": "1460dabb",
   "metadata": {},
   "outputs": [
    {
     "name": "stdout",
     "output_type": "stream",
     "text": [
      "Model: \"model_3\"\n",
      "_________________________________________________________________\n",
      " Layer (type)                Output Shape              Param #   \n",
      "=================================================================\n",
      " input_1 (InputLayer)        [(None, 5000)]            0         \n",
      "                                                                 \n",
      " embedding_1 (Embedding)     (None, 5000, 300)         6000000   \n",
      "                                                                 \n",
      " conv1d_1 (Conv1D)           (None, 4992, 32)          86432     \n",
      "                                                                 \n",
      " maxpool1d_1 (MaxPooling1D)  (None, 312, 32)           0         \n",
      "                                                                 \n",
      " dropout_1 (Dropout)         (None, 312, 32)           0         \n",
      "                                                                 \n",
      " conv1d_2 (Conv1D)           (None, 306, 32)           7200      \n",
      "                                                                 \n",
      " maxpool1d_2 (MaxPooling1D)  (None, 38, 32)            0         \n",
      "                                                                 \n",
      " dropout_2 (Dropout)         (None, 38, 32)            0         \n",
      "                                                                 \n",
      " bidirectional_1 (Bidirecti  (None, 64)                16640     \n",
      " onal)                                                           \n",
      "                                                                 \n",
      " preds (Dense)               (None, 6)                 390       \n",
      "                                                                 \n",
      "=================================================================\n",
      "Total params: 6110662 (23.31 MB)\n",
      "Trainable params: 6110662 (23.31 MB)\n",
      "Non-trainable params: 0 (0.00 Byte)\n",
      "_________________________________________________________________\n",
      "None\n",
      "Epoch 1/5\n",
      " 34/731 [>.............................] - ETA: 10:24 - loss: 1.7981 - accuracy: 0.1618"
     ]
    }
   ],
   "source": [
    "from keras.models import Model\n",
    "from keras.layers import *\n",
    "from keras.callbacks import EarlyStopping\n",
    "\n",
    "def one_input_classifier(max_length, max_features, embedding_dim, class_num):\n",
    "    inputs = Input(shape=(max_length,), name='input_1')\n",
    "    embeddings = Embedding(max_features, embedding_dim, input_length=max_length, name='embedding_1')(inputs)\n",
    "\n",
    "    conv_1 = Conv1D(32, 9, activation='relu', name='conv1d_1')(embeddings)\n",
    "    maxpool_1 = MaxPooling1D(16, name='maxpool1d_1')(conv_1)\n",
    "    dropout_1 = Dropout(0.2, name='dropout_1')(maxpool_1)\n",
    "\n",
    "    conv_2 = Conv1D(32, 7, activation='relu', name='conv1d_2')(dropout_1)\n",
    "    maxpool_2 = MaxPooling1D(8, name='maxpool1d_2')(conv_2)\n",
    "    dropout_2 = Dropout(0.2, name='dropout_2')(maxpool_2)\n",
    "\n",
    "    bilstm = Bidirectional(LSTM(32, dropout=0.2, recurrent_dropout=0.2, name='lstm_1'),\n",
    "        name='bidirectional_1')(dropout_2)\n",
    "    preds = Dense(class_num, activation='softmax', name='preds')(bilstm)\n",
    "\n",
    "    model = Model(inputs=inputs, outputs=preds)\n",
    "    model.compile(optimizer='adam', loss='categorical_crossentropy', metrics=['accuracy'])\n",
    "    return model\n",
    "\n",
    "models = []\n",
    "classifier_num = 10\n",
    "\n",
    "for i in range(classifier_num):\n",
    "    model = one_input_classifier(max_length, max_features, embedding_dim, class_num)\n",
    "\n",
    "    if i == 0:\n",
    "        print(model.summary())\n",
    "\n",
    "    model.fit(np_x_train, np_y_train, validation_split=0.3, shuffle=True, epochs=5, batch_size=32, verbose=1)\n",
    "    models.append(model)"
   ]
  },
  {
   "cell_type": "code",
   "execution_count": null,
   "id": "0c56b227",
   "metadata": {},
   "outputs": [],
   "source": []
  }
 ],
 "metadata": {
  "kernelspec": {
   "display_name": "Python 3 (ipykernel)",
   "language": "python",
   "name": "python3"
  },
  "language_info": {
   "codemirror_mode": {
    "name": "ipython",
    "version": 3
   },
   "file_extension": ".py",
   "mimetype": "text/x-python",
   "name": "python",
   "nbconvert_exporter": "python",
   "pygments_lexer": "ipython3",
   "version": "3.11.5"
  }
 },
 "nbformat": 4,
 "nbformat_minor": 5
}
